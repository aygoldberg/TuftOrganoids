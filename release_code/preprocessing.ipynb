{
 "cells": [
  {
   "cell_type": "code",
   "execution_count": 1,
   "id": "3e9fff9a",
   "metadata": {
    "scrolled": true
   },
   "outputs": [
    {
     "data": {
      "text/html": [
       "'/hpc/hub_oudenaarden/agiladi/data/tuft_release/release_code'"
      ],
      "text/latex": [
       "'/hpc/hub\\_oudenaarden/agiladi/data/tuft\\_release/release\\_code'"
      ],
      "text/markdown": [
       "'/hpc/hub_oudenaarden/agiladi/data/tuft_release/release_code'"
      ],
      "text/plain": [
       "[1] \"/hpc/hub_oudenaarden/agiladi/data/tuft_release/release_code\""
      ]
     },
     "metadata": {},
     "output_type": "display_data"
    }
   ],
   "source": [
    "getwd()"
   ]
  },
  {
   "cell_type": "code",
   "execution_count": 2,
   "id": "71bb7a36",
   "metadata": {},
   "outputs": [],
   "source": [
    "setwd(\"..\")"
   ]
  },
  {
   "cell_type": "code",
   "execution_count": 3,
   "id": "1fb6c543",
   "metadata": {},
   "outputs": [
    {
     "name": "stderr",
     "output_type": "stream",
     "text": [
      "Loading required package: reshape2\n",
      "Warning message:\n",
      "“package ‘reshape2’ was built under R version 3.6.3”Loading required package: plyr\n",
      "Loading required package: plotrix\n",
      "\n",
      "Attaching package: ‘metacell’\n",
      "\n",
      "The following objects are masked _by_ ‘.GlobalEnv’:\n",
      "\n",
      "    mc_colorize_sup_hierarchy, mcell_mat_rpt_cor_anchors,\n",
      "    mcell_mc_export_tab\n",
      "\n",
      "Loading required package: Biobase\n",
      "Loading required package: BiocGenerics\n",
      "Loading required package: parallel\n",
      "\n",
      "Attaching package: ‘BiocGenerics’\n",
      "\n",
      "The following objects are masked from ‘package:parallel’:\n",
      "\n",
      "    clusterApply, clusterApplyLB, clusterCall, clusterEvalQ,\n",
      "    clusterExport, clusterMap, parApply, parCapply, parLapply,\n",
      "    parLapplyLB, parRapply, parSapply, parSapplyLB\n",
      "\n",
      "The following objects are masked from ‘package:stats’:\n",
      "\n",
      "    IQR, mad, sd, var, xtabs\n",
      "\n",
      "The following objects are masked from ‘package:base’:\n",
      "\n",
      "    anyDuplicated, append, as.data.frame, basename, cbind, colnames,\n",
      "    dirname, do.call, duplicated, eval, evalq, Filter, Find, get, grep,\n",
      "    grepl, intersect, is.unsorted, lapply, Map, mapply, match, mget,\n",
      "    order, paste, pmax, pmax.int, pmin, pmin.int, Position, rank,\n",
      "    rbind, Reduce, rownames, sapply, setdiff, sort, table, tapply,\n",
      "    union, unique, unsplit, which, which.max, which.min\n",
      "\n",
      "Welcome to Bioconductor\n",
      "\n",
      "    Vignettes contain introductory material; view with\n",
      "    'browseVignettes()'. To cite Bioconductor, see\n",
      "    'citation(\"Biobase\")', and for packages 'citation(\"pkgname\")'.\n",
      "\n",
      "Setting options('download.file.method.GEOquery'='auto')\n",
      "Setting options('GEOquery.inmemory.gpl'=FALSE)\n"
     ]
    }
   ],
   "source": [
    "library(devtools)\n",
    "#source_url(\"https://raw.githubusercontent.com/aygoldberg/PIC-seq/master/scripts/metacell_functions.r\")\n",
    "source(\"release_code/metacell_functions.r\")\n",
    "library(\"Seurat\")\n",
    "library(gtools)\n",
    "library(metacell)\n",
    "library(GEOquery)"
   ]
  },
  {
   "cell_type": "code",
   "execution_count": 4,
   "id": "e5a3dd81",
   "metadata": {
    "scrolled": true
   },
   "outputs": [
    {
     "name": "stderr",
     "output_type": "stream",
     "text": [
      "Found 2 file(s)\n",
      "GSE233451-GPL18573_series_matrix.txt.gz\n",
      "\n",
      "── Column specification ────────────────────────────────────────────────────────\n",
      "cols(\n",
      "  ID_REF = col_character(),\n",
      "  GSM7428256 = col_character(),\n",
      "  GSM7428257 = col_character(),\n",
      "  GSM7428258 = col_character(),\n",
      "  GSM7428259 = col_character(),\n",
      "  GSM7428260 = col_character(),\n",
      "  GSM7428261 = col_character(),\n",
      "  GSM8378150 = col_character(),\n",
      "  GSM8378151 = col_character()\n",
      ")\n",
      "File stored at: \n",
      "/scratch/22337103/RtmpQnEK94/GPL18573.soft\n",
      "GSE233451-GPL24676_series_matrix.txt.gz\n",
      "\n",
      "── Column specification ────────────────────────────────────────────────────────\n",
      "cols(\n",
      "  ID_REF = col_character(),\n",
      "  GSM7428262 = col_character()\n",
      ")\n",
      "File stored at: \n",
      "/scratch/22337103/RtmpQnEK94/GPL24676.soft\n"
     ]
    }
   ],
   "source": [
    "gse_id = \"GSE233451\"\n",
    "gse=getGEO(gse_id)\n",
    "filePaths = getGEOSuppFiles(gse_id)"
   ]
  },
  {
   "cell_type": "code",
   "execution_count": 5,
   "id": "60020455",
   "metadata": {},
   "outputs": [
    {
     "data": {
      "text/html": [
       "<table>\n",
       "<thead><tr><th></th><th scope=col>size</th><th scope=col>isdir</th><th scope=col>mode</th><th scope=col>mtime</th><th scope=col>ctime</th><th scope=col>atime</th><th scope=col>uid</th><th scope=col>gid</th><th scope=col>uname</th><th scope=col>grname</th></tr></thead>\n",
       "<tbody>\n",
       "\t<tr><th scope=row>/hpc/hub_oudenaarden/agiladi/data/tuft_release/GSE233451/GSE233451_RAW.tar</th><td>290273280          </td><td>FALSE              </td><td>644                </td><td>2024-07-14 19:33:07</td><td>2024-07-14 19:33:07</td><td>2024-07-14 19:33:07</td><td>32419              </td><td>10308              </td><td>agiladi            </td><td>hub_oudenaarden    </td></tr>\n",
       "\t<tr><th scope=row>/hpc/hub_oudenaarden/agiladi/data/tuft_release/GSE233451/GSE233451_metadata.txt.gz</th><td>    57746          </td><td>FALSE              </td><td>644                </td><td>2024-07-14 19:33:08</td><td>2024-07-14 19:33:08</td><td>2024-07-14 19:33:08</td><td>32419              </td><td>10308              </td><td>agiladi            </td><td>hub_oudenaarden    </td></tr>\n",
       "</tbody>\n",
       "</table>\n"
      ],
      "text/latex": [
       "\\begin{tabular}{r|llllllllll}\n",
       "  & size & isdir & mode & mtime & ctime & atime & uid & gid & uname & grname\\\\\n",
       "\\hline\n",
       "\t/hpc/hub\\_oudenaarden/agiladi/data/tuft\\_release/GSE233451/GSE233451\\_RAW.tar & 290273280           & FALSE               & 644                 & 2024-07-14 19:33:07 & 2024-07-14 19:33:07 & 2024-07-14 19:33:07 & 32419               & 10308               & agiladi             & hub\\_oudenaarden  \\\\\n",
       "\t/hpc/hub\\_oudenaarden/agiladi/data/tuft\\_release/GSE233451/GSE233451\\_metadata.txt.gz &     57746           & FALSE               & 644                 & 2024-07-14 19:33:08 & 2024-07-14 19:33:08 & 2024-07-14 19:33:08 & 32419               & 10308               & agiladi             & hub\\_oudenaarden  \\\\\n",
       "\\end{tabular}\n"
      ],
      "text/markdown": [
       "\n",
       "| <!--/--> | size | isdir | mode | mtime | ctime | atime | uid | gid | uname | grname |\n",
       "|---|---|---|---|---|---|---|---|---|---|---|\n",
       "| /hpc/hub_oudenaarden/agiladi/data/tuft_release/GSE233451/GSE233451_RAW.tar | 290273280           | FALSE               | 644                 | 2024-07-14 19:33:07 | 2024-07-14 19:33:07 | 2024-07-14 19:33:07 | 32419               | 10308               | agiladi             | hub_oudenaarden     |\n",
       "| /hpc/hub_oudenaarden/agiladi/data/tuft_release/GSE233451/GSE233451_metadata.txt.gz |     57746           | FALSE               | 644                 | 2024-07-14 19:33:08 | 2024-07-14 19:33:08 | 2024-07-14 19:33:08 | 32419               | 10308               | agiladi             | hub_oudenaarden     |\n",
       "\n"
      ],
      "text/plain": [
       "                                                                                   size     \n",
       "/hpc/hub_oudenaarden/agiladi/data/tuft_release/GSE233451/GSE233451_RAW.tar         290273280\n",
       "/hpc/hub_oudenaarden/agiladi/data/tuft_release/GSE233451/GSE233451_metadata.txt.gz     57746\n",
       "                                                                                   isdir\n",
       "/hpc/hub_oudenaarden/agiladi/data/tuft_release/GSE233451/GSE233451_RAW.tar         FALSE\n",
       "/hpc/hub_oudenaarden/agiladi/data/tuft_release/GSE233451/GSE233451_metadata.txt.gz FALSE\n",
       "                                                                                   mode\n",
       "/hpc/hub_oudenaarden/agiladi/data/tuft_release/GSE233451/GSE233451_RAW.tar         644 \n",
       "/hpc/hub_oudenaarden/agiladi/data/tuft_release/GSE233451/GSE233451_metadata.txt.gz 644 \n",
       "                                                                                   mtime              \n",
       "/hpc/hub_oudenaarden/agiladi/data/tuft_release/GSE233451/GSE233451_RAW.tar         2024-07-14 19:33:07\n",
       "/hpc/hub_oudenaarden/agiladi/data/tuft_release/GSE233451/GSE233451_metadata.txt.gz 2024-07-14 19:33:08\n",
       "                                                                                   ctime              \n",
       "/hpc/hub_oudenaarden/agiladi/data/tuft_release/GSE233451/GSE233451_RAW.tar         2024-07-14 19:33:07\n",
       "/hpc/hub_oudenaarden/agiladi/data/tuft_release/GSE233451/GSE233451_metadata.txt.gz 2024-07-14 19:33:08\n",
       "                                                                                   atime              \n",
       "/hpc/hub_oudenaarden/agiladi/data/tuft_release/GSE233451/GSE233451_RAW.tar         2024-07-14 19:33:07\n",
       "/hpc/hub_oudenaarden/agiladi/data/tuft_release/GSE233451/GSE233451_metadata.txt.gz 2024-07-14 19:33:08\n",
       "                                                                                   uid  \n",
       "/hpc/hub_oudenaarden/agiladi/data/tuft_release/GSE233451/GSE233451_RAW.tar         32419\n",
       "/hpc/hub_oudenaarden/agiladi/data/tuft_release/GSE233451/GSE233451_metadata.txt.gz 32419\n",
       "                                                                                   gid  \n",
       "/hpc/hub_oudenaarden/agiladi/data/tuft_release/GSE233451/GSE233451_RAW.tar         10308\n",
       "/hpc/hub_oudenaarden/agiladi/data/tuft_release/GSE233451/GSE233451_metadata.txt.gz 10308\n",
       "                                                                                   uname  \n",
       "/hpc/hub_oudenaarden/agiladi/data/tuft_release/GSE233451/GSE233451_RAW.tar         agiladi\n",
       "/hpc/hub_oudenaarden/agiladi/data/tuft_release/GSE233451/GSE233451_metadata.txt.gz agiladi\n",
       "                                                                                   grname         \n",
       "/hpc/hub_oudenaarden/agiladi/data/tuft_release/GSE233451/GSE233451_RAW.tar         hub_oudenaarden\n",
       "/hpc/hub_oudenaarden/agiladi/data/tuft_release/GSE233451/GSE233451_metadata.txt.gz hub_oudenaarden"
      ]
     },
     "metadata": {},
     "output_type": "display_data"
    }
   ],
   "source": [
    "filePaths"
   ]
  },
  {
   "cell_type": "code",
   "execution_count": 6,
   "id": "f0b2e89d",
   "metadata": {},
   "outputs": [
    {
     "name": "stderr",
     "output_type": "stream",
     "text": [
      "Warning message in dir.create(umidir):\n",
      "“'release_umi.tab' already exists”"
     ]
    }
   ],
   "source": [
    "raw_path = grep(\"RAW\", rownames(filePaths), v=T)\n",
    "umidir = \"release_umi.tab/\"\n",
    "dir.create(umidir)\n",
    "untar(raw_path, exdir = umidir)"
   ]
  },
  {
   "cell_type": "code",
   "execution_count": 7,
   "id": "78fdd546",
   "metadata": {},
   "outputs": [],
   "source": [
    "setwd(umidir)\n",
    "#system(\"gzip -d *.gz\")\n",
    "system(\"ls -1 | awk -F'_' '{print $0,$2}' | xargs -n 2 mv\")\n",
    "setwd(\"..\")"
   ]
  },
  {
   "cell_type": "code",
   "execution_count": 8,
   "id": "9b36ce61",
   "metadata": {},
   "outputs": [
    {
     "data": {
      "text/html": [
       "<table>\n",
       "<thead><tr><th></th><th scope=col>amp_batch_id</th><th scope=col>cell_barcode</th><th scope=col>umicount</th><th scope=col>mt_count</th><th scope=col>coord</th><th scope=col>source</th><th scope=col>type</th><th scope=col>gating</th><th scope=col>treatment</th><th scope=col>age</th><th scope=col>clover</th></tr></thead>\n",
       "<tbody>\n",
       "\t<tr><th scope=row>HUB.JO.s037_AAACAGGC</th><td>HUB.JO.s037 </td><td>AAACAGGC    </td><td>7296        </td><td>1280        </td><td>H18         </td><td>Ileum       </td><td>organoid    </td><td>AVIL-Clover+</td><td>no_cyto     </td><td>adult       </td><td>AVIL        </td></tr>\n",
       "\t<tr><th scope=row>HUB.JO.s037_AAAGCGGA</th><td>HUB.JO.s037 </td><td>AAAGCGGA    </td><td>3461        </td><td> 626        </td><td>P12         </td><td>Ileum       </td><td>organoid    </td><td>AVIL-Clover+</td><td>IL4+IL13    </td><td>adult       </td><td>AVIL        </td></tr>\n",
       "\t<tr><th scope=row>HUB.JO.s037_AAAGGCTG</th><td>HUB.JO.s037 </td><td>AAAGGCTG    </td><td>4062        </td><td>1019        </td><td>O10         </td><td>Ileum       </td><td>organoid    </td><td>AVIL-Clover+</td><td>IL4+IL13    </td><td>adult       </td><td>AVIL        </td></tr>\n",
       "\t<tr><th scope=row>HUB.JO.s037_AACACGCA</th><td>HUB.JO.s037 </td><td>AACACGCA    </td><td>8352        </td><td>1471        </td><td>L20         </td><td>Ileum       </td><td>organoid    </td><td>AVIL-Clover+</td><td>IL4+IL13    </td><td>adult       </td><td>AVIL        </td></tr>\n",
       "\t<tr><th scope=row>HUB.JO.s037_AACATGGG</th><td>HUB.JO.s037 </td><td>AACATGGG    </td><td>4986        </td><td> 692        </td><td>P10         </td><td>Ileum       </td><td>organoid    </td><td>AVIL-Clover+</td><td>IL4+IL13    </td><td>adult       </td><td>AVIL        </td></tr>\n",
       "\t<tr><th scope=row>HUB.JO.s037_AACCCAAC</th><td>HUB.JO.s037 </td><td>AACCCAAC    </td><td>8453        </td><td>1449        </td><td>O15         </td><td>Ileum       </td><td>organoid    </td><td>AVIL-Clover+</td><td>IL4+IL13    </td><td>adult       </td><td>AVIL        </td></tr>\n",
       "</tbody>\n",
       "</table>\n"
      ],
      "text/latex": [
       "\\begin{tabular}{r|lllllllllll}\n",
       "  & amp\\_batch\\_id & cell\\_barcode & umicount & mt\\_count & coord & source & type & gating & treatment & age & clover\\\\\n",
       "\\hline\n",
       "\tHUB.JO.s037\\_AAACAGGC & HUB.JO.s037  & AAACAGGC     & 7296         & 1280         & H18          & Ileum        & organoid     & AVIL-Clover+ & no\\_cyto    & adult        & AVIL        \\\\\n",
       "\tHUB.JO.s037\\_AAAGCGGA & HUB.JO.s037  & AAAGCGGA     & 3461         &  626         & P12          & Ileum        & organoid     & AVIL-Clover+ & IL4+IL13     & adult        & AVIL        \\\\\n",
       "\tHUB.JO.s037\\_AAAGGCTG & HUB.JO.s037  & AAAGGCTG     & 4062         & 1019         & O10          & Ileum        & organoid     & AVIL-Clover+ & IL4+IL13     & adult        & AVIL        \\\\\n",
       "\tHUB.JO.s037\\_AACACGCA & HUB.JO.s037  & AACACGCA     & 8352         & 1471         & L20          & Ileum        & organoid     & AVIL-Clover+ & IL4+IL13     & adult        & AVIL        \\\\\n",
       "\tHUB.JO.s037\\_AACATGGG & HUB.JO.s037  & AACATGGG     & 4986         &  692         & P10          & Ileum        & organoid     & AVIL-Clover+ & IL4+IL13     & adult        & AVIL        \\\\\n",
       "\tHUB.JO.s037\\_AACCCAAC & HUB.JO.s037  & AACCCAAC     & 8453         & 1449         & O15          & Ileum        & organoid     & AVIL-Clover+ & IL4+IL13     & adult        & AVIL        \\\\\n",
       "\\end{tabular}\n"
      ],
      "text/markdown": [
       "\n",
       "| <!--/--> | amp_batch_id | cell_barcode | umicount | mt_count | coord | source | type | gating | treatment | age | clover |\n",
       "|---|---|---|---|---|---|---|---|---|---|---|---|\n",
       "| HUB.JO.s037_AAACAGGC | HUB.JO.s037  | AAACAGGC     | 7296         | 1280         | H18          | Ileum        | organoid     | AVIL-Clover+ | no_cyto      | adult        | AVIL         |\n",
       "| HUB.JO.s037_AAAGCGGA | HUB.JO.s037  | AAAGCGGA     | 3461         |  626         | P12          | Ileum        | organoid     | AVIL-Clover+ | IL4+IL13     | adult        | AVIL         |\n",
       "| HUB.JO.s037_AAAGGCTG | HUB.JO.s037  | AAAGGCTG     | 4062         | 1019         | O10          | Ileum        | organoid     | AVIL-Clover+ | IL4+IL13     | adult        | AVIL         |\n",
       "| HUB.JO.s037_AACACGCA | HUB.JO.s037  | AACACGCA     | 8352         | 1471         | L20          | Ileum        | organoid     | AVIL-Clover+ | IL4+IL13     | adult        | AVIL         |\n",
       "| HUB.JO.s037_AACATGGG | HUB.JO.s037  | AACATGGG     | 4986         |  692         | P10          | Ileum        | organoid     | AVIL-Clover+ | IL4+IL13     | adult        | AVIL         |\n",
       "| HUB.JO.s037_AACCCAAC | HUB.JO.s037  | AACCCAAC     | 8453         | 1449         | O15          | Ileum        | organoid     | AVIL-Clover+ | IL4+IL13     | adult        | AVIL         |\n",
       "\n"
      ],
      "text/plain": [
       "                     amp_batch_id cell_barcode umicount mt_count coord source\n",
       "HUB.JO.s037_AAACAGGC HUB.JO.s037  AAACAGGC     7296     1280     H18   Ileum \n",
       "HUB.JO.s037_AAAGCGGA HUB.JO.s037  AAAGCGGA     3461      626     P12   Ileum \n",
       "HUB.JO.s037_AAAGGCTG HUB.JO.s037  AAAGGCTG     4062     1019     O10   Ileum \n",
       "HUB.JO.s037_AACACGCA HUB.JO.s037  AACACGCA     8352     1471     L20   Ileum \n",
       "HUB.JO.s037_AACATGGG HUB.JO.s037  AACATGGG     4986      692     P10   Ileum \n",
       "HUB.JO.s037_AACCCAAC HUB.JO.s037  AACCCAAC     8453     1449     O15   Ileum \n",
       "                     type     gating       treatment age   clover\n",
       "HUB.JO.s037_AAACAGGC organoid AVIL-Clover+ no_cyto   adult AVIL  \n",
       "HUB.JO.s037_AAAGCGGA organoid AVIL-Clover+ IL4+IL13  adult AVIL  \n",
       "HUB.JO.s037_AAAGGCTG organoid AVIL-Clover+ IL4+IL13  adult AVIL  \n",
       "HUB.JO.s037_AACACGCA organoid AVIL-Clover+ IL4+IL13  adult AVIL  \n",
       "HUB.JO.s037_AACATGGG organoid AVIL-Clover+ IL4+IL13  adult AVIL  \n",
       "HUB.JO.s037_AACCCAAC organoid AVIL-Clover+ IL4+IL13  adult AVIL  "
      ]
     },
     "metadata": {},
     "output_type": "display_data"
    },
    {
     "data": {
      "text/plain": [
       "\n",
       "HUB.JO.s037 HUB.JO.s042 HUB.JO.s043 HUB.JO.s054 HUB.JO.s057 HUB.JO.s058 \n",
       "        384         384         380         383         384         384 \n",
       "HUB.LH.s001 HUB.LH.s002 HUB.LH.s003 HUB.LH.s009 \n",
       "        383         384         384         384 "
      ]
     },
     "metadata": {},
     "output_type": "display_data"
    }
   ],
   "source": [
    "metadata_fn = grep(\"metadata\", rownames(filePaths), v=T)\n",
    "cell_metadata = read.delim(metadata_fn, stringsAsFactors = F, row.names = 1)\n",
    "head(cell_metadata)\n",
    "table(cell_metadata$amp_batch_id)"
   ]
  },
  {
   "cell_type": "code",
   "execution_count": 9,
   "id": "8a5102e6",
   "metadata": {},
   "outputs": [
    {
     "data": {
      "text/html": [
       "8"
      ],
      "text/latex": [
       "8"
      ],
      "text/markdown": [
       "8"
      ],
      "text/plain": [
       "[1] 8"
      ]
     },
     "metadata": {},
     "output_type": "display_data"
    },
    {
     "data": {
      "text/html": [
       "<ol class=list-inline>\n",
       "\t<li>25267</li>\n",
       "\t<li>25502</li>\n",
       "\t<li>24643</li>\n",
       "\t<li>26898</li>\n",
       "\t<li>25126</li>\n",
       "\t<li>22283</li>\n",
       "\t<li>25742</li>\n",
       "\t<li>24955</li>\n",
       "</ol>\n"
      ],
      "text/latex": [
       "\\begin{enumerate*}\n",
       "\\item 25267\n",
       "\\item 25502\n",
       "\\item 24643\n",
       "\\item 26898\n",
       "\\item 25126\n",
       "\\item 22283\n",
       "\\item 25742\n",
       "\\item 24955\n",
       "\\end{enumerate*}\n"
      ],
      "text/markdown": [
       "1. 25267\n",
       "2. 25502\n",
       "3. 24643\n",
       "4. 26898\n",
       "5. 25126\n",
       "6. 22283\n",
       "7. 25742\n",
       "8. 24955\n",
       "\n",
       "\n"
      ],
      "text/plain": [
       "[1] 25267 25502 24643 26898 25126 22283 25742 24955"
      ]
     },
     "metadata": {},
     "output_type": "display_data"
    }
   ],
   "source": [
    "umi_files = list.files(umidir, pattern = \"*.txt\")\n",
    "data_list = lapply(paste0(umidir, \"/\", umi_files), read.delim, stringsAsFactor=F, row.names=1)\n",
    "length(data_list)\n",
    "sapply(data_list, nrow)"
   ]
  },
  {
   "cell_type": "code",
   "execution_count": null,
   "id": "49ba8070",
   "metadata": {},
   "outputs": [],
   "source": [
    "names(data_list) = vecsplit(umi_files, \"\\\\.\", 1)\n",
    "names(data_list)"
   ]
  },
  {
   "cell_type": "code",
   "execution_count": null,
   "id": "32f59846",
   "metadata": {},
   "outputs": [],
   "source": [
    "genes = names(table(unlist(lapply(data_list, rownames))))\n",
    "length(genes)\n",
    "tail(genes)"
   ]
  },
  {
   "cell_type": "code",
   "execution_count": null,
   "id": "f3f925f3",
   "metadata": {},
   "outputs": [],
   "source": [
    "cells = #paste0(rep(names(data_list), sapply(data_list, ncol)), \"_\", \n",
    "               sapply(data_list, colnames)\n",
    "length(cells)\n",
    "sapply(cells, length)"
   ]
  },
  {
   "cell_type": "code",
   "execution_count": null,
   "id": "7e698742",
   "metadata": {},
   "outputs": [],
   "source": [
    "cells = #paste0(rep(names(data_list), sapply(data_list, ncol)), \"_\", \n",
    "               unlist(sapply(data_list, colnames))\n",
    "head(cells)\n",
    "tail(cells)"
   ]
  },
  {
   "cell_type": "code",
   "execution_count": null,
   "id": "67037673",
   "metadata": {},
   "outputs": [],
   "source": [
    "data = matrix(0, nrow = length(genes), ncol = length(cells), dimnames = list(genes, cells))\n",
    "for (samp in names(data_list)) {\n",
    "    X = data_list[[samp]]\n",
    "    shared = intersect(genes, rownames(X))\n",
    "    message(samp, \": \", length(shared), \" genes and \", ncol(X), \" cells\")    \n",
    "    #data[ shared, paste0(samp, \"_\", colnames(X))] = as.matrix(X[shared,])\n",
    "    data[ shared, colnames(X)] = as.matrix(X[shared,])\n",
    "}"
   ]
  },
  {
   "cell_type": "code",
   "execution_count": null,
   "id": "8ff93b7c",
   "metadata": {},
   "outputs": [],
   "source": [
    "venn(colnames(data), rownames(cell_metadata))"
   ]
  },
  {
   "cell_type": "code",
   "execution_count": null,
   "id": "5a212f6d",
   "metadata": {},
   "outputs": [],
   "source": [
    "dir.create(\"saved_work/\")\n",
    "scdb_init(\"saved_work/\", force_reinit=T)\n",
    "id = \"tuft\"\n",
    "id_all = \"tuft_all\""
   ]
  },
  {
   "cell_type": "code",
   "execution_count": null,
   "id": "3884bc8c",
   "metadata": {},
   "outputs": [],
   "source": [
    "scdb_add_mat(id_all, tgScMat(mat=data, cell_metadata=cell_metadata[ colnames(data),]))"
   ]
  },
  {
   "cell_type": "code",
   "execution_count": null,
   "id": "88361317",
   "metadata": {},
   "outputs": [],
   "source": [
    "bad_genes = unique(c(grep(\"ERCC|^MT-\", rownames(data), v=T)))\n",
    "bad_genes"
   ]
  },
  {
   "cell_type": "code",
   "execution_count": null,
   "id": "c07e0eb1",
   "metadata": {
    "scrolled": true
   },
   "outputs": [],
   "source": [
    "import_metacell_structure(id = \"ileum_organoids\", \n",
    "                        folder = \"release_import/figure3_cs2/\", \n",
    "                        all_id = \"tuft_all\", \n",
    "                        bad_genes = bad_genes, \n",
    "                        url = NULL)"
   ]
  },
  {
   "cell_type": "markdown",
   "id": "f8b1f25c",
   "metadata": {},
   "source": [
    "## Import 10x data"
   ]
  },
  {
   "cell_type": "code",
   "execution_count": null,
   "id": "ce243ab5",
   "metadata": {},
   "outputs": [],
   "source": [
    "list.files(umidir)"
   ]
  },
  {
   "cell_type": "code",
   "execution_count": null,
   "id": "aa90de10",
   "metadata": {},
   "outputs": [],
   "source": [
    "umidir = \"release_umi.tab/\""
   ]
  },
  {
   "cell_type": "code",
   "execution_count": null,
   "id": "d10db7e6",
   "metadata": {},
   "outputs": [],
   "source": [
    "data = Seurat::Read10X(data.dir = umidir)"
   ]
  },
  {
   "cell_type": "code",
   "execution_count": null,
   "id": "3ea922bb",
   "metadata": {},
   "outputs": [],
   "source": [
    "cellplex = as.matrix(data[[2]])\n",
    "dim(cellplex)\n",
    "head(t(cellplex))"
   ]
  },
  {
   "cell_type": "code",
   "execution_count": null,
   "id": "86508ba4",
   "metadata": {},
   "outputs": [],
   "source": [
    "first = apply(cellplex, 2, max)\n",
    "second = apply(cellplex, 2, function(x) sort(x,T)[2])"
   ]
  },
  {
   "cell_type": "markdown",
   "id": "ad44dd5f",
   "metadata": {},
   "source": [
    "roof = 2e5\n",
    "idx = sample(seq_along(first), roof)\n",
    "x = log2(second + 1)\n",
    "y = log2(first + 1)\n",
    "z = log2((first + 1) / (second + 1))\n",
    "plot(x[idx],y[idx],pch = 20, cex = 0.7)\n",
    "grid(col = \"blue\")\n",
    "abline(coef = c(0,1))\n",
    "abline(coef = c(3,1), lty=2, lwd=2)\n",
    "abline(h=7, lty=2, lwd=2)\n",
    "#table(first > 0, second > 0)"
   ]
  },
  {
   "cell_type": "code",
   "execution_count": null,
   "id": "84a36a32",
   "metadata": {},
   "outputs": [],
   "source": [
    "y = log2(first + 1)\n",
    "z = log2((first + 1) / (second + 1))\n",
    "\n",
    "good_cells = names(which(y > 6 & z > 3))\n",
    "length(good_cells)\n",
    "head(good_cells)"
   ]
  },
  {
   "cell_type": "code",
   "execution_count": null,
   "id": "bfb5a17f",
   "metadata": {},
   "outputs": [],
   "source": [
    "data = as.matrix(data[[1]][,good_cells])\n",
    "dim(data)"
   ]
  },
  {
   "cell_type": "code",
   "execution_count": null,
   "id": "2de7e84a",
   "metadata": {},
   "outputs": [],
   "source": [
    "tag = rownames(cellplex)[ max.col(t(cellplex))]\n",
    "names(tag) = colnames(cellplex)\n",
    "head(tag)\n",
    "table(tag[ good_cells])"
   ]
  },
  {
   "cell_type": "code",
   "execution_count": null,
   "id": "481c3a1f",
   "metadata": {},
   "outputs": [],
   "source": [
    "cellplex_md = read.delim(\"release_import/figure4_10x/tuft_10x_metadata.txt\", stringsAsFactors = F, row.names = 1)\n",
    "cellplex_md"
   ]
  },
  {
   "cell_type": "code",
   "execution_count": null,
   "id": "7a5b59e8",
   "metadata": {},
   "outputs": [],
   "source": [
    "cell_metadata = cbind(tag = tag[ good_cells], cellplex_md[ tag[ good_cells],], umicount = colSums(data[,good_cells]))\n",
    "rownames(cell_metadata) = good_cells\n",
    "head(cell_metadata)\n",
    "tail(cell_metadata)"
   ]
  },
  {
   "cell_type": "code",
   "execution_count": null,
   "id": "cce3a493",
   "metadata": {},
   "outputs": [],
   "source": [
    "colnames(data) = paste0(colnames(data), \"-1\")\n",
    "rownames(cell_metadata) = paste0(rownames(cell_metadata), \"-1\")\n",
    "head(colnames(data))\n",
    "head(cell_metadata)"
   ]
  },
  {
   "cell_type": "code",
   "execution_count": null,
   "id": "d3e936c6",
   "metadata": {},
   "outputs": [],
   "source": [
    "id = \"10x\"\n",
    "id_all = \"10x_all\""
   ]
  },
  {
   "cell_type": "code",
   "execution_count": null,
   "id": "3b5752d1",
   "metadata": {},
   "outputs": [],
   "source": [
    "scdb_add_mat(id_all, tgScMat(mat=data[, rownames(cell_metadata)], cell_metadata=cell_metadata))"
   ]
  },
  {
   "cell_type": "code",
   "execution_count": null,
   "id": "8f443204",
   "metadata": {},
   "outputs": [],
   "source": [
    "bad_genes = unique(c(grep(\"^MT-|^ERCC|^IG[HLK]\", rownames(data), v=T)))\n",
    "bad_genes"
   ]
  },
  {
   "cell_type": "code",
   "execution_count": null,
   "id": "e73cf985",
   "metadata": {},
   "outputs": [],
   "source": [
    "import_metacell_structure(id = id, \n",
    "                        folder = \"release_import/figure4_10x/\", \n",
    "                        all_id = id_all, \n",
    "                        bad_genes = bad_genes, \n",
    "                        url = NULL)"
   ]
  },
  {
   "cell_type": "markdown",
   "id": "5e725ca4",
   "metadata": {},
   "source": [
    "## Download and organize published data"
   ]
  },
  {
   "cell_type": "code",
   "execution_count": null,
   "id": "db39e5d5",
   "metadata": {},
   "outputs": [],
   "source": [
    "# Teichman's data\n",
    "\n",
    "setwd(\"release_umi.tab/\")\n",
    "system(\"wget https://cellgeni.cog.sanger.ac.uk/gutcellatlas/Full_obj_raw_counts_nosoupx_v2.h5ad\")\n",
    "setwd(\"..\")"
   ]
  },
  {
   "cell_type": "code",
   "execution_count": null,
   "id": "e95ec04c",
   "metadata": {},
   "outputs": [],
   "source": [
    "library(SeuratDisk)\n",
    "\n",
    "Convert(\"release_umi.tab/Full_obj_raw_counts_nosoupx_v2.h5ad\", dest=\"h5seurat\", overwrite=T)\n",
    "obj = LoadH5Seurat(\"release_umi.tab/Full_obj_raw_counts_nosoupx_v2.h5seurat\")\n"
   ]
  },
  {
   "cell_type": "code",
   "execution_count": null,
   "id": "17aa7fb2",
   "metadata": {},
   "outputs": [],
   "source": [
    "# Hickey's data"
   ]
  },
  {
   "cell_type": "markdown",
   "id": "858a9407",
   "metadata": {},
   "source": [
    "links = read.delim(\"release_import/figure1_Hickey/links.txt\", stringsAsFactors = F, h=F, skip = 1)\n",
    "data_files = grep(\"\\\\.gz\", links[,\"V2\"])\n",
    "links$folder = \"./\"\n",
    "links[ data_files, \"folder\"] = vecsplit(links[ data_files, \"V2\"], \"_\", 1)\n",
    "links$file = links$V2\n",
    "links[ data_files, \"file\"] = vecsplit(links[ data_files, \"V2\"], \"_\", 2)\n",
    "\n",
    "#links$file = vecsplit(links$V2, \"_\", 2)\n",
    "links"
   ]
  },
  {
   "cell_type": "markdown",
   "id": "830ba261",
   "metadata": {},
   "source": [
    "curdir = getwd()\n",
    "umidir = paste0(curdir, \"/release_umi.tab/figure1_Hickey\")\n",
    "umidir\n",
    "dir.create(umidir)"
   ]
  },
  {
   "cell_type": "markdown",
   "id": "b250be0a",
   "metadata": {},
   "source": [
    "head(links, 10)"
   ]
  },
  {
   "cell_type": "markdown",
   "id": "6b518f8c",
   "metadata": {
    "scrolled": true
   },
   "source": [
    "setwd(umidir)\n",
    "\n",
    "p = function(i, links) {\n",
    "    message(links[i, \"V2\"])\n",
    "    dir.create(links[i, \"folder\"], showWarnings = F)\n",
    "    cmd1 = paste0(curdir, \"/release_code/download_wrapper.sh \", links[i, \"V3\"], \" \", links[i, \"V1\"], \" \", links[i, \"folder\"], \"/\", links[i, \"file\"])\n",
    "    message(cmd1)\n",
    "    system(cmd1)\n",
    "    \n",
    "}\n",
    "\n",
    "#invisible(sapply(seq_len(nrow(links)), p, links))\n",
    "invisible(sapply(seq_len(1), p, links))\n",
    "\n",
    "setwd(curdir)"
   ]
  },
  {
   "cell_type": "markdown",
   "id": "af27c09d",
   "metadata": {},
   "source": [
    "setwd(umidir)\n",
    "folders = names(table(links$folder))\n",
    "invisible(sapply(folders, dir.create, showWarnings = F))\n",
    "setwd(curdir)\n",
    "\n",
    "cmds = sapply(seq_len(nrow(links)), function(i) \n",
    "    paste0(curdir, \"/release_code/download_wrapper.sh \", links[i, \"V3\"], \" \", links[i, \"V1\"], \" \", links[i, \"folder\"], \"/\", links[i, \"file\"]))\n",
    "write.table(cmds, quote = F, row.names = F)"
   ]
  },
  {
   "cell_type": "markdown",
   "id": "4e704cce",
   "metadata": {},
   "source": [
    "setwd(umidir)\n",
    "i = 1\n",
    "    message(links[i, \"V2\"])\n",
    "    dir.create(links[i, \"folder\"], showWarnings = F)\n",
    "    setwd(links[i, \"folder\"])\n",
    "    message(getwd())\n",
    "    #cmd1 = paste0('wget --user-agent=\"Mozilla/5.0 (Windows NT 10.0; Win64; x64) AppleWebKit/537.36 (KHTML, like Gecko) Chrome/91.0.4472.124 Safari/537.36\" ',\n",
    "    #             links[i, \"V3\"])\n",
    "\n",
    "    cmd1 = paste0(curdir, \"/release_code/download_wrapper.sh \", links[i, \"V3\"], \" \", links[i, \"V1\"], \" \", links[i, \"file\"])\n",
    "    message(cmd1)\n",
    "    system(cmd1)\n",
    "    #cmd2 = paste0(\"mv \", links[i, \"V1\"], \" \", links[i, \"file\"])\n",
    "    #message(cmd2)\n",
    "    #system(cmd2)\n",
    "setwd(curdir)\n"
   ]
  },
  {
   "cell_type": "markdown",
   "id": "a050b198",
   "metadata": {},
   "source": [
    "#setwd(\"/hpc/hub_oudenaarden/agiladi/data/tuft_release/\")\n",
    "getwd()\n"
   ]
  },
  {
   "cell_type": "markdown",
   "id": "34e29ad1",
   "metadata": {},
   "source": [
    "system('wget http://datadryad.org/stash/downloads/file_stream/2121068')\n"
   ]
  },
  {
   "cell_type": "code",
   "execution_count": 4,
   "id": "e00df82e",
   "metadata": {},
   "outputs": [
    {
     "data": {
      "text/html": [
       "<ol class=list-inline>\n",
       "\t<li>'B001-A-001'</li>\n",
       "\t<li>'B001-A-006'</li>\n",
       "\t<li>'B001-A-101'</li>\n",
       "\t<li>'B001-A-201'</li>\n",
       "\t<li>'B001-A-301'</li>\n",
       "\t<li>'B001-A-401'</li>\n",
       "\t<li>'B001-A-406'</li>\n",
       "\t<li>'B001-A-501'</li>\n",
       "\t<li>'B004-A-004'</li>\n",
       "\t<li>'B004-A-008'</li>\n",
       "\t<li>'B004-A-104'</li>\n",
       "\t<li>'B004-A-104-R2'</li>\n",
       "\t<li>'B004-A-204'</li>\n",
       "\t<li>'B004-A-304'</li>\n",
       "\t<li>'B004-A-404'</li>\n",
       "\t<li>'B004-A-404-R2'</li>\n",
       "\t<li>'B004-A-408'</li>\n",
       "\t<li>'B004-A-408-R2'</li>\n",
       "\t<li>'B004-A-504'</li>\n",
       "\t<li>'B004-A-504-R2'</li>\n",
       "\t<li>'B005-A-001'</li>\n",
       "\t<li>'B005-A-002'</li>\n",
       "\t<li>'B005-A-101'</li>\n",
       "\t<li>'B005-A-201'</li>\n",
       "\t<li>'B005-A-301'</li>\n",
       "\t<li>'B005-A-401'</li>\n",
       "\t<li>'B005-A-402'</li>\n",
       "\t<li>'B005-A-501'</li>\n",
       "\t<li>'B005-A-501-R2'</li>\n",
       "\t<li>'B006-A-001'</li>\n",
       "\t<li>'B006-A-002'</li>\n",
       "\t<li>'B006-A-101'</li>\n",
       "\t<li>'B006-A-201'</li>\n",
       "\t<li>'B006-A-201-R2'</li>\n",
       "\t<li>'B006-A-301'</li>\n",
       "\t<li>'B006-A-401'</li>\n",
       "\t<li>'B006-A-402'</li>\n",
       "\t<li>'B006-A-501'</li>\n",
       "\t<li>'B008-A-001'</li>\n",
       "\t<li>'B008-A-002'</li>\n",
       "\t<li>'B008-A-101'</li>\n",
       "\t<li>'B008-A-201'</li>\n",
       "\t<li>'B008-A-301'</li>\n",
       "\t<li>'B008-A-401'</li>\n",
       "\t<li>'B008-A-402'</li>\n",
       "\t<li>'B008-A-501'</li>\n",
       "\t<li>'B009-A-001'</li>\n",
       "\t<li>'B009-A-101'</li>\n",
       "\t<li>'B009-A-301'</li>\n",
       "\t<li>'B009-A-401'</li>\n",
       "\t<li>'B009-A-405'</li>\n",
       "\t<li>'B010-A-001'</li>\n",
       "\t<li>'B010-A-002'</li>\n",
       "\t<li>'B010-A-101'</li>\n",
       "\t<li>'B010-A-201'</li>\n",
       "\t<li>'B010-A-301'</li>\n",
       "\t<li>'B010-A-401'</li>\n",
       "\t<li>'B010-A-405'</li>\n",
       "\t<li>'B010-A-501'</li>\n",
       "\t<li>'B011-A-001'</li>\n",
       "\t<li>'B011-A-002'</li>\n",
       "\t<li>'B011-A-101'</li>\n",
       "\t<li>'B011-A-201'</li>\n",
       "\t<li>'B011-A-301'</li>\n",
       "\t<li>'B011-A-401'</li>\n",
       "\t<li>'B011-A-405'</li>\n",
       "\t<li>'B011-A-501'</li>\n",
       "\t<li>'B012-A-001'</li>\n",
       "\t<li>'B012-A-002'</li>\n",
       "\t<li>'B012-A-101'</li>\n",
       "\t<li>'B012-A-201'</li>\n",
       "\t<li>'B012-A-301'</li>\n",
       "\t<li>'B012-A-401'</li>\n",
       "\t<li>'B012-A-405'</li>\n",
       "\t<li>'B012-A-501'</li>\n",
       "\t<li>'clustered_colon_object.rds'</li>\n",
       "\t<li>'clustered_duodenum_object.rds'</li>\n",
       "\t<li>'clustered_enteroendocrine_object.rds'</li>\n",
       "\t<li>'clustered_ileum_object.rds'</li>\n",
       "\t<li>'clustered_immune_object.rds'</li>\n",
       "\t<li>'clustered_jejunum_object.rds'</li>\n",
       "\t<li>'clustered_secretory_special_object.rds'</li>\n",
       "\t<li>'clustered_stromal_object.rds'</li>\n",
       "\t<li>'Colon_Epithelial_UMAP_CellType.tsv'</li>\n",
       "\t<li>'datasets_table_fn.txt'</li>\n",
       "\t<li>'Duodenum_Epithelial_UMAP_CellType.tsv'</li>\n",
       "\t<li>'Enteroendocrine_UMAP_CellType.tsv'</li>\n",
       "\t<li>'Ileum_Epithelial_UMAP_CellType.tsv'</li>\n",
       "\t<li>'Immune_UMAP_CellType.tsv'</li>\n",
       "\t<li>'Jejunum_Epithelial_UMAP_CellType.tsv'</li>\n",
       "\t<li>'links.html'</li>\n",
       "\t<li>'links.txt'</li>\n",
       "\t<li>'README.md'</li>\n",
       "\t<li>'sample_location_metadata.csv'</li>\n",
       "\t<li>'Specialized_Secretory_UMAP_CellType.tsv'</li>\n",
       "\t<li>'Stromal_UMAP_CellType.tsv'</li>\n",
       "\t<li>'temp.txt'</li>\n",
       "</ol>\n"
      ],
      "text/latex": [
       "\\begin{enumerate*}\n",
       "\\item 'B001-A-001'\n",
       "\\item 'B001-A-006'\n",
       "\\item 'B001-A-101'\n",
       "\\item 'B001-A-201'\n",
       "\\item 'B001-A-301'\n",
       "\\item 'B001-A-401'\n",
       "\\item 'B001-A-406'\n",
       "\\item 'B001-A-501'\n",
       "\\item 'B004-A-004'\n",
       "\\item 'B004-A-008'\n",
       "\\item 'B004-A-104'\n",
       "\\item 'B004-A-104-R2'\n",
       "\\item 'B004-A-204'\n",
       "\\item 'B004-A-304'\n",
       "\\item 'B004-A-404'\n",
       "\\item 'B004-A-404-R2'\n",
       "\\item 'B004-A-408'\n",
       "\\item 'B004-A-408-R2'\n",
       "\\item 'B004-A-504'\n",
       "\\item 'B004-A-504-R2'\n",
       "\\item 'B005-A-001'\n",
       "\\item 'B005-A-002'\n",
       "\\item 'B005-A-101'\n",
       "\\item 'B005-A-201'\n",
       "\\item 'B005-A-301'\n",
       "\\item 'B005-A-401'\n",
       "\\item 'B005-A-402'\n",
       "\\item 'B005-A-501'\n",
       "\\item 'B005-A-501-R2'\n",
       "\\item 'B006-A-001'\n",
       "\\item 'B006-A-002'\n",
       "\\item 'B006-A-101'\n",
       "\\item 'B006-A-201'\n",
       "\\item 'B006-A-201-R2'\n",
       "\\item 'B006-A-301'\n",
       "\\item 'B006-A-401'\n",
       "\\item 'B006-A-402'\n",
       "\\item 'B006-A-501'\n",
       "\\item 'B008-A-001'\n",
       "\\item 'B008-A-002'\n",
       "\\item 'B008-A-101'\n",
       "\\item 'B008-A-201'\n",
       "\\item 'B008-A-301'\n",
       "\\item 'B008-A-401'\n",
       "\\item 'B008-A-402'\n",
       "\\item 'B008-A-501'\n",
       "\\item 'B009-A-001'\n",
       "\\item 'B009-A-101'\n",
       "\\item 'B009-A-301'\n",
       "\\item 'B009-A-401'\n",
       "\\item 'B009-A-405'\n",
       "\\item 'B010-A-001'\n",
       "\\item 'B010-A-002'\n",
       "\\item 'B010-A-101'\n",
       "\\item 'B010-A-201'\n",
       "\\item 'B010-A-301'\n",
       "\\item 'B010-A-401'\n",
       "\\item 'B010-A-405'\n",
       "\\item 'B010-A-501'\n",
       "\\item 'B011-A-001'\n",
       "\\item 'B011-A-002'\n",
       "\\item 'B011-A-101'\n",
       "\\item 'B011-A-201'\n",
       "\\item 'B011-A-301'\n",
       "\\item 'B011-A-401'\n",
       "\\item 'B011-A-405'\n",
       "\\item 'B011-A-501'\n",
       "\\item 'B012-A-001'\n",
       "\\item 'B012-A-002'\n",
       "\\item 'B012-A-101'\n",
       "\\item 'B012-A-201'\n",
       "\\item 'B012-A-301'\n",
       "\\item 'B012-A-401'\n",
       "\\item 'B012-A-405'\n",
       "\\item 'B012-A-501'\n",
       "\\item 'clustered\\_colon\\_object.rds'\n",
       "\\item 'clustered\\_duodenum\\_object.rds'\n",
       "\\item 'clustered\\_enteroendocrine\\_object.rds'\n",
       "\\item 'clustered\\_ileum\\_object.rds'\n",
       "\\item 'clustered\\_immune\\_object.rds'\n",
       "\\item 'clustered\\_jejunum\\_object.rds'\n",
       "\\item 'clustered\\_secretory\\_special\\_object.rds'\n",
       "\\item 'clustered\\_stromal\\_object.rds'\n",
       "\\item 'Colon\\_Epithelial\\_UMAP\\_CellType.tsv'\n",
       "\\item 'datasets\\_table\\_fn.txt'\n",
       "\\item 'Duodenum\\_Epithelial\\_UMAP\\_CellType.tsv'\n",
       "\\item 'Enteroendocrine\\_UMAP\\_CellType.tsv'\n",
       "\\item 'Ileum\\_Epithelial\\_UMAP\\_CellType.tsv'\n",
       "\\item 'Immune\\_UMAP\\_CellType.tsv'\n",
       "\\item 'Jejunum\\_Epithelial\\_UMAP\\_CellType.tsv'\n",
       "\\item 'links.html'\n",
       "\\item 'links.txt'\n",
       "\\item 'README.md'\n",
       "\\item 'sample\\_location\\_metadata.csv'\n",
       "\\item 'Specialized\\_Secretory\\_UMAP\\_CellType.tsv'\n",
       "\\item 'Stromal\\_UMAP\\_CellType.tsv'\n",
       "\\item 'temp.txt'\n",
       "\\end{enumerate*}\n"
      ],
      "text/markdown": [
       "1. 'B001-A-001'\n",
       "2. 'B001-A-006'\n",
       "3. 'B001-A-101'\n",
       "4. 'B001-A-201'\n",
       "5. 'B001-A-301'\n",
       "6. 'B001-A-401'\n",
       "7. 'B001-A-406'\n",
       "8. 'B001-A-501'\n",
       "9. 'B004-A-004'\n",
       "10. 'B004-A-008'\n",
       "11. 'B004-A-104'\n",
       "12. 'B004-A-104-R2'\n",
       "13. 'B004-A-204'\n",
       "14. 'B004-A-304'\n",
       "15. 'B004-A-404'\n",
       "16. 'B004-A-404-R2'\n",
       "17. 'B004-A-408'\n",
       "18. 'B004-A-408-R2'\n",
       "19. 'B004-A-504'\n",
       "20. 'B004-A-504-R2'\n",
       "21. 'B005-A-001'\n",
       "22. 'B005-A-002'\n",
       "23. 'B005-A-101'\n",
       "24. 'B005-A-201'\n",
       "25. 'B005-A-301'\n",
       "26. 'B005-A-401'\n",
       "27. 'B005-A-402'\n",
       "28. 'B005-A-501'\n",
       "29. 'B005-A-501-R2'\n",
       "30. 'B006-A-001'\n",
       "31. 'B006-A-002'\n",
       "32. 'B006-A-101'\n",
       "33. 'B006-A-201'\n",
       "34. 'B006-A-201-R2'\n",
       "35. 'B006-A-301'\n",
       "36. 'B006-A-401'\n",
       "37. 'B006-A-402'\n",
       "38. 'B006-A-501'\n",
       "39. 'B008-A-001'\n",
       "40. 'B008-A-002'\n",
       "41. 'B008-A-101'\n",
       "42. 'B008-A-201'\n",
       "43. 'B008-A-301'\n",
       "44. 'B008-A-401'\n",
       "45. 'B008-A-402'\n",
       "46. 'B008-A-501'\n",
       "47. 'B009-A-001'\n",
       "48. 'B009-A-101'\n",
       "49. 'B009-A-301'\n",
       "50. 'B009-A-401'\n",
       "51. 'B009-A-405'\n",
       "52. 'B010-A-001'\n",
       "53. 'B010-A-002'\n",
       "54. 'B010-A-101'\n",
       "55. 'B010-A-201'\n",
       "56. 'B010-A-301'\n",
       "57. 'B010-A-401'\n",
       "58. 'B010-A-405'\n",
       "59. 'B010-A-501'\n",
       "60. 'B011-A-001'\n",
       "61. 'B011-A-002'\n",
       "62. 'B011-A-101'\n",
       "63. 'B011-A-201'\n",
       "64. 'B011-A-301'\n",
       "65. 'B011-A-401'\n",
       "66. 'B011-A-405'\n",
       "67. 'B011-A-501'\n",
       "68. 'B012-A-001'\n",
       "69. 'B012-A-002'\n",
       "70. 'B012-A-101'\n",
       "71. 'B012-A-201'\n",
       "72. 'B012-A-301'\n",
       "73. 'B012-A-401'\n",
       "74. 'B012-A-405'\n",
       "75. 'B012-A-501'\n",
       "76. 'clustered_colon_object.rds'\n",
       "77. 'clustered_duodenum_object.rds'\n",
       "78. 'clustered_enteroendocrine_object.rds'\n",
       "79. 'clustered_ileum_object.rds'\n",
       "80. 'clustered_immune_object.rds'\n",
       "81. 'clustered_jejunum_object.rds'\n",
       "82. 'clustered_secretory_special_object.rds'\n",
       "83. 'clustered_stromal_object.rds'\n",
       "84. 'Colon_Epithelial_UMAP_CellType.tsv'\n",
       "85. 'datasets_table_fn.txt'\n",
       "86. 'Duodenum_Epithelial_UMAP_CellType.tsv'\n",
       "87. 'Enteroendocrine_UMAP_CellType.tsv'\n",
       "88. 'Ileum_Epithelial_UMAP_CellType.tsv'\n",
       "89. 'Immune_UMAP_CellType.tsv'\n",
       "90. 'Jejunum_Epithelial_UMAP_CellType.tsv'\n",
       "91. 'links.html'\n",
       "92. 'links.txt'\n",
       "93. 'README.md'\n",
       "94. 'sample_location_metadata.csv'\n",
       "95. 'Specialized_Secretory_UMAP_CellType.tsv'\n",
       "96. 'Stromal_UMAP_CellType.tsv'\n",
       "97. 'temp.txt'\n",
       "\n",
       "\n"
      ],
      "text/plain": [
       " [1] \"B001-A-001\"                             \n",
       " [2] \"B001-A-006\"                             \n",
       " [3] \"B001-A-101\"                             \n",
       " [4] \"B001-A-201\"                             \n",
       " [5] \"B001-A-301\"                             \n",
       " [6] \"B001-A-401\"                             \n",
       " [7] \"B001-A-406\"                             \n",
       " [8] \"B001-A-501\"                             \n",
       " [9] \"B004-A-004\"                             \n",
       "[10] \"B004-A-008\"                             \n",
       "[11] \"B004-A-104\"                             \n",
       "[12] \"B004-A-104-R2\"                          \n",
       "[13] \"B004-A-204\"                             \n",
       "[14] \"B004-A-304\"                             \n",
       "[15] \"B004-A-404\"                             \n",
       "[16] \"B004-A-404-R2\"                          \n",
       "[17] \"B004-A-408\"                             \n",
       "[18] \"B004-A-408-R2\"                          \n",
       "[19] \"B004-A-504\"                             \n",
       "[20] \"B004-A-504-R2\"                          \n",
       "[21] \"B005-A-001\"                             \n",
       "[22] \"B005-A-002\"                             \n",
       "[23] \"B005-A-101\"                             \n",
       "[24] \"B005-A-201\"                             \n",
       "[25] \"B005-A-301\"                             \n",
       "[26] \"B005-A-401\"                             \n",
       "[27] \"B005-A-402\"                             \n",
       "[28] \"B005-A-501\"                             \n",
       "[29] \"B005-A-501-R2\"                          \n",
       "[30] \"B006-A-001\"                             \n",
       "[31] \"B006-A-002\"                             \n",
       "[32] \"B006-A-101\"                             \n",
       "[33] \"B006-A-201\"                             \n",
       "[34] \"B006-A-201-R2\"                          \n",
       "[35] \"B006-A-301\"                             \n",
       "[36] \"B006-A-401\"                             \n",
       "[37] \"B006-A-402\"                             \n",
       "[38] \"B006-A-501\"                             \n",
       "[39] \"B008-A-001\"                             \n",
       "[40] \"B008-A-002\"                             \n",
       "[41] \"B008-A-101\"                             \n",
       "[42] \"B008-A-201\"                             \n",
       "[43] \"B008-A-301\"                             \n",
       "[44] \"B008-A-401\"                             \n",
       "[45] \"B008-A-402\"                             \n",
       "[46] \"B008-A-501\"                             \n",
       "[47] \"B009-A-001\"                             \n",
       "[48] \"B009-A-101\"                             \n",
       "[49] \"B009-A-301\"                             \n",
       "[50] \"B009-A-401\"                             \n",
       "[51] \"B009-A-405\"                             \n",
       "[52] \"B010-A-001\"                             \n",
       "[53] \"B010-A-002\"                             \n",
       "[54] \"B010-A-101\"                             \n",
       "[55] \"B010-A-201\"                             \n",
       "[56] \"B010-A-301\"                             \n",
       "[57] \"B010-A-401\"                             \n",
       "[58] \"B010-A-405\"                             \n",
       "[59] \"B010-A-501\"                             \n",
       "[60] \"B011-A-001\"                             \n",
       "[61] \"B011-A-002\"                             \n",
       "[62] \"B011-A-101\"                             \n",
       "[63] \"B011-A-201\"                             \n",
       "[64] \"B011-A-301\"                             \n",
       "[65] \"B011-A-401\"                             \n",
       "[66] \"B011-A-405\"                             \n",
       "[67] \"B011-A-501\"                             \n",
       "[68] \"B012-A-001\"                             \n",
       "[69] \"B012-A-002\"                             \n",
       "[70] \"B012-A-101\"                             \n",
       "[71] \"B012-A-201\"                             \n",
       "[72] \"B012-A-301\"                             \n",
       "[73] \"B012-A-401\"                             \n",
       "[74] \"B012-A-405\"                             \n",
       "[75] \"B012-A-501\"                             \n",
       "[76] \"clustered_colon_object.rds\"             \n",
       "[77] \"clustered_duodenum_object.rds\"          \n",
       "[78] \"clustered_enteroendocrine_object.rds\"   \n",
       "[79] \"clustered_ileum_object.rds\"             \n",
       "[80] \"clustered_immune_object.rds\"            \n",
       "[81] \"clustered_jejunum_object.rds\"           \n",
       "[82] \"clustered_secretory_special_object.rds\" \n",
       "[83] \"clustered_stromal_object.rds\"           \n",
       "[84] \"Colon_Epithelial_UMAP_CellType.tsv\"     \n",
       "[85] \"datasets_table_fn.txt\"                  \n",
       "[86] \"Duodenum_Epithelial_UMAP_CellType.tsv\"  \n",
       "[87] \"Enteroendocrine_UMAP_CellType.tsv\"      \n",
       "[88] \"Ileum_Epithelial_UMAP_CellType.tsv\"     \n",
       "[89] \"Immune_UMAP_CellType.tsv\"               \n",
       "[90] \"Jejunum_Epithelial_UMAP_CellType.tsv\"   \n",
       "[91] \"links.html\"                             \n",
       "[92] \"links.txt\"                              \n",
       "[93] \"README.md\"                              \n",
       "[94] \"sample_location_metadata.csv\"           \n",
       "[95] \"Specialized_Secretory_UMAP_CellType.tsv\"\n",
       "[96] \"Stromal_UMAP_CellType.tsv\"              \n",
       "[97] \"temp.txt\"                               "
      ]
     },
     "metadata": {},
     "output_type": "display_data"
    }
   ],
   "source": [
    "umidir = \"release_umi.tab/figure1_Hickey/\"\n",
    "files = list.files(umidir)\n",
    "files"
   ]
  },
  {
   "cell_type": "code",
   "execution_count": 5,
   "id": "0e53bcac",
   "metadata": {},
   "outputs": [
    {
     "data": {
      "text/html": [
       "<ol class=list-inline>\n",
       "\t<li>'Colon_Epithelial_UMAP_CellType.tsv'</li>\n",
       "\t<li>'Duodenum_Epithelial_UMAP_CellType.tsv'</li>\n",
       "\t<li>'Ileum_Epithelial_UMAP_CellType.tsv'</li>\n",
       "\t<li>'Jejunum_Epithelial_UMAP_CellType.tsv'</li>\n",
       "</ol>\n"
      ],
      "text/latex": [
       "\\begin{enumerate*}\n",
       "\\item 'Colon\\_Epithelial\\_UMAP\\_CellType.tsv'\n",
       "\\item 'Duodenum\\_Epithelial\\_UMAP\\_CellType.tsv'\n",
       "\\item 'Ileum\\_Epithelial\\_UMAP\\_CellType.tsv'\n",
       "\\item 'Jejunum\\_Epithelial\\_UMAP\\_CellType.tsv'\n",
       "\\end{enumerate*}\n"
      ],
      "text/markdown": [
       "1. 'Colon_Epithelial_UMAP_CellType.tsv'\n",
       "2. 'Duodenum_Epithelial_UMAP_CellType.tsv'\n",
       "3. 'Ileum_Epithelial_UMAP_CellType.tsv'\n",
       "4. 'Jejunum_Epithelial_UMAP_CellType.tsv'\n",
       "\n",
       "\n"
      ],
      "text/plain": [
       "[1] \"Colon_Epithelial_UMAP_CellType.tsv\"   \n",
       "[2] \"Duodenum_Epithelial_UMAP_CellType.tsv\"\n",
       "[3] \"Ileum_Epithelial_UMAP_CellType.tsv\"   \n",
       "[4] \"Jejunum_Epithelial_UMAP_CellType.tsv\" "
      ]
     },
     "metadata": {},
     "output_type": "display_data"
    },
    {
     "data": {
      "text/html": [
       "4"
      ],
      "text/latex": [
       "4"
      ],
      "text/markdown": [
       "4"
      ],
      "text/plain": [
       "[1] 4"
      ]
     },
     "metadata": {},
     "output_type": "display_data"
    },
    {
     "data": {
      "text/html": [
       "<table>\n",
       "<thead><tr><th></th><th scope=col>UMAP_1</th><th scope=col>UMAP_2</th><th scope=col>CellType</th></tr></thead>\n",
       "<tbody>\n",
       "\t<tr><th scope=row>B001-A-301_AAACCCACAGCTATTG-1</th><td>2.292168            </td><td>-3.326214           </td><td>TA1                 </td></tr>\n",
       "\t<tr><th scope=row>B001-A-301_AAACCCAGTGTTCCAA-1</th><td>4.247404            </td><td> 6.580899           </td><td>Enterocytes         </td></tr>\n",
       "\t<tr><th scope=row>B001-A-301_AAACGAAGTGGTATGG-1</th><td>4.615074            </td><td> 5.245791           </td><td>Immature Enterocytes</td></tr>\n",
       "\t<tr><th scope=row>B001-A-301_AAACGAATCCAATGCA-1</th><td>4.477911            </td><td>-0.670288           </td><td>TA1                 </td></tr>\n",
       "\t<tr><th scope=row>B001-A-301_AAACGAATCGTGGCGT-1</th><td>0.353033            </td><td>-3.104455           </td><td>TA1                 </td></tr>\n",
       "\t<tr><th scope=row>B001-A-301_AAACGCTAGACGATAT-1</th><td>5.073505            </td><td> 6.059951           </td><td>Enterocytes         </td></tr>\n",
       "</tbody>\n",
       "</table>\n"
      ],
      "text/latex": [
       "\\begin{tabular}{r|lll}\n",
       "  & UMAP\\_1 & UMAP\\_2 & CellType\\\\\n",
       "\\hline\n",
       "\tB001-A-301\\_AAACCCACAGCTATTG-1 & 2.292168             & -3.326214            & TA1                 \\\\\n",
       "\tB001-A-301\\_AAACCCAGTGTTCCAA-1 & 4.247404             &  6.580899            & Enterocytes         \\\\\n",
       "\tB001-A-301\\_AAACGAAGTGGTATGG-1 & 4.615074             &  5.245791            & Immature Enterocytes\\\\\n",
       "\tB001-A-301\\_AAACGAATCCAATGCA-1 & 4.477911             & -0.670288            & TA1                 \\\\\n",
       "\tB001-A-301\\_AAACGAATCGTGGCGT-1 & 0.353033             & -3.104455            & TA1                 \\\\\n",
       "\tB001-A-301\\_AAACGCTAGACGATAT-1 & 5.073505             &  6.059951            & Enterocytes         \\\\\n",
       "\\end{tabular}\n"
      ],
      "text/markdown": [
       "\n",
       "| <!--/--> | UMAP_1 | UMAP_2 | CellType |\n",
       "|---|---|---|---|\n",
       "| B001-A-301_AAACCCACAGCTATTG-1 | 2.292168             | -3.326214            | TA1                  |\n",
       "| B001-A-301_AAACCCAGTGTTCCAA-1 | 4.247404             |  6.580899            | Enterocytes          |\n",
       "| B001-A-301_AAACGAAGTGGTATGG-1 | 4.615074             |  5.245791            | Immature Enterocytes |\n",
       "| B001-A-301_AAACGAATCCAATGCA-1 | 4.477911             | -0.670288            | TA1                  |\n",
       "| B001-A-301_AAACGAATCGTGGCGT-1 | 0.353033             | -3.104455            | TA1                  |\n",
       "| B001-A-301_AAACGCTAGACGATAT-1 | 5.073505             |  6.059951            | Enterocytes          |\n",
       "\n"
      ],
      "text/plain": [
       "                              UMAP_1   UMAP_2    CellType            \n",
       "B001-A-301_AAACCCACAGCTATTG-1 2.292168 -3.326214 TA1                 \n",
       "B001-A-301_AAACCCAGTGTTCCAA-1 4.247404  6.580899 Enterocytes         \n",
       "B001-A-301_AAACGAAGTGGTATGG-1 4.615074  5.245791 Immature Enterocytes\n",
       "B001-A-301_AAACGAATCCAATGCA-1 4.477911 -0.670288 TA1                 \n",
       "B001-A-301_AAACGAATCGTGGCGT-1 0.353033 -3.104455 TA1                 \n",
       "B001-A-301_AAACGCTAGACGATAT-1 5.073505  6.059951 Enterocytes         "
      ]
     },
     "metadata": {},
     "output_type": "display_data"
    }
   ],
   "source": [
    "metadata_fn = grep(\"Epithelial\", files, v=T)\n",
    "metadata_fn\n",
    "metadata_list = lapply(paste0(umidir, \"/\", metadata_fn), read.delim, stringsAsFactors = F, row.names = 1)\n",
    "length(metadata_list)\n",
    "head(metadata_list[[1]])"
   ]
  },
  {
   "cell_type": "code",
   "execution_count": 6,
   "id": "3db47645",
   "metadata": {},
   "outputs": [
    {
     "data": {
      "text/html": [
       "<ol class=list-inline>\n",
       "\t<li>72269</li>\n",
       "\t<li>39292</li>\n",
       "\t<li>23627</li>\n",
       "\t<li>65197</li>\n",
       "</ol>\n"
      ],
      "text/latex": [
       "\\begin{enumerate*}\n",
       "\\item 72269\n",
       "\\item 39292\n",
       "\\item 23627\n",
       "\\item 65197\n",
       "\\end{enumerate*}\n"
      ],
      "text/markdown": [
       "1. 72269\n",
       "2. 39292\n",
       "3. 23627\n",
       "4. 65197\n",
       "\n",
       "\n"
      ],
      "text/plain": [
       "[1] 72269 39292 23627 65197"
      ]
     },
     "metadata": {},
     "output_type": "display_data"
    }
   ],
   "source": [
    "l = sapply(metadata_list, nrow)\n",
    "l"
   ]
  },
  {
   "cell_type": "code",
   "execution_count": 7,
   "id": "13e0ede2",
   "metadata": {},
   "outputs": [
    {
     "data": {
      "text/html": [
       "200385"
      ],
      "text/latex": [
       "200385"
      ],
      "text/markdown": [
       "200385"
      ],
      "text/plain": [
       "[1] 200385"
      ]
     },
     "metadata": {},
     "output_type": "display_data"
    }
   ],
   "source": [
    "metadata = do.call(rbind, metadata_list)\n",
    "nrow(metadata)"
   ]
  },
  {
   "cell_type": "code",
   "execution_count": 8,
   "id": "f3f1f2d2",
   "metadata": {},
   "outputs": [
    {
     "data": {
      "text/html": [
       "<table>\n",
       "<thead><tr><th></th><th scope=col>UMAP_1</th><th scope=col>UMAP_2</th><th scope=col>CellType</th><th scope=col>tissue</th><th scope=col>folder</th></tr></thead>\n",
       "<tbody>\n",
       "\t<tr><th scope=row>B001-A-301_AAACCCACAGCTATTG-1</th><td>2.292168            </td><td>-3.326214           </td><td>TA1                 </td><td>Colon               </td><td>B001-A-301          </td></tr>\n",
       "\t<tr><th scope=row>B001-A-301_AAACCCAGTGTTCCAA-1</th><td>4.247404            </td><td> 6.580899           </td><td>Enterocytes         </td><td>Colon               </td><td>B001-A-301          </td></tr>\n",
       "\t<tr><th scope=row>B001-A-301_AAACGAAGTGGTATGG-1</th><td>4.615074            </td><td> 5.245791           </td><td>Immature Enterocytes</td><td>Colon               </td><td>B001-A-301          </td></tr>\n",
       "\t<tr><th scope=row>B001-A-301_AAACGAATCCAATGCA-1</th><td>4.477911            </td><td>-0.670288           </td><td>TA1                 </td><td>Colon               </td><td>B001-A-301          </td></tr>\n",
       "\t<tr><th scope=row>B001-A-301_AAACGAATCGTGGCGT-1</th><td>0.353033            </td><td>-3.104455           </td><td>TA1                 </td><td>Colon               </td><td>B001-A-301          </td></tr>\n",
       "\t<tr><th scope=row>B001-A-301_AAACGCTAGACGATAT-1</th><td>5.073505            </td><td> 6.059951           </td><td>Enterocytes         </td><td>Colon               </td><td>B001-A-301          </td></tr>\n",
       "</tbody>\n",
       "</table>\n"
      ],
      "text/latex": [
       "\\begin{tabular}{r|lllll}\n",
       "  & UMAP\\_1 & UMAP\\_2 & CellType & tissue & folder\\\\\n",
       "\\hline\n",
       "\tB001-A-301\\_AAACCCACAGCTATTG-1 & 2.292168             & -3.326214            & TA1                  & Colon                & B001-A-301          \\\\\n",
       "\tB001-A-301\\_AAACCCAGTGTTCCAA-1 & 4.247404             &  6.580899            & Enterocytes          & Colon                & B001-A-301          \\\\\n",
       "\tB001-A-301\\_AAACGAAGTGGTATGG-1 & 4.615074             &  5.245791            & Immature Enterocytes & Colon                & B001-A-301          \\\\\n",
       "\tB001-A-301\\_AAACGAATCCAATGCA-1 & 4.477911             & -0.670288            & TA1                  & Colon                & B001-A-301          \\\\\n",
       "\tB001-A-301\\_AAACGAATCGTGGCGT-1 & 0.353033             & -3.104455            & TA1                  & Colon                & B001-A-301          \\\\\n",
       "\tB001-A-301\\_AAACGCTAGACGATAT-1 & 5.073505             &  6.059951            & Enterocytes          & Colon                & B001-A-301          \\\\\n",
       "\\end{tabular}\n"
      ],
      "text/markdown": [
       "\n",
       "| <!--/--> | UMAP_1 | UMAP_2 | CellType | tissue | folder |\n",
       "|---|---|---|---|---|---|\n",
       "| B001-A-301_AAACCCACAGCTATTG-1 | 2.292168             | -3.326214            | TA1                  | Colon                | B001-A-301           |\n",
       "| B001-A-301_AAACCCAGTGTTCCAA-1 | 4.247404             |  6.580899            | Enterocytes          | Colon                | B001-A-301           |\n",
       "| B001-A-301_AAACGAAGTGGTATGG-1 | 4.615074             |  5.245791            | Immature Enterocytes | Colon                | B001-A-301           |\n",
       "| B001-A-301_AAACGAATCCAATGCA-1 | 4.477911             | -0.670288            | TA1                  | Colon                | B001-A-301           |\n",
       "| B001-A-301_AAACGAATCGTGGCGT-1 | 0.353033             | -3.104455            | TA1                  | Colon                | B001-A-301           |\n",
       "| B001-A-301_AAACGCTAGACGATAT-1 | 5.073505             |  6.059951            | Enterocytes          | Colon                | B001-A-301           |\n",
       "\n"
      ],
      "text/plain": [
       "                              UMAP_1   UMAP_2    CellType             tissue\n",
       "B001-A-301_AAACCCACAGCTATTG-1 2.292168 -3.326214 TA1                  Colon \n",
       "B001-A-301_AAACCCAGTGTTCCAA-1 4.247404  6.580899 Enterocytes          Colon \n",
       "B001-A-301_AAACGAAGTGGTATGG-1 4.615074  5.245791 Immature Enterocytes Colon \n",
       "B001-A-301_AAACGAATCCAATGCA-1 4.477911 -0.670288 TA1                  Colon \n",
       "B001-A-301_AAACGAATCGTGGCGT-1 0.353033 -3.104455 TA1                  Colon \n",
       "B001-A-301_AAACGCTAGACGATAT-1 5.073505  6.059951 Enterocytes          Colon \n",
       "                              folder    \n",
       "B001-A-301_AAACCCACAGCTATTG-1 B001-A-301\n",
       "B001-A-301_AAACCCAGTGTTCCAA-1 B001-A-301\n",
       "B001-A-301_AAACGAAGTGGTATGG-1 B001-A-301\n",
       "B001-A-301_AAACGAATCCAATGCA-1 B001-A-301\n",
       "B001-A-301_AAACGAATCGTGGCGT-1 B001-A-301\n",
       "B001-A-301_AAACGCTAGACGATAT-1 B001-A-301"
      ]
     },
     "metadata": {},
     "output_type": "display_data"
    }
   ],
   "source": [
    "metadata$tissue = rep(vecsplit(metadata_fn, \"_\", 1), l)\n",
    "metadata$folder = vecsplit(rownames(metadata), \"_\", 1)\n",
    "head(metadata)"
   ]
  },
  {
   "cell_type": "code",
   "execution_count": 9,
   "id": "3d057fe4",
   "metadata": {},
   "outputs": [
    {
     "data": {
      "text/html": [
       "<ol class=list-inline>\n",
       "\t<li>'B001-A-001'</li>\n",
       "\t<li>'B001-A-006'</li>\n",
       "\t<li>'B001-A-101'</li>\n",
       "\t<li>'B001-A-201'</li>\n",
       "\t<li>'B001-A-301'</li>\n",
       "\t<li>'B001-A-401'</li>\n",
       "\t<li>'B001-A-406'</li>\n",
       "\t<li>'B001-A-501'</li>\n",
       "\t<li>'B004-A-004'</li>\n",
       "\t<li>'B004-A-008'</li>\n",
       "\t<li>'B004-A-104'</li>\n",
       "\t<li>'B004-A-104-R2'</li>\n",
       "\t<li>'B004-A-204'</li>\n",
       "\t<li>'B004-A-304'</li>\n",
       "\t<li>'B004-A-404'</li>\n",
       "\t<li>'B004-A-404-R2'</li>\n",
       "\t<li>'B004-A-408'</li>\n",
       "\t<li>'B004-A-408-R2'</li>\n",
       "\t<li>'B004-A-504'</li>\n",
       "\t<li>'B004-A-504-R2'</li>\n",
       "\t<li>'B005-A-001'</li>\n",
       "\t<li>'B005-A-002'</li>\n",
       "\t<li>'B005-A-101'</li>\n",
       "\t<li>'B005-A-201'</li>\n",
       "\t<li>'B005-A-301'</li>\n",
       "\t<li>'B005-A-401'</li>\n",
       "\t<li>'B005-A-402'</li>\n",
       "\t<li>'B005-A-501'</li>\n",
       "\t<li>'B005-A-501-R2'</li>\n",
       "\t<li>'B006-A-001'</li>\n",
       "\t<li>'B006-A-002'</li>\n",
       "\t<li>'B006-A-101'</li>\n",
       "\t<li>'B006-A-201'</li>\n",
       "\t<li>'B006-A-201-R2'</li>\n",
       "\t<li>'B006-A-301'</li>\n",
       "\t<li>'B006-A-401'</li>\n",
       "\t<li>'B006-A-402'</li>\n",
       "\t<li>'B006-A-501'</li>\n",
       "\t<li>'B008-A-001'</li>\n",
       "\t<li>'B008-A-002'</li>\n",
       "\t<li>'B008-A-101'</li>\n",
       "\t<li>'B008-A-201'</li>\n",
       "\t<li>'B008-A-301'</li>\n",
       "\t<li>'B008-A-401'</li>\n",
       "\t<li>'B008-A-402'</li>\n",
       "\t<li>'B008-A-501'</li>\n",
       "\t<li>'B009-A-001'</li>\n",
       "\t<li>'B009-A-101'</li>\n",
       "\t<li>'B009-A-301'</li>\n",
       "\t<li>'B009-A-401'</li>\n",
       "\t<li>'B009-A-405'</li>\n",
       "\t<li>'B010-A-001'</li>\n",
       "\t<li>'B010-A-002'</li>\n",
       "\t<li>'B010-A-101'</li>\n",
       "\t<li>'B010-A-201'</li>\n",
       "\t<li>'B010-A-301'</li>\n",
       "\t<li>'B010-A-401'</li>\n",
       "\t<li>'B010-A-405'</li>\n",
       "\t<li>'B010-A-501'</li>\n",
       "\t<li>'B011-A-001'</li>\n",
       "\t<li>'B011-A-002'</li>\n",
       "\t<li>'B011-A-101'</li>\n",
       "\t<li>'B011-A-201'</li>\n",
       "\t<li>'B011-A-301'</li>\n",
       "\t<li>'B011-A-401'</li>\n",
       "\t<li>'B011-A-405'</li>\n",
       "\t<li>'B011-A-501'</li>\n",
       "\t<li>'B012-A-001'</li>\n",
       "\t<li>'B012-A-002'</li>\n",
       "\t<li>'B012-A-101'</li>\n",
       "\t<li>'B012-A-201'</li>\n",
       "\t<li>'B012-A-301'</li>\n",
       "\t<li>'B012-A-401'</li>\n",
       "\t<li>'B012-A-405'</li>\n",
       "\t<li>'B012-A-501'</li>\n",
       "</ol>\n"
      ],
      "text/latex": [
       "\\begin{enumerate*}\n",
       "\\item 'B001-A-001'\n",
       "\\item 'B001-A-006'\n",
       "\\item 'B001-A-101'\n",
       "\\item 'B001-A-201'\n",
       "\\item 'B001-A-301'\n",
       "\\item 'B001-A-401'\n",
       "\\item 'B001-A-406'\n",
       "\\item 'B001-A-501'\n",
       "\\item 'B004-A-004'\n",
       "\\item 'B004-A-008'\n",
       "\\item 'B004-A-104'\n",
       "\\item 'B004-A-104-R2'\n",
       "\\item 'B004-A-204'\n",
       "\\item 'B004-A-304'\n",
       "\\item 'B004-A-404'\n",
       "\\item 'B004-A-404-R2'\n",
       "\\item 'B004-A-408'\n",
       "\\item 'B004-A-408-R2'\n",
       "\\item 'B004-A-504'\n",
       "\\item 'B004-A-504-R2'\n",
       "\\item 'B005-A-001'\n",
       "\\item 'B005-A-002'\n",
       "\\item 'B005-A-101'\n",
       "\\item 'B005-A-201'\n",
       "\\item 'B005-A-301'\n",
       "\\item 'B005-A-401'\n",
       "\\item 'B005-A-402'\n",
       "\\item 'B005-A-501'\n",
       "\\item 'B005-A-501-R2'\n",
       "\\item 'B006-A-001'\n",
       "\\item 'B006-A-002'\n",
       "\\item 'B006-A-101'\n",
       "\\item 'B006-A-201'\n",
       "\\item 'B006-A-201-R2'\n",
       "\\item 'B006-A-301'\n",
       "\\item 'B006-A-401'\n",
       "\\item 'B006-A-402'\n",
       "\\item 'B006-A-501'\n",
       "\\item 'B008-A-001'\n",
       "\\item 'B008-A-002'\n",
       "\\item 'B008-A-101'\n",
       "\\item 'B008-A-201'\n",
       "\\item 'B008-A-301'\n",
       "\\item 'B008-A-401'\n",
       "\\item 'B008-A-402'\n",
       "\\item 'B008-A-501'\n",
       "\\item 'B009-A-001'\n",
       "\\item 'B009-A-101'\n",
       "\\item 'B009-A-301'\n",
       "\\item 'B009-A-401'\n",
       "\\item 'B009-A-405'\n",
       "\\item 'B010-A-001'\n",
       "\\item 'B010-A-002'\n",
       "\\item 'B010-A-101'\n",
       "\\item 'B010-A-201'\n",
       "\\item 'B010-A-301'\n",
       "\\item 'B010-A-401'\n",
       "\\item 'B010-A-405'\n",
       "\\item 'B010-A-501'\n",
       "\\item 'B011-A-001'\n",
       "\\item 'B011-A-002'\n",
       "\\item 'B011-A-101'\n",
       "\\item 'B011-A-201'\n",
       "\\item 'B011-A-301'\n",
       "\\item 'B011-A-401'\n",
       "\\item 'B011-A-405'\n",
       "\\item 'B011-A-501'\n",
       "\\item 'B012-A-001'\n",
       "\\item 'B012-A-002'\n",
       "\\item 'B012-A-101'\n",
       "\\item 'B012-A-201'\n",
       "\\item 'B012-A-301'\n",
       "\\item 'B012-A-401'\n",
       "\\item 'B012-A-405'\n",
       "\\item 'B012-A-501'\n",
       "\\end{enumerate*}\n"
      ],
      "text/markdown": [
       "1. 'B001-A-001'\n",
       "2. 'B001-A-006'\n",
       "3. 'B001-A-101'\n",
       "4. 'B001-A-201'\n",
       "5. 'B001-A-301'\n",
       "6. 'B001-A-401'\n",
       "7. 'B001-A-406'\n",
       "8. 'B001-A-501'\n",
       "9. 'B004-A-004'\n",
       "10. 'B004-A-008'\n",
       "11. 'B004-A-104'\n",
       "12. 'B004-A-104-R2'\n",
       "13. 'B004-A-204'\n",
       "14. 'B004-A-304'\n",
       "15. 'B004-A-404'\n",
       "16. 'B004-A-404-R2'\n",
       "17. 'B004-A-408'\n",
       "18. 'B004-A-408-R2'\n",
       "19. 'B004-A-504'\n",
       "20. 'B004-A-504-R2'\n",
       "21. 'B005-A-001'\n",
       "22. 'B005-A-002'\n",
       "23. 'B005-A-101'\n",
       "24. 'B005-A-201'\n",
       "25. 'B005-A-301'\n",
       "26. 'B005-A-401'\n",
       "27. 'B005-A-402'\n",
       "28. 'B005-A-501'\n",
       "29. 'B005-A-501-R2'\n",
       "30. 'B006-A-001'\n",
       "31. 'B006-A-002'\n",
       "32. 'B006-A-101'\n",
       "33. 'B006-A-201'\n",
       "34. 'B006-A-201-R2'\n",
       "35. 'B006-A-301'\n",
       "36. 'B006-A-401'\n",
       "37. 'B006-A-402'\n",
       "38. 'B006-A-501'\n",
       "39. 'B008-A-001'\n",
       "40. 'B008-A-002'\n",
       "41. 'B008-A-101'\n",
       "42. 'B008-A-201'\n",
       "43. 'B008-A-301'\n",
       "44. 'B008-A-401'\n",
       "45. 'B008-A-402'\n",
       "46. 'B008-A-501'\n",
       "47. 'B009-A-001'\n",
       "48. 'B009-A-101'\n",
       "49. 'B009-A-301'\n",
       "50. 'B009-A-401'\n",
       "51. 'B009-A-405'\n",
       "52. 'B010-A-001'\n",
       "53. 'B010-A-002'\n",
       "54. 'B010-A-101'\n",
       "55. 'B010-A-201'\n",
       "56. 'B010-A-301'\n",
       "57. 'B010-A-401'\n",
       "58. 'B010-A-405'\n",
       "59. 'B010-A-501'\n",
       "60. 'B011-A-001'\n",
       "61. 'B011-A-002'\n",
       "62. 'B011-A-101'\n",
       "63. 'B011-A-201'\n",
       "64. 'B011-A-301'\n",
       "65. 'B011-A-401'\n",
       "66. 'B011-A-405'\n",
       "67. 'B011-A-501'\n",
       "68. 'B012-A-001'\n",
       "69. 'B012-A-002'\n",
       "70. 'B012-A-101'\n",
       "71. 'B012-A-201'\n",
       "72. 'B012-A-301'\n",
       "73. 'B012-A-401'\n",
       "74. 'B012-A-405'\n",
       "75. 'B012-A-501'\n",
       "\n",
       "\n"
      ],
      "text/plain": [
       " [1] \"B001-A-001\"    \"B001-A-006\"    \"B001-A-101\"    \"B001-A-201\"   \n",
       " [5] \"B001-A-301\"    \"B001-A-401\"    \"B001-A-406\"    \"B001-A-501\"   \n",
       " [9] \"B004-A-004\"    \"B004-A-008\"    \"B004-A-104\"    \"B004-A-104-R2\"\n",
       "[13] \"B004-A-204\"    \"B004-A-304\"    \"B004-A-404\"    \"B004-A-404-R2\"\n",
       "[17] \"B004-A-408\"    \"B004-A-408-R2\" \"B004-A-504\"    \"B004-A-504-R2\"\n",
       "[21] \"B005-A-001\"    \"B005-A-002\"    \"B005-A-101\"    \"B005-A-201\"   \n",
       "[25] \"B005-A-301\"    \"B005-A-401\"    \"B005-A-402\"    \"B005-A-501\"   \n",
       "[29] \"B005-A-501-R2\" \"B006-A-001\"    \"B006-A-002\"    \"B006-A-101\"   \n",
       "[33] \"B006-A-201\"    \"B006-A-201-R2\" \"B006-A-301\"    \"B006-A-401\"   \n",
       "[37] \"B006-A-402\"    \"B006-A-501\"    \"B008-A-001\"    \"B008-A-002\"   \n",
       "[41] \"B008-A-101\"    \"B008-A-201\"    \"B008-A-301\"    \"B008-A-401\"   \n",
       "[45] \"B008-A-402\"    \"B008-A-501\"    \"B009-A-001\"    \"B009-A-101\"   \n",
       "[49] \"B009-A-301\"    \"B009-A-401\"    \"B009-A-405\"    \"B010-A-001\"   \n",
       "[53] \"B010-A-002\"    \"B010-A-101\"    \"B010-A-201\"    \"B010-A-301\"   \n",
       "[57] \"B010-A-401\"    \"B010-A-405\"    \"B010-A-501\"    \"B011-A-001\"   \n",
       "[61] \"B011-A-002\"    \"B011-A-101\"    \"B011-A-201\"    \"B011-A-301\"   \n",
       "[65] \"B011-A-401\"    \"B011-A-405\"    \"B011-A-501\"    \"B012-A-001\"   \n",
       "[69] \"B012-A-002\"    \"B012-A-101\"    \"B012-A-201\"    \"B012-A-301\"   \n",
       "[73] \"B012-A-401\"    \"B012-A-405\"    \"B012-A-501\"   "
      ]
     },
     "metadata": {},
     "output_type": "display_data"
    }
   ],
   "source": [
    "tenxruns = names(table(metadata$folder))\n",
    "tenxruns"
   ]
  },
  {
   "cell_type": "code",
   "execution_count": 10,
   "id": "5afdc9e8",
   "metadata": {},
   "outputs": [
    {
     "data": {
      "text/html": [
       "<table>\n",
       "<tbody>\n",
       "\t<tr><th scope=row>B001-A-001</th><td>barcodes.tsv.gz</td><td>features.tsv.gz</td><td>matrix.mtx.gz  </td></tr>\n",
       "\t<tr><th scope=row>B001-A-006</th><td>barcodes.tsv.gz</td><td>features.tsv.gz</td><td>matrix.mtx.gz  </td></tr>\n",
       "\t<tr><th scope=row>B001-A-101</th><td>barcodes.tsv.gz</td><td>features.tsv.gz</td><td>matrix.mtx.gz  </td></tr>\n",
       "\t<tr><th scope=row>B001-A-201</th><td>barcodes.tsv.gz</td><td>features.tsv.gz</td><td>matrix.mtx.gz  </td></tr>\n",
       "\t<tr><th scope=row>B001-A-301</th><td>barcodes.tsv.gz</td><td>features.tsv.gz</td><td>matrix.mtx.gz  </td></tr>\n",
       "\t<tr><th scope=row>B001-A-401</th><td>barcodes.tsv.gz</td><td>features.tsv.gz</td><td>matrix.mtx.gz  </td></tr>\n",
       "\t<tr><th scope=row>B001-A-406</th><td>barcodes.tsv.gz</td><td>features.tsv.gz</td><td>matrix.mtx.gz  </td></tr>\n",
       "\t<tr><th scope=row>B001-A-501</th><td>barcodes.tsv.gz</td><td>features.tsv.gz</td><td>matrix.mtx.gz  </td></tr>\n",
       "\t<tr><th scope=row>B004-A-004</th><td>barcodes.tsv.gz</td><td>features.tsv.gz</td><td>matrix.mtx.gz  </td></tr>\n",
       "\t<tr><th scope=row>B004-A-008</th><td>barcodes.tsv.gz</td><td>features.tsv.gz</td><td>matrix.mtx.gz  </td></tr>\n",
       "\t<tr><th scope=row>B004-A-104</th><td>barcodes.tsv.gz</td><td>features.tsv.gz</td><td>matrix.mtx.gz  </td></tr>\n",
       "\t<tr><th scope=row>B004-A-104-R2</th><td>barcodes.tsv.gz</td><td>features.tsv.gz</td><td>matrix.mtx.gz  </td></tr>\n",
       "\t<tr><th scope=row>B004-A-204</th><td>barcodes.tsv.gz</td><td>features.tsv.gz</td><td>matrix.mtx.gz  </td></tr>\n",
       "\t<tr><th scope=row>B004-A-304</th><td>barcodes.tsv.gz</td><td>features.tsv.gz</td><td>matrix.mtx.gz  </td></tr>\n",
       "\t<tr><th scope=row>B004-A-404</th><td>barcodes.tsv.gz</td><td>features.tsv.gz</td><td>matrix.mtx.gz  </td></tr>\n",
       "\t<tr><th scope=row>B004-A-404-R2</th><td>barcodes.tsv.gz</td><td>features.tsv.gz</td><td>matrix.mtx.gz  </td></tr>\n",
       "\t<tr><th scope=row>B004-A-408</th><td>barcodes.tsv.gz</td><td>features.tsv.gz</td><td>matrix.mtx.gz  </td></tr>\n",
       "\t<tr><th scope=row>B004-A-408-R2</th><td>barcodes.tsv.gz</td><td>features.tsv.gz</td><td>matrix.mtx.gz  </td></tr>\n",
       "\t<tr><th scope=row>B004-A-504</th><td>barcodes.tsv.gz</td><td>features.tsv.gz</td><td>matrix.mtx.gz  </td></tr>\n",
       "\t<tr><th scope=row>B004-A-504-R2</th><td>barcodes.tsv.gz</td><td>features.tsv.gz</td><td>matrix.mtx.gz  </td></tr>\n",
       "\t<tr><th scope=row>B005-A-001</th><td>barcodes.tsv.gz</td><td>features.tsv.gz</td><td>matrix.mtx.gz  </td></tr>\n",
       "\t<tr><th scope=row>B005-A-002</th><td>barcodes.tsv.gz</td><td>features.tsv.gz</td><td>matrix.mtx.gz  </td></tr>\n",
       "\t<tr><th scope=row>B005-A-101</th><td>barcodes.tsv.gz</td><td>features.tsv.gz</td><td>matrix.mtx.gz  </td></tr>\n",
       "\t<tr><th scope=row>B005-A-201</th><td>barcodes.tsv.gz</td><td>features.tsv.gz</td><td>matrix.mtx.gz  </td></tr>\n",
       "\t<tr><th scope=row>B005-A-301</th><td>barcodes.tsv.gz</td><td>features.tsv.gz</td><td>matrix.mtx.gz  </td></tr>\n",
       "\t<tr><th scope=row>B005-A-401</th><td>barcodes.tsv.gz</td><td>features.tsv.gz</td><td>matrix.mtx.gz  </td></tr>\n",
       "\t<tr><th scope=row>B005-A-402</th><td>barcodes.tsv.gz</td><td>features.tsv.gz</td><td>matrix.mtx.gz  </td></tr>\n",
       "\t<tr><th scope=row>B005-A-501</th><td>barcodes.tsv.gz</td><td>features.tsv.gz</td><td>matrix.mtx.gz  </td></tr>\n",
       "\t<tr><th scope=row>B005-A-501-R2</th><td>barcodes.tsv.gz</td><td>features.tsv.gz</td><td>matrix.mtx.gz  </td></tr>\n",
       "\t<tr><th scope=row>B006-A-001</th><td>barcodes.tsv.gz</td><td>features.tsv.gz</td><td>matrix.mtx.gz  </td></tr>\n",
       "\t<tr><th scope=row>...</th><td>...</td><td>...</td><td>...</td></tr>\n",
       "\t<tr><th scope=row>B008-A-501</th><td>barcodes.tsv.gz</td><td>features.tsv.gz</td><td>matrix.mtx.gz  </td></tr>\n",
       "\t<tr><th scope=row>B009-A-001</th><td>barcodes.tsv.gz</td><td>features.tsv.gz</td><td>matrix.mtx.gz  </td></tr>\n",
       "\t<tr><th scope=row>B009-A-101</th><td>barcodes.tsv.gz</td><td>features.tsv.gz</td><td>matrix.mtx.gz  </td></tr>\n",
       "\t<tr><th scope=row>B009-A-301</th><td>barcodes.tsv.gz</td><td>features.tsv.gz</td><td>matrix.mtx.gz  </td></tr>\n",
       "\t<tr><th scope=row>B009-A-401</th><td>barcodes.tsv.gz</td><td>features.tsv.gz</td><td>matrix.mtx.gz  </td></tr>\n",
       "\t<tr><th scope=row>B009-A-405</th><td>barcodes.tsv.gz</td><td>features.tsv.gz</td><td>matrix.mtx.gz  </td></tr>\n",
       "\t<tr><th scope=row>B010-A-001</th><td>barcodes.tsv.gz</td><td>features.tsv.gz</td><td>matrix.mtx.gz  </td></tr>\n",
       "\t<tr><th scope=row>B010-A-002</th><td>barcodes.tsv.gz</td><td>features.tsv.gz</td><td>matrix.mtx.gz  </td></tr>\n",
       "\t<tr><th scope=row>B010-A-101</th><td>barcodes.tsv.gz</td><td>features.tsv.gz</td><td>matrix.mtx.gz  </td></tr>\n",
       "\t<tr><th scope=row>B010-A-201</th><td>barcodes.tsv.gz</td><td>features.tsv.gz</td><td>matrix.mtx.gz  </td></tr>\n",
       "\t<tr><th scope=row>B010-A-301</th><td>barcodes.tsv.gz</td><td>features.tsv.gz</td><td>matrix.mtx.gz  </td></tr>\n",
       "\t<tr><th scope=row>B010-A-401</th><td>barcodes.tsv.gz</td><td>features.tsv.gz</td><td>matrix.mtx.gz  </td></tr>\n",
       "\t<tr><th scope=row>B010-A-405</th><td>barcodes.tsv.gz</td><td>features.tsv.gz</td><td>matrix.mtx.gz  </td></tr>\n",
       "\t<tr><th scope=row>B010-A-501</th><td>barcodes.tsv.gz</td><td>features.tsv.gz</td><td>matrix.mtx.gz  </td></tr>\n",
       "\t<tr><th scope=row>B011-A-001</th><td>barcodes.tsv.gz</td><td>features.tsv.gz</td><td>matrix.mtx.gz  </td></tr>\n",
       "\t<tr><th scope=row>B011-A-002</th><td>barcodes.tsv.gz</td><td>features.tsv.gz</td><td>matrix.mtx.gz  </td></tr>\n",
       "\t<tr><th scope=row>B011-A-101</th><td>barcodes.tsv.gz</td><td>features.tsv.gz</td><td>matrix.mtx.gz  </td></tr>\n",
       "\t<tr><th scope=row>B011-A-201</th><td>barcodes.tsv.gz</td><td>features.tsv.gz</td><td>matrix.mtx.gz  </td></tr>\n",
       "\t<tr><th scope=row>B011-A-301</th><td>barcodes.tsv.gz</td><td>features.tsv.gz</td><td>matrix.mtx.gz  </td></tr>\n",
       "\t<tr><th scope=row>B011-A-401</th><td>barcodes.tsv.gz</td><td>features.tsv.gz</td><td>matrix.mtx.gz  </td></tr>\n",
       "\t<tr><th scope=row>B011-A-405</th><td>barcodes.tsv.gz</td><td>features.tsv.gz</td><td>matrix.mtx.gz  </td></tr>\n",
       "\t<tr><th scope=row>B011-A-501</th><td>barcodes.tsv.gz</td><td>features.tsv.gz</td><td>matrix.mtx.gz  </td></tr>\n",
       "\t<tr><th scope=row>B012-A-001</th><td>barcodes.tsv.gz</td><td>features.tsv.gz</td><td>matrix.mtx.gz  </td></tr>\n",
       "\t<tr><th scope=row>B012-A-002</th><td>barcodes.tsv.gz</td><td>features.tsv.gz</td><td>matrix.mtx.gz  </td></tr>\n",
       "\t<tr><th scope=row>B012-A-101</th><td>barcodes.tsv.gz</td><td>features.tsv.gz</td><td>matrix.mtx.gz  </td></tr>\n",
       "\t<tr><th scope=row>B012-A-201</th><td>barcodes.tsv.gz</td><td>features.tsv.gz</td><td>matrix.mtx.gz  </td></tr>\n",
       "\t<tr><th scope=row>B012-A-301</th><td>barcodes.tsv.gz</td><td>features.tsv.gz</td><td>matrix.mtx.gz  </td></tr>\n",
       "\t<tr><th scope=row>B012-A-401</th><td>barcodes.tsv.gz</td><td>features.tsv.gz</td><td>matrix.mtx.gz  </td></tr>\n",
       "\t<tr><th scope=row>B012-A-405</th><td>barcodes.tsv.gz</td><td>features.tsv.gz</td><td>matrix.mtx.gz  </td></tr>\n",
       "\t<tr><th scope=row>B012-A-501</th><td>barcodes.tsv.gz</td><td>features.tsv.gz</td><td>matrix.mtx.gz  </td></tr>\n",
       "</tbody>\n",
       "</table>\n"
      ],
      "text/latex": [
       "\\begin{tabular}{r|lll}\n",
       "\tB001-A-001 & barcodes.tsv.gz & features.tsv.gz & matrix.mtx.gz  \\\\\n",
       "\tB001-A-006 & barcodes.tsv.gz & features.tsv.gz & matrix.mtx.gz  \\\\\n",
       "\tB001-A-101 & barcodes.tsv.gz & features.tsv.gz & matrix.mtx.gz  \\\\\n",
       "\tB001-A-201 & barcodes.tsv.gz & features.tsv.gz & matrix.mtx.gz  \\\\\n",
       "\tB001-A-301 & barcodes.tsv.gz & features.tsv.gz & matrix.mtx.gz  \\\\\n",
       "\tB001-A-401 & barcodes.tsv.gz & features.tsv.gz & matrix.mtx.gz  \\\\\n",
       "\tB001-A-406 & barcodes.tsv.gz & features.tsv.gz & matrix.mtx.gz  \\\\\n",
       "\tB001-A-501 & barcodes.tsv.gz & features.tsv.gz & matrix.mtx.gz  \\\\\n",
       "\tB004-A-004 & barcodes.tsv.gz & features.tsv.gz & matrix.mtx.gz  \\\\\n",
       "\tB004-A-008 & barcodes.tsv.gz & features.tsv.gz & matrix.mtx.gz  \\\\\n",
       "\tB004-A-104 & barcodes.tsv.gz & features.tsv.gz & matrix.mtx.gz  \\\\\n",
       "\tB004-A-104-R2 & barcodes.tsv.gz & features.tsv.gz & matrix.mtx.gz  \\\\\n",
       "\tB004-A-204 & barcodes.tsv.gz & features.tsv.gz & matrix.mtx.gz  \\\\\n",
       "\tB004-A-304 & barcodes.tsv.gz & features.tsv.gz & matrix.mtx.gz  \\\\\n",
       "\tB004-A-404 & barcodes.tsv.gz & features.tsv.gz & matrix.mtx.gz  \\\\\n",
       "\tB004-A-404-R2 & barcodes.tsv.gz & features.tsv.gz & matrix.mtx.gz  \\\\\n",
       "\tB004-A-408 & barcodes.tsv.gz & features.tsv.gz & matrix.mtx.gz  \\\\\n",
       "\tB004-A-408-R2 & barcodes.tsv.gz & features.tsv.gz & matrix.mtx.gz  \\\\\n",
       "\tB004-A-504 & barcodes.tsv.gz & features.tsv.gz & matrix.mtx.gz  \\\\\n",
       "\tB004-A-504-R2 & barcodes.tsv.gz & features.tsv.gz & matrix.mtx.gz  \\\\\n",
       "\tB005-A-001 & barcodes.tsv.gz & features.tsv.gz & matrix.mtx.gz  \\\\\n",
       "\tB005-A-002 & barcodes.tsv.gz & features.tsv.gz & matrix.mtx.gz  \\\\\n",
       "\tB005-A-101 & barcodes.tsv.gz & features.tsv.gz & matrix.mtx.gz  \\\\\n",
       "\tB005-A-201 & barcodes.tsv.gz & features.tsv.gz & matrix.mtx.gz  \\\\\n",
       "\tB005-A-301 & barcodes.tsv.gz & features.tsv.gz & matrix.mtx.gz  \\\\\n",
       "\tB005-A-401 & barcodes.tsv.gz & features.tsv.gz & matrix.mtx.gz  \\\\\n",
       "\tB005-A-402 & barcodes.tsv.gz & features.tsv.gz & matrix.mtx.gz  \\\\\n",
       "\tB005-A-501 & barcodes.tsv.gz & features.tsv.gz & matrix.mtx.gz  \\\\\n",
       "\tB005-A-501-R2 & barcodes.tsv.gz & features.tsv.gz & matrix.mtx.gz  \\\\\n",
       "\tB006-A-001 & barcodes.tsv.gz & features.tsv.gz & matrix.mtx.gz  \\\\\n",
       "\t... & ... & ... & ...\\\\\n",
       "\tB008-A-501 & barcodes.tsv.gz & features.tsv.gz & matrix.mtx.gz  \\\\\n",
       "\tB009-A-001 & barcodes.tsv.gz & features.tsv.gz & matrix.mtx.gz  \\\\\n",
       "\tB009-A-101 & barcodes.tsv.gz & features.tsv.gz & matrix.mtx.gz  \\\\\n",
       "\tB009-A-301 & barcodes.tsv.gz & features.tsv.gz & matrix.mtx.gz  \\\\\n",
       "\tB009-A-401 & barcodes.tsv.gz & features.tsv.gz & matrix.mtx.gz  \\\\\n",
       "\tB009-A-405 & barcodes.tsv.gz & features.tsv.gz & matrix.mtx.gz  \\\\\n",
       "\tB010-A-001 & barcodes.tsv.gz & features.tsv.gz & matrix.mtx.gz  \\\\\n",
       "\tB010-A-002 & barcodes.tsv.gz & features.tsv.gz & matrix.mtx.gz  \\\\\n",
       "\tB010-A-101 & barcodes.tsv.gz & features.tsv.gz & matrix.mtx.gz  \\\\\n",
       "\tB010-A-201 & barcodes.tsv.gz & features.tsv.gz & matrix.mtx.gz  \\\\\n",
       "\tB010-A-301 & barcodes.tsv.gz & features.tsv.gz & matrix.mtx.gz  \\\\\n",
       "\tB010-A-401 & barcodes.tsv.gz & features.tsv.gz & matrix.mtx.gz  \\\\\n",
       "\tB010-A-405 & barcodes.tsv.gz & features.tsv.gz & matrix.mtx.gz  \\\\\n",
       "\tB010-A-501 & barcodes.tsv.gz & features.tsv.gz & matrix.mtx.gz  \\\\\n",
       "\tB011-A-001 & barcodes.tsv.gz & features.tsv.gz & matrix.mtx.gz  \\\\\n",
       "\tB011-A-002 & barcodes.tsv.gz & features.tsv.gz & matrix.mtx.gz  \\\\\n",
       "\tB011-A-101 & barcodes.tsv.gz & features.tsv.gz & matrix.mtx.gz  \\\\\n",
       "\tB011-A-201 & barcodes.tsv.gz & features.tsv.gz & matrix.mtx.gz  \\\\\n",
       "\tB011-A-301 & barcodes.tsv.gz & features.tsv.gz & matrix.mtx.gz  \\\\\n",
       "\tB011-A-401 & barcodes.tsv.gz & features.tsv.gz & matrix.mtx.gz  \\\\\n",
       "\tB011-A-405 & barcodes.tsv.gz & features.tsv.gz & matrix.mtx.gz  \\\\\n",
       "\tB011-A-501 & barcodes.tsv.gz & features.tsv.gz & matrix.mtx.gz  \\\\\n",
       "\tB012-A-001 & barcodes.tsv.gz & features.tsv.gz & matrix.mtx.gz  \\\\\n",
       "\tB012-A-002 & barcodes.tsv.gz & features.tsv.gz & matrix.mtx.gz  \\\\\n",
       "\tB012-A-101 & barcodes.tsv.gz & features.tsv.gz & matrix.mtx.gz  \\\\\n",
       "\tB012-A-201 & barcodes.tsv.gz & features.tsv.gz & matrix.mtx.gz  \\\\\n",
       "\tB012-A-301 & barcodes.tsv.gz & features.tsv.gz & matrix.mtx.gz  \\\\\n",
       "\tB012-A-401 & barcodes.tsv.gz & features.tsv.gz & matrix.mtx.gz  \\\\\n",
       "\tB012-A-405 & barcodes.tsv.gz & features.tsv.gz & matrix.mtx.gz  \\\\\n",
       "\tB012-A-501 & barcodes.tsv.gz & features.tsv.gz & matrix.mtx.gz  \\\\\n",
       "\\end{tabular}\n"
      ],
      "text/markdown": [
       "\n",
       "| B001-A-001 | barcodes.tsv.gz | features.tsv.gz | matrix.mtx.gz   |\n",
       "| B001-A-006 | barcodes.tsv.gz | features.tsv.gz | matrix.mtx.gz   |\n",
       "| B001-A-101 | barcodes.tsv.gz | features.tsv.gz | matrix.mtx.gz   |\n",
       "| B001-A-201 | barcodes.tsv.gz | features.tsv.gz | matrix.mtx.gz   |\n",
       "| B001-A-301 | barcodes.tsv.gz | features.tsv.gz | matrix.mtx.gz   |\n",
       "| B001-A-401 | barcodes.tsv.gz | features.tsv.gz | matrix.mtx.gz   |\n",
       "| B001-A-406 | barcodes.tsv.gz | features.tsv.gz | matrix.mtx.gz   |\n",
       "| B001-A-501 | barcodes.tsv.gz | features.tsv.gz | matrix.mtx.gz   |\n",
       "| B004-A-004 | barcodes.tsv.gz | features.tsv.gz | matrix.mtx.gz   |\n",
       "| B004-A-008 | barcodes.tsv.gz | features.tsv.gz | matrix.mtx.gz   |\n",
       "| B004-A-104 | barcodes.tsv.gz | features.tsv.gz | matrix.mtx.gz   |\n",
       "| B004-A-104-R2 | barcodes.tsv.gz | features.tsv.gz | matrix.mtx.gz   |\n",
       "| B004-A-204 | barcodes.tsv.gz | features.tsv.gz | matrix.mtx.gz   |\n",
       "| B004-A-304 | barcodes.tsv.gz | features.tsv.gz | matrix.mtx.gz   |\n",
       "| B004-A-404 | barcodes.tsv.gz | features.tsv.gz | matrix.mtx.gz   |\n",
       "| B004-A-404-R2 | barcodes.tsv.gz | features.tsv.gz | matrix.mtx.gz   |\n",
       "| B004-A-408 | barcodes.tsv.gz | features.tsv.gz | matrix.mtx.gz   |\n",
       "| B004-A-408-R2 | barcodes.tsv.gz | features.tsv.gz | matrix.mtx.gz   |\n",
       "| B004-A-504 | barcodes.tsv.gz | features.tsv.gz | matrix.mtx.gz   |\n",
       "| B004-A-504-R2 | barcodes.tsv.gz | features.tsv.gz | matrix.mtx.gz   |\n",
       "| B005-A-001 | barcodes.tsv.gz | features.tsv.gz | matrix.mtx.gz   |\n",
       "| B005-A-002 | barcodes.tsv.gz | features.tsv.gz | matrix.mtx.gz   |\n",
       "| B005-A-101 | barcodes.tsv.gz | features.tsv.gz | matrix.mtx.gz   |\n",
       "| B005-A-201 | barcodes.tsv.gz | features.tsv.gz | matrix.mtx.gz   |\n",
       "| B005-A-301 | barcodes.tsv.gz | features.tsv.gz | matrix.mtx.gz   |\n",
       "| B005-A-401 | barcodes.tsv.gz | features.tsv.gz | matrix.mtx.gz   |\n",
       "| B005-A-402 | barcodes.tsv.gz | features.tsv.gz | matrix.mtx.gz   |\n",
       "| B005-A-501 | barcodes.tsv.gz | features.tsv.gz | matrix.mtx.gz   |\n",
       "| B005-A-501-R2 | barcodes.tsv.gz | features.tsv.gz | matrix.mtx.gz   |\n",
       "| B006-A-001 | barcodes.tsv.gz | features.tsv.gz | matrix.mtx.gz   |\n",
       "| ... | ... | ... | ... |\n",
       "| B008-A-501 | barcodes.tsv.gz | features.tsv.gz | matrix.mtx.gz   |\n",
       "| B009-A-001 | barcodes.tsv.gz | features.tsv.gz | matrix.mtx.gz   |\n",
       "| B009-A-101 | barcodes.tsv.gz | features.tsv.gz | matrix.mtx.gz   |\n",
       "| B009-A-301 | barcodes.tsv.gz | features.tsv.gz | matrix.mtx.gz   |\n",
       "| B009-A-401 | barcodes.tsv.gz | features.tsv.gz | matrix.mtx.gz   |\n",
       "| B009-A-405 | barcodes.tsv.gz | features.tsv.gz | matrix.mtx.gz   |\n",
       "| B010-A-001 | barcodes.tsv.gz | features.tsv.gz | matrix.mtx.gz   |\n",
       "| B010-A-002 | barcodes.tsv.gz | features.tsv.gz | matrix.mtx.gz   |\n",
       "| B010-A-101 | barcodes.tsv.gz | features.tsv.gz | matrix.mtx.gz   |\n",
       "| B010-A-201 | barcodes.tsv.gz | features.tsv.gz | matrix.mtx.gz   |\n",
       "| B010-A-301 | barcodes.tsv.gz | features.tsv.gz | matrix.mtx.gz   |\n",
       "| B010-A-401 | barcodes.tsv.gz | features.tsv.gz | matrix.mtx.gz   |\n",
       "| B010-A-405 | barcodes.tsv.gz | features.tsv.gz | matrix.mtx.gz   |\n",
       "| B010-A-501 | barcodes.tsv.gz | features.tsv.gz | matrix.mtx.gz   |\n",
       "| B011-A-001 | barcodes.tsv.gz | features.tsv.gz | matrix.mtx.gz   |\n",
       "| B011-A-002 | barcodes.tsv.gz | features.tsv.gz | matrix.mtx.gz   |\n",
       "| B011-A-101 | barcodes.tsv.gz | features.tsv.gz | matrix.mtx.gz   |\n",
       "| B011-A-201 | barcodes.tsv.gz | features.tsv.gz | matrix.mtx.gz   |\n",
       "| B011-A-301 | barcodes.tsv.gz | features.tsv.gz | matrix.mtx.gz   |\n",
       "| B011-A-401 | barcodes.tsv.gz | features.tsv.gz | matrix.mtx.gz   |\n",
       "| B011-A-405 | barcodes.tsv.gz | features.tsv.gz | matrix.mtx.gz   |\n",
       "| B011-A-501 | barcodes.tsv.gz | features.tsv.gz | matrix.mtx.gz   |\n",
       "| B012-A-001 | barcodes.tsv.gz | features.tsv.gz | matrix.mtx.gz   |\n",
       "| B012-A-002 | barcodes.tsv.gz | features.tsv.gz | matrix.mtx.gz   |\n",
       "| B012-A-101 | barcodes.tsv.gz | features.tsv.gz | matrix.mtx.gz   |\n",
       "| B012-A-201 | barcodes.tsv.gz | features.tsv.gz | matrix.mtx.gz   |\n",
       "| B012-A-301 | barcodes.tsv.gz | features.tsv.gz | matrix.mtx.gz   |\n",
       "| B012-A-401 | barcodes.tsv.gz | features.tsv.gz | matrix.mtx.gz   |\n",
       "| B012-A-405 | barcodes.tsv.gz | features.tsv.gz | matrix.mtx.gz   |\n",
       "| B012-A-501 | barcodes.tsv.gz | features.tsv.gz | matrix.mtx.gz   |\n",
       "\n"
      ],
      "text/plain": [
       "              [,1]            [,2]            [,3]         \n",
       "B001-A-001    barcodes.tsv.gz features.tsv.gz matrix.mtx.gz\n",
       "B001-A-006    barcodes.tsv.gz features.tsv.gz matrix.mtx.gz\n",
       "B001-A-101    barcodes.tsv.gz features.tsv.gz matrix.mtx.gz\n",
       "B001-A-201    barcodes.tsv.gz features.tsv.gz matrix.mtx.gz\n",
       "B001-A-301    barcodes.tsv.gz features.tsv.gz matrix.mtx.gz\n",
       "B001-A-401    barcodes.tsv.gz features.tsv.gz matrix.mtx.gz\n",
       "B001-A-406    barcodes.tsv.gz features.tsv.gz matrix.mtx.gz\n",
       "B001-A-501    barcodes.tsv.gz features.tsv.gz matrix.mtx.gz\n",
       "B004-A-004    barcodes.tsv.gz features.tsv.gz matrix.mtx.gz\n",
       "B004-A-008    barcodes.tsv.gz features.tsv.gz matrix.mtx.gz\n",
       "B004-A-104    barcodes.tsv.gz features.tsv.gz matrix.mtx.gz\n",
       "B004-A-104-R2 barcodes.tsv.gz features.tsv.gz matrix.mtx.gz\n",
       "B004-A-204    barcodes.tsv.gz features.tsv.gz matrix.mtx.gz\n",
       "B004-A-304    barcodes.tsv.gz features.tsv.gz matrix.mtx.gz\n",
       "B004-A-404    barcodes.tsv.gz features.tsv.gz matrix.mtx.gz\n",
       "B004-A-404-R2 barcodes.tsv.gz features.tsv.gz matrix.mtx.gz\n",
       "B004-A-408    barcodes.tsv.gz features.tsv.gz matrix.mtx.gz\n",
       "B004-A-408-R2 barcodes.tsv.gz features.tsv.gz matrix.mtx.gz\n",
       "B004-A-504    barcodes.tsv.gz features.tsv.gz matrix.mtx.gz\n",
       "B004-A-504-R2 barcodes.tsv.gz features.tsv.gz matrix.mtx.gz\n",
       "B005-A-001    barcodes.tsv.gz features.tsv.gz matrix.mtx.gz\n",
       "B005-A-002    barcodes.tsv.gz features.tsv.gz matrix.mtx.gz\n",
       "B005-A-101    barcodes.tsv.gz features.tsv.gz matrix.mtx.gz\n",
       "B005-A-201    barcodes.tsv.gz features.tsv.gz matrix.mtx.gz\n",
       "B005-A-301    barcodes.tsv.gz features.tsv.gz matrix.mtx.gz\n",
       "B005-A-401    barcodes.tsv.gz features.tsv.gz matrix.mtx.gz\n",
       "B005-A-402    barcodes.tsv.gz features.tsv.gz matrix.mtx.gz\n",
       "B005-A-501    barcodes.tsv.gz features.tsv.gz matrix.mtx.gz\n",
       "B005-A-501-R2 barcodes.tsv.gz features.tsv.gz matrix.mtx.gz\n",
       "B006-A-001    barcodes.tsv.gz features.tsv.gz matrix.mtx.gz\n",
       "...           ...             ...             ...          \n",
       "B008-A-501    barcodes.tsv.gz features.tsv.gz matrix.mtx.gz\n",
       "B009-A-001    barcodes.tsv.gz features.tsv.gz matrix.mtx.gz\n",
       "B009-A-101    barcodes.tsv.gz features.tsv.gz matrix.mtx.gz\n",
       "B009-A-301    barcodes.tsv.gz features.tsv.gz matrix.mtx.gz\n",
       "B009-A-401    barcodes.tsv.gz features.tsv.gz matrix.mtx.gz\n",
       "B009-A-405    barcodes.tsv.gz features.tsv.gz matrix.mtx.gz\n",
       "B010-A-001    barcodes.tsv.gz features.tsv.gz matrix.mtx.gz\n",
       "B010-A-002    barcodes.tsv.gz features.tsv.gz matrix.mtx.gz\n",
       "B010-A-101    barcodes.tsv.gz features.tsv.gz matrix.mtx.gz\n",
       "B010-A-201    barcodes.tsv.gz features.tsv.gz matrix.mtx.gz\n",
       "B010-A-301    barcodes.tsv.gz features.tsv.gz matrix.mtx.gz\n",
       "B010-A-401    barcodes.tsv.gz features.tsv.gz matrix.mtx.gz\n",
       "B010-A-405    barcodes.tsv.gz features.tsv.gz matrix.mtx.gz\n",
       "B010-A-501    barcodes.tsv.gz features.tsv.gz matrix.mtx.gz\n",
       "B011-A-001    barcodes.tsv.gz features.tsv.gz matrix.mtx.gz\n",
       "B011-A-002    barcodes.tsv.gz features.tsv.gz matrix.mtx.gz\n",
       "B011-A-101    barcodes.tsv.gz features.tsv.gz matrix.mtx.gz\n",
       "B011-A-201    barcodes.tsv.gz features.tsv.gz matrix.mtx.gz\n",
       "B011-A-301    barcodes.tsv.gz features.tsv.gz matrix.mtx.gz\n",
       "B011-A-401    barcodes.tsv.gz features.tsv.gz matrix.mtx.gz\n",
       "B011-A-405    barcodes.tsv.gz features.tsv.gz matrix.mtx.gz\n",
       "B011-A-501    barcodes.tsv.gz features.tsv.gz matrix.mtx.gz\n",
       "B012-A-001    barcodes.tsv.gz features.tsv.gz matrix.mtx.gz\n",
       "B012-A-002    barcodes.tsv.gz features.tsv.gz matrix.mtx.gz\n",
       "B012-A-101    barcodes.tsv.gz features.tsv.gz matrix.mtx.gz\n",
       "B012-A-201    barcodes.tsv.gz features.tsv.gz matrix.mtx.gz\n",
       "B012-A-301    barcodes.tsv.gz features.tsv.gz matrix.mtx.gz\n",
       "B012-A-401    barcodes.tsv.gz features.tsv.gz matrix.mtx.gz\n",
       "B012-A-405    barcodes.tsv.gz features.tsv.gz matrix.mtx.gz\n",
       "B012-A-501    barcodes.tsv.gz features.tsv.gz matrix.mtx.gz"
      ]
     },
     "metadata": {},
     "output_type": "display_data"
    }
   ],
   "source": [
    "tenxfiles = t(sapply(tenxruns, function(x) setdiff(list.files(paste0(umidir, \"/\", x)), \"\")))\n",
    "tenxfiles"
   ]
  },
  {
   "cell_type": "code",
   "execution_count": 11,
   "id": "062a7834",
   "metadata": {},
   "outputs": [
    {
     "data": {
      "text/html": [
       "<table>\n",
       "<thead><tr><th scope=col>Batch.Set.ID</th><th scope=col>mat_fn</th><th scope=col>genes_fn</th><th scope=col>cells_fn</th></tr></thead>\n",
       "<tbody>\n",
       "\t<tr><td>B001-A-001                   </td><td>B001-A-001/matrix.mtx.gz     </td><td>B001-A-001/features.tsv.gz   </td><td>B001-A-001/barcodes.tsv.gz   </td></tr>\n",
       "\t<tr><td>B001-A-006                   </td><td>B001-A-006/matrix.mtx.gz     </td><td>B001-A-006/features.tsv.gz   </td><td>B001-A-006/barcodes.tsv.gz   </td></tr>\n",
       "\t<tr><td>B001-A-101                   </td><td>B001-A-101/matrix.mtx.gz     </td><td>B001-A-101/features.tsv.gz   </td><td>B001-A-101/barcodes.tsv.gz   </td></tr>\n",
       "\t<tr><td>B001-A-201                   </td><td>B001-A-201/matrix.mtx.gz     </td><td>B001-A-201/features.tsv.gz   </td><td>B001-A-201/barcodes.tsv.gz   </td></tr>\n",
       "\t<tr><td>B001-A-301                   </td><td>B001-A-301/matrix.mtx.gz     </td><td>B001-A-301/features.tsv.gz   </td><td>B001-A-301/barcodes.tsv.gz   </td></tr>\n",
       "\t<tr><td>B001-A-401                   </td><td>B001-A-401/matrix.mtx.gz     </td><td>B001-A-401/features.tsv.gz   </td><td>B001-A-401/barcodes.tsv.gz   </td></tr>\n",
       "\t<tr><td>B001-A-406                   </td><td>B001-A-406/matrix.mtx.gz     </td><td>B001-A-406/features.tsv.gz   </td><td>B001-A-406/barcodes.tsv.gz   </td></tr>\n",
       "\t<tr><td>B001-A-501                   </td><td>B001-A-501/matrix.mtx.gz     </td><td>B001-A-501/features.tsv.gz   </td><td>B001-A-501/barcodes.tsv.gz   </td></tr>\n",
       "\t<tr><td>B004-A-004                   </td><td>B004-A-004/matrix.mtx.gz     </td><td>B004-A-004/features.tsv.gz   </td><td>B004-A-004/barcodes.tsv.gz   </td></tr>\n",
       "\t<tr><td>B004-A-008                   </td><td>B004-A-008/matrix.mtx.gz     </td><td>B004-A-008/features.tsv.gz   </td><td>B004-A-008/barcodes.tsv.gz   </td></tr>\n",
       "\t<tr><td>B004-A-104                   </td><td>B004-A-104/matrix.mtx.gz     </td><td>B004-A-104/features.tsv.gz   </td><td>B004-A-104/barcodes.tsv.gz   </td></tr>\n",
       "\t<tr><td>B004-A-104-R2                </td><td>B004-A-104-R2/matrix.mtx.gz  </td><td>B004-A-104-R2/features.tsv.gz</td><td>B004-A-104-R2/barcodes.tsv.gz</td></tr>\n",
       "\t<tr><td>B004-A-204                   </td><td>B004-A-204/matrix.mtx.gz     </td><td>B004-A-204/features.tsv.gz   </td><td>B004-A-204/barcodes.tsv.gz   </td></tr>\n",
       "\t<tr><td>B004-A-304                   </td><td>B004-A-304/matrix.mtx.gz     </td><td>B004-A-304/features.tsv.gz   </td><td>B004-A-304/barcodes.tsv.gz   </td></tr>\n",
       "\t<tr><td>B004-A-404                   </td><td>B004-A-404/matrix.mtx.gz     </td><td>B004-A-404/features.tsv.gz   </td><td>B004-A-404/barcodes.tsv.gz   </td></tr>\n",
       "\t<tr><td>B004-A-404-R2                </td><td>B004-A-404-R2/matrix.mtx.gz  </td><td>B004-A-404-R2/features.tsv.gz</td><td>B004-A-404-R2/barcodes.tsv.gz</td></tr>\n",
       "\t<tr><td>B004-A-408                   </td><td>B004-A-408/matrix.mtx.gz     </td><td>B004-A-408/features.tsv.gz   </td><td>B004-A-408/barcodes.tsv.gz   </td></tr>\n",
       "\t<tr><td>B004-A-408-R2                </td><td>B004-A-408-R2/matrix.mtx.gz  </td><td>B004-A-408-R2/features.tsv.gz</td><td>B004-A-408-R2/barcodes.tsv.gz</td></tr>\n",
       "\t<tr><td>B004-A-504                   </td><td>B004-A-504/matrix.mtx.gz     </td><td>B004-A-504/features.tsv.gz   </td><td>B004-A-504/barcodes.tsv.gz   </td></tr>\n",
       "\t<tr><td>B004-A-504-R2                </td><td>B004-A-504-R2/matrix.mtx.gz  </td><td>B004-A-504-R2/features.tsv.gz</td><td>B004-A-504-R2/barcodes.tsv.gz</td></tr>\n",
       "\t<tr><td>B005-A-001                   </td><td>B005-A-001/matrix.mtx.gz     </td><td>B005-A-001/features.tsv.gz   </td><td>B005-A-001/barcodes.tsv.gz   </td></tr>\n",
       "\t<tr><td>B005-A-002                   </td><td>B005-A-002/matrix.mtx.gz     </td><td>B005-A-002/features.tsv.gz   </td><td>B005-A-002/barcodes.tsv.gz   </td></tr>\n",
       "\t<tr><td>B005-A-101                   </td><td>B005-A-101/matrix.mtx.gz     </td><td>B005-A-101/features.tsv.gz   </td><td>B005-A-101/barcodes.tsv.gz   </td></tr>\n",
       "\t<tr><td>B005-A-201                   </td><td>B005-A-201/matrix.mtx.gz     </td><td>B005-A-201/features.tsv.gz   </td><td>B005-A-201/barcodes.tsv.gz   </td></tr>\n",
       "\t<tr><td>B005-A-301                   </td><td>B005-A-301/matrix.mtx.gz     </td><td>B005-A-301/features.tsv.gz   </td><td>B005-A-301/barcodes.tsv.gz   </td></tr>\n",
       "\t<tr><td>B005-A-401                   </td><td>B005-A-401/matrix.mtx.gz     </td><td>B005-A-401/features.tsv.gz   </td><td>B005-A-401/barcodes.tsv.gz   </td></tr>\n",
       "\t<tr><td>B005-A-402                   </td><td>B005-A-402/matrix.mtx.gz     </td><td>B005-A-402/features.tsv.gz   </td><td>B005-A-402/barcodes.tsv.gz   </td></tr>\n",
       "\t<tr><td>B005-A-501                   </td><td>B005-A-501/matrix.mtx.gz     </td><td>B005-A-501/features.tsv.gz   </td><td>B005-A-501/barcodes.tsv.gz   </td></tr>\n",
       "\t<tr><td>B005-A-501-R2                </td><td>B005-A-501-R2/matrix.mtx.gz  </td><td>B005-A-501-R2/features.tsv.gz</td><td>B005-A-501-R2/barcodes.tsv.gz</td></tr>\n",
       "\t<tr><td>B006-A-001                   </td><td>B006-A-001/matrix.mtx.gz     </td><td>B006-A-001/features.tsv.gz   </td><td>B006-A-001/barcodes.tsv.gz   </td></tr>\n",
       "\t<tr><td>...</td><td>...</td><td>...</td><td>...</td></tr>\n",
       "\t<tr><td>B008-A-501                </td><td>B008-A-501/matrix.mtx.gz  </td><td>B008-A-501/features.tsv.gz</td><td>B008-A-501/barcodes.tsv.gz</td></tr>\n",
       "\t<tr><td>B009-A-001                </td><td>B009-A-001/matrix.mtx.gz  </td><td>B009-A-001/features.tsv.gz</td><td>B009-A-001/barcodes.tsv.gz</td></tr>\n",
       "\t<tr><td>B009-A-101                </td><td>B009-A-101/matrix.mtx.gz  </td><td>B009-A-101/features.tsv.gz</td><td>B009-A-101/barcodes.tsv.gz</td></tr>\n",
       "\t<tr><td>B009-A-301                </td><td>B009-A-301/matrix.mtx.gz  </td><td>B009-A-301/features.tsv.gz</td><td>B009-A-301/barcodes.tsv.gz</td></tr>\n",
       "\t<tr><td>B009-A-401                </td><td>B009-A-401/matrix.mtx.gz  </td><td>B009-A-401/features.tsv.gz</td><td>B009-A-401/barcodes.tsv.gz</td></tr>\n",
       "\t<tr><td>B009-A-405                </td><td>B009-A-405/matrix.mtx.gz  </td><td>B009-A-405/features.tsv.gz</td><td>B009-A-405/barcodes.tsv.gz</td></tr>\n",
       "\t<tr><td>B010-A-001                </td><td>B010-A-001/matrix.mtx.gz  </td><td>B010-A-001/features.tsv.gz</td><td>B010-A-001/barcodes.tsv.gz</td></tr>\n",
       "\t<tr><td>B010-A-002                </td><td>B010-A-002/matrix.mtx.gz  </td><td>B010-A-002/features.tsv.gz</td><td>B010-A-002/barcodes.tsv.gz</td></tr>\n",
       "\t<tr><td>B010-A-101                </td><td>B010-A-101/matrix.mtx.gz  </td><td>B010-A-101/features.tsv.gz</td><td>B010-A-101/barcodes.tsv.gz</td></tr>\n",
       "\t<tr><td>B010-A-201                </td><td>B010-A-201/matrix.mtx.gz  </td><td>B010-A-201/features.tsv.gz</td><td>B010-A-201/barcodes.tsv.gz</td></tr>\n",
       "\t<tr><td>B010-A-301                </td><td>B010-A-301/matrix.mtx.gz  </td><td>B010-A-301/features.tsv.gz</td><td>B010-A-301/barcodes.tsv.gz</td></tr>\n",
       "\t<tr><td>B010-A-401                </td><td>B010-A-401/matrix.mtx.gz  </td><td>B010-A-401/features.tsv.gz</td><td>B010-A-401/barcodes.tsv.gz</td></tr>\n",
       "\t<tr><td>B010-A-405                </td><td>B010-A-405/matrix.mtx.gz  </td><td>B010-A-405/features.tsv.gz</td><td>B010-A-405/barcodes.tsv.gz</td></tr>\n",
       "\t<tr><td>B010-A-501                </td><td>B010-A-501/matrix.mtx.gz  </td><td>B010-A-501/features.tsv.gz</td><td>B010-A-501/barcodes.tsv.gz</td></tr>\n",
       "\t<tr><td>B011-A-001                </td><td>B011-A-001/matrix.mtx.gz  </td><td>B011-A-001/features.tsv.gz</td><td>B011-A-001/barcodes.tsv.gz</td></tr>\n",
       "\t<tr><td>B011-A-002                </td><td>B011-A-002/matrix.mtx.gz  </td><td>B011-A-002/features.tsv.gz</td><td>B011-A-002/barcodes.tsv.gz</td></tr>\n",
       "\t<tr><td>B011-A-101                </td><td>B011-A-101/matrix.mtx.gz  </td><td>B011-A-101/features.tsv.gz</td><td>B011-A-101/barcodes.tsv.gz</td></tr>\n",
       "\t<tr><td>B011-A-201                </td><td>B011-A-201/matrix.mtx.gz  </td><td>B011-A-201/features.tsv.gz</td><td>B011-A-201/barcodes.tsv.gz</td></tr>\n",
       "\t<tr><td>B011-A-301                </td><td>B011-A-301/matrix.mtx.gz  </td><td>B011-A-301/features.tsv.gz</td><td>B011-A-301/barcodes.tsv.gz</td></tr>\n",
       "\t<tr><td>B011-A-401                </td><td>B011-A-401/matrix.mtx.gz  </td><td>B011-A-401/features.tsv.gz</td><td>B011-A-401/barcodes.tsv.gz</td></tr>\n",
       "\t<tr><td>B011-A-405                </td><td>B011-A-405/matrix.mtx.gz  </td><td>B011-A-405/features.tsv.gz</td><td>B011-A-405/barcodes.tsv.gz</td></tr>\n",
       "\t<tr><td>B011-A-501                </td><td>B011-A-501/matrix.mtx.gz  </td><td>B011-A-501/features.tsv.gz</td><td>B011-A-501/barcodes.tsv.gz</td></tr>\n",
       "\t<tr><td>B012-A-001                </td><td>B012-A-001/matrix.mtx.gz  </td><td>B012-A-001/features.tsv.gz</td><td>B012-A-001/barcodes.tsv.gz</td></tr>\n",
       "\t<tr><td>B012-A-002                </td><td>B012-A-002/matrix.mtx.gz  </td><td>B012-A-002/features.tsv.gz</td><td>B012-A-002/barcodes.tsv.gz</td></tr>\n",
       "\t<tr><td>B012-A-101                </td><td>B012-A-101/matrix.mtx.gz  </td><td>B012-A-101/features.tsv.gz</td><td>B012-A-101/barcodes.tsv.gz</td></tr>\n",
       "\t<tr><td>B012-A-201                </td><td>B012-A-201/matrix.mtx.gz  </td><td>B012-A-201/features.tsv.gz</td><td>B012-A-201/barcodes.tsv.gz</td></tr>\n",
       "\t<tr><td>B012-A-301                </td><td>B012-A-301/matrix.mtx.gz  </td><td>B012-A-301/features.tsv.gz</td><td>B012-A-301/barcodes.tsv.gz</td></tr>\n",
       "\t<tr><td>B012-A-401                </td><td>B012-A-401/matrix.mtx.gz  </td><td>B012-A-401/features.tsv.gz</td><td>B012-A-401/barcodes.tsv.gz</td></tr>\n",
       "\t<tr><td>B012-A-405                </td><td>B012-A-405/matrix.mtx.gz  </td><td>B012-A-405/features.tsv.gz</td><td>B012-A-405/barcodes.tsv.gz</td></tr>\n",
       "\t<tr><td>B012-A-501                </td><td>B012-A-501/matrix.mtx.gz  </td><td>B012-A-501/features.tsv.gz</td><td>B012-A-501/barcodes.tsv.gz</td></tr>\n",
       "</tbody>\n",
       "</table>\n"
      ],
      "text/latex": [
       "\\begin{tabular}{llll}\n",
       " Batch.Set.ID & mat\\_fn & genes\\_fn & cells\\_fn\\\\\n",
       "\\hline\n",
       "\t B001-A-001                    & B001-A-001/matrix.mtx.gz      & B001-A-001/features.tsv.gz    & B001-A-001/barcodes.tsv.gz   \\\\\n",
       "\t B001-A-006                    & B001-A-006/matrix.mtx.gz      & B001-A-006/features.tsv.gz    & B001-A-006/barcodes.tsv.gz   \\\\\n",
       "\t B001-A-101                    & B001-A-101/matrix.mtx.gz      & B001-A-101/features.tsv.gz    & B001-A-101/barcodes.tsv.gz   \\\\\n",
       "\t B001-A-201                    & B001-A-201/matrix.mtx.gz      & B001-A-201/features.tsv.gz    & B001-A-201/barcodes.tsv.gz   \\\\\n",
       "\t B001-A-301                    & B001-A-301/matrix.mtx.gz      & B001-A-301/features.tsv.gz    & B001-A-301/barcodes.tsv.gz   \\\\\n",
       "\t B001-A-401                    & B001-A-401/matrix.mtx.gz      & B001-A-401/features.tsv.gz    & B001-A-401/barcodes.tsv.gz   \\\\\n",
       "\t B001-A-406                    & B001-A-406/matrix.mtx.gz      & B001-A-406/features.tsv.gz    & B001-A-406/barcodes.tsv.gz   \\\\\n",
       "\t B001-A-501                    & B001-A-501/matrix.mtx.gz      & B001-A-501/features.tsv.gz    & B001-A-501/barcodes.tsv.gz   \\\\\n",
       "\t B004-A-004                    & B004-A-004/matrix.mtx.gz      & B004-A-004/features.tsv.gz    & B004-A-004/barcodes.tsv.gz   \\\\\n",
       "\t B004-A-008                    & B004-A-008/matrix.mtx.gz      & B004-A-008/features.tsv.gz    & B004-A-008/barcodes.tsv.gz   \\\\\n",
       "\t B004-A-104                    & B004-A-104/matrix.mtx.gz      & B004-A-104/features.tsv.gz    & B004-A-104/barcodes.tsv.gz   \\\\\n",
       "\t B004-A-104-R2                 & B004-A-104-R2/matrix.mtx.gz   & B004-A-104-R2/features.tsv.gz & B004-A-104-R2/barcodes.tsv.gz\\\\\n",
       "\t B004-A-204                    & B004-A-204/matrix.mtx.gz      & B004-A-204/features.tsv.gz    & B004-A-204/barcodes.tsv.gz   \\\\\n",
       "\t B004-A-304                    & B004-A-304/matrix.mtx.gz      & B004-A-304/features.tsv.gz    & B004-A-304/barcodes.tsv.gz   \\\\\n",
       "\t B004-A-404                    & B004-A-404/matrix.mtx.gz      & B004-A-404/features.tsv.gz    & B004-A-404/barcodes.tsv.gz   \\\\\n",
       "\t B004-A-404-R2                 & B004-A-404-R2/matrix.mtx.gz   & B004-A-404-R2/features.tsv.gz & B004-A-404-R2/barcodes.tsv.gz\\\\\n",
       "\t B004-A-408                    & B004-A-408/matrix.mtx.gz      & B004-A-408/features.tsv.gz    & B004-A-408/barcodes.tsv.gz   \\\\\n",
       "\t B004-A-408-R2                 & B004-A-408-R2/matrix.mtx.gz   & B004-A-408-R2/features.tsv.gz & B004-A-408-R2/barcodes.tsv.gz\\\\\n",
       "\t B004-A-504                    & B004-A-504/matrix.mtx.gz      & B004-A-504/features.tsv.gz    & B004-A-504/barcodes.tsv.gz   \\\\\n",
       "\t B004-A-504-R2                 & B004-A-504-R2/matrix.mtx.gz   & B004-A-504-R2/features.tsv.gz & B004-A-504-R2/barcodes.tsv.gz\\\\\n",
       "\t B005-A-001                    & B005-A-001/matrix.mtx.gz      & B005-A-001/features.tsv.gz    & B005-A-001/barcodes.tsv.gz   \\\\\n",
       "\t B005-A-002                    & B005-A-002/matrix.mtx.gz      & B005-A-002/features.tsv.gz    & B005-A-002/barcodes.tsv.gz   \\\\\n",
       "\t B005-A-101                    & B005-A-101/matrix.mtx.gz      & B005-A-101/features.tsv.gz    & B005-A-101/barcodes.tsv.gz   \\\\\n",
       "\t B005-A-201                    & B005-A-201/matrix.mtx.gz      & B005-A-201/features.tsv.gz    & B005-A-201/barcodes.tsv.gz   \\\\\n",
       "\t B005-A-301                    & B005-A-301/matrix.mtx.gz      & B005-A-301/features.tsv.gz    & B005-A-301/barcodes.tsv.gz   \\\\\n",
       "\t B005-A-401                    & B005-A-401/matrix.mtx.gz      & B005-A-401/features.tsv.gz    & B005-A-401/barcodes.tsv.gz   \\\\\n",
       "\t B005-A-402                    & B005-A-402/matrix.mtx.gz      & B005-A-402/features.tsv.gz    & B005-A-402/barcodes.tsv.gz   \\\\\n",
       "\t B005-A-501                    & B005-A-501/matrix.mtx.gz      & B005-A-501/features.tsv.gz    & B005-A-501/barcodes.tsv.gz   \\\\\n",
       "\t B005-A-501-R2                 & B005-A-501-R2/matrix.mtx.gz   & B005-A-501-R2/features.tsv.gz & B005-A-501-R2/barcodes.tsv.gz\\\\\n",
       "\t B006-A-001                    & B006-A-001/matrix.mtx.gz      & B006-A-001/features.tsv.gz    & B006-A-001/barcodes.tsv.gz   \\\\\n",
       "\t ... & ... & ... & ...\\\\\n",
       "\t B008-A-501                 & B008-A-501/matrix.mtx.gz   & B008-A-501/features.tsv.gz & B008-A-501/barcodes.tsv.gz\\\\\n",
       "\t B009-A-001                 & B009-A-001/matrix.mtx.gz   & B009-A-001/features.tsv.gz & B009-A-001/barcodes.tsv.gz\\\\\n",
       "\t B009-A-101                 & B009-A-101/matrix.mtx.gz   & B009-A-101/features.tsv.gz & B009-A-101/barcodes.tsv.gz\\\\\n",
       "\t B009-A-301                 & B009-A-301/matrix.mtx.gz   & B009-A-301/features.tsv.gz & B009-A-301/barcodes.tsv.gz\\\\\n",
       "\t B009-A-401                 & B009-A-401/matrix.mtx.gz   & B009-A-401/features.tsv.gz & B009-A-401/barcodes.tsv.gz\\\\\n",
       "\t B009-A-405                 & B009-A-405/matrix.mtx.gz   & B009-A-405/features.tsv.gz & B009-A-405/barcodes.tsv.gz\\\\\n",
       "\t B010-A-001                 & B010-A-001/matrix.mtx.gz   & B010-A-001/features.tsv.gz & B010-A-001/barcodes.tsv.gz\\\\\n",
       "\t B010-A-002                 & B010-A-002/matrix.mtx.gz   & B010-A-002/features.tsv.gz & B010-A-002/barcodes.tsv.gz\\\\\n",
       "\t B010-A-101                 & B010-A-101/matrix.mtx.gz   & B010-A-101/features.tsv.gz & B010-A-101/barcodes.tsv.gz\\\\\n",
       "\t B010-A-201                 & B010-A-201/matrix.mtx.gz   & B010-A-201/features.tsv.gz & B010-A-201/barcodes.tsv.gz\\\\\n",
       "\t B010-A-301                 & B010-A-301/matrix.mtx.gz   & B010-A-301/features.tsv.gz & B010-A-301/barcodes.tsv.gz\\\\\n",
       "\t B010-A-401                 & B010-A-401/matrix.mtx.gz   & B010-A-401/features.tsv.gz & B010-A-401/barcodes.tsv.gz\\\\\n",
       "\t B010-A-405                 & B010-A-405/matrix.mtx.gz   & B010-A-405/features.tsv.gz & B010-A-405/barcodes.tsv.gz\\\\\n",
       "\t B010-A-501                 & B010-A-501/matrix.mtx.gz   & B010-A-501/features.tsv.gz & B010-A-501/barcodes.tsv.gz\\\\\n",
       "\t B011-A-001                 & B011-A-001/matrix.mtx.gz   & B011-A-001/features.tsv.gz & B011-A-001/barcodes.tsv.gz\\\\\n",
       "\t B011-A-002                 & B011-A-002/matrix.mtx.gz   & B011-A-002/features.tsv.gz & B011-A-002/barcodes.tsv.gz\\\\\n",
       "\t B011-A-101                 & B011-A-101/matrix.mtx.gz   & B011-A-101/features.tsv.gz & B011-A-101/barcodes.tsv.gz\\\\\n",
       "\t B011-A-201                 & B011-A-201/matrix.mtx.gz   & B011-A-201/features.tsv.gz & B011-A-201/barcodes.tsv.gz\\\\\n",
       "\t B011-A-301                 & B011-A-301/matrix.mtx.gz   & B011-A-301/features.tsv.gz & B011-A-301/barcodes.tsv.gz\\\\\n",
       "\t B011-A-401                 & B011-A-401/matrix.mtx.gz   & B011-A-401/features.tsv.gz & B011-A-401/barcodes.tsv.gz\\\\\n",
       "\t B011-A-405                 & B011-A-405/matrix.mtx.gz   & B011-A-405/features.tsv.gz & B011-A-405/barcodes.tsv.gz\\\\\n",
       "\t B011-A-501                 & B011-A-501/matrix.mtx.gz   & B011-A-501/features.tsv.gz & B011-A-501/barcodes.tsv.gz\\\\\n",
       "\t B012-A-001                 & B012-A-001/matrix.mtx.gz   & B012-A-001/features.tsv.gz & B012-A-001/barcodes.tsv.gz\\\\\n",
       "\t B012-A-002                 & B012-A-002/matrix.mtx.gz   & B012-A-002/features.tsv.gz & B012-A-002/barcodes.tsv.gz\\\\\n",
       "\t B012-A-101                 & B012-A-101/matrix.mtx.gz   & B012-A-101/features.tsv.gz & B012-A-101/barcodes.tsv.gz\\\\\n",
       "\t B012-A-201                 & B012-A-201/matrix.mtx.gz   & B012-A-201/features.tsv.gz & B012-A-201/barcodes.tsv.gz\\\\\n",
       "\t B012-A-301                 & B012-A-301/matrix.mtx.gz   & B012-A-301/features.tsv.gz & B012-A-301/barcodes.tsv.gz\\\\\n",
       "\t B012-A-401                 & B012-A-401/matrix.mtx.gz   & B012-A-401/features.tsv.gz & B012-A-401/barcodes.tsv.gz\\\\\n",
       "\t B012-A-405                 & B012-A-405/matrix.mtx.gz   & B012-A-405/features.tsv.gz & B012-A-405/barcodes.tsv.gz\\\\\n",
       "\t B012-A-501                 & B012-A-501/matrix.mtx.gz   & B012-A-501/features.tsv.gz & B012-A-501/barcodes.tsv.gz\\\\\n",
       "\\end{tabular}\n"
      ],
      "text/markdown": [
       "\n",
       "| Batch.Set.ID | mat_fn | genes_fn | cells_fn |\n",
       "|---|---|---|---|\n",
       "| B001-A-001                    | B001-A-001/matrix.mtx.gz      | B001-A-001/features.tsv.gz    | B001-A-001/barcodes.tsv.gz    |\n",
       "| B001-A-006                    | B001-A-006/matrix.mtx.gz      | B001-A-006/features.tsv.gz    | B001-A-006/barcodes.tsv.gz    |\n",
       "| B001-A-101                    | B001-A-101/matrix.mtx.gz      | B001-A-101/features.tsv.gz    | B001-A-101/barcodes.tsv.gz    |\n",
       "| B001-A-201                    | B001-A-201/matrix.mtx.gz      | B001-A-201/features.tsv.gz    | B001-A-201/barcodes.tsv.gz    |\n",
       "| B001-A-301                    | B001-A-301/matrix.mtx.gz      | B001-A-301/features.tsv.gz    | B001-A-301/barcodes.tsv.gz    |\n",
       "| B001-A-401                    | B001-A-401/matrix.mtx.gz      | B001-A-401/features.tsv.gz    | B001-A-401/barcodes.tsv.gz    |\n",
       "| B001-A-406                    | B001-A-406/matrix.mtx.gz      | B001-A-406/features.tsv.gz    | B001-A-406/barcodes.tsv.gz    |\n",
       "| B001-A-501                    | B001-A-501/matrix.mtx.gz      | B001-A-501/features.tsv.gz    | B001-A-501/barcodes.tsv.gz    |\n",
       "| B004-A-004                    | B004-A-004/matrix.mtx.gz      | B004-A-004/features.tsv.gz    | B004-A-004/barcodes.tsv.gz    |\n",
       "| B004-A-008                    | B004-A-008/matrix.mtx.gz      | B004-A-008/features.tsv.gz    | B004-A-008/barcodes.tsv.gz    |\n",
       "| B004-A-104                    | B004-A-104/matrix.mtx.gz      | B004-A-104/features.tsv.gz    | B004-A-104/barcodes.tsv.gz    |\n",
       "| B004-A-104-R2                 | B004-A-104-R2/matrix.mtx.gz   | B004-A-104-R2/features.tsv.gz | B004-A-104-R2/barcodes.tsv.gz |\n",
       "| B004-A-204                    | B004-A-204/matrix.mtx.gz      | B004-A-204/features.tsv.gz    | B004-A-204/barcodes.tsv.gz    |\n",
       "| B004-A-304                    | B004-A-304/matrix.mtx.gz      | B004-A-304/features.tsv.gz    | B004-A-304/barcodes.tsv.gz    |\n",
       "| B004-A-404                    | B004-A-404/matrix.mtx.gz      | B004-A-404/features.tsv.gz    | B004-A-404/barcodes.tsv.gz    |\n",
       "| B004-A-404-R2                 | B004-A-404-R2/matrix.mtx.gz   | B004-A-404-R2/features.tsv.gz | B004-A-404-R2/barcodes.tsv.gz |\n",
       "| B004-A-408                    | B004-A-408/matrix.mtx.gz      | B004-A-408/features.tsv.gz    | B004-A-408/barcodes.tsv.gz    |\n",
       "| B004-A-408-R2                 | B004-A-408-R2/matrix.mtx.gz   | B004-A-408-R2/features.tsv.gz | B004-A-408-R2/barcodes.tsv.gz |\n",
       "| B004-A-504                    | B004-A-504/matrix.mtx.gz      | B004-A-504/features.tsv.gz    | B004-A-504/barcodes.tsv.gz    |\n",
       "| B004-A-504-R2                 | B004-A-504-R2/matrix.mtx.gz   | B004-A-504-R2/features.tsv.gz | B004-A-504-R2/barcodes.tsv.gz |\n",
       "| B005-A-001                    | B005-A-001/matrix.mtx.gz      | B005-A-001/features.tsv.gz    | B005-A-001/barcodes.tsv.gz    |\n",
       "| B005-A-002                    | B005-A-002/matrix.mtx.gz      | B005-A-002/features.tsv.gz    | B005-A-002/barcodes.tsv.gz    |\n",
       "| B005-A-101                    | B005-A-101/matrix.mtx.gz      | B005-A-101/features.tsv.gz    | B005-A-101/barcodes.tsv.gz    |\n",
       "| B005-A-201                    | B005-A-201/matrix.mtx.gz      | B005-A-201/features.tsv.gz    | B005-A-201/barcodes.tsv.gz    |\n",
       "| B005-A-301                    | B005-A-301/matrix.mtx.gz      | B005-A-301/features.tsv.gz    | B005-A-301/barcodes.tsv.gz    |\n",
       "| B005-A-401                    | B005-A-401/matrix.mtx.gz      | B005-A-401/features.tsv.gz    | B005-A-401/barcodes.tsv.gz    |\n",
       "| B005-A-402                    | B005-A-402/matrix.mtx.gz      | B005-A-402/features.tsv.gz    | B005-A-402/barcodes.tsv.gz    |\n",
       "| B005-A-501                    | B005-A-501/matrix.mtx.gz      | B005-A-501/features.tsv.gz    | B005-A-501/barcodes.tsv.gz    |\n",
       "| B005-A-501-R2                 | B005-A-501-R2/matrix.mtx.gz   | B005-A-501-R2/features.tsv.gz | B005-A-501-R2/barcodes.tsv.gz |\n",
       "| B006-A-001                    | B006-A-001/matrix.mtx.gz      | B006-A-001/features.tsv.gz    | B006-A-001/barcodes.tsv.gz    |\n",
       "| ... | ... | ... | ... |\n",
       "| B008-A-501                 | B008-A-501/matrix.mtx.gz   | B008-A-501/features.tsv.gz | B008-A-501/barcodes.tsv.gz |\n",
       "| B009-A-001                 | B009-A-001/matrix.mtx.gz   | B009-A-001/features.tsv.gz | B009-A-001/barcodes.tsv.gz |\n",
       "| B009-A-101                 | B009-A-101/matrix.mtx.gz   | B009-A-101/features.tsv.gz | B009-A-101/barcodes.tsv.gz |\n",
       "| B009-A-301                 | B009-A-301/matrix.mtx.gz   | B009-A-301/features.tsv.gz | B009-A-301/barcodes.tsv.gz |\n",
       "| B009-A-401                 | B009-A-401/matrix.mtx.gz   | B009-A-401/features.tsv.gz | B009-A-401/barcodes.tsv.gz |\n",
       "| B009-A-405                 | B009-A-405/matrix.mtx.gz   | B009-A-405/features.tsv.gz | B009-A-405/barcodes.tsv.gz |\n",
       "| B010-A-001                 | B010-A-001/matrix.mtx.gz   | B010-A-001/features.tsv.gz | B010-A-001/barcodes.tsv.gz |\n",
       "| B010-A-002                 | B010-A-002/matrix.mtx.gz   | B010-A-002/features.tsv.gz | B010-A-002/barcodes.tsv.gz |\n",
       "| B010-A-101                 | B010-A-101/matrix.mtx.gz   | B010-A-101/features.tsv.gz | B010-A-101/barcodes.tsv.gz |\n",
       "| B010-A-201                 | B010-A-201/matrix.mtx.gz   | B010-A-201/features.tsv.gz | B010-A-201/barcodes.tsv.gz |\n",
       "| B010-A-301                 | B010-A-301/matrix.mtx.gz   | B010-A-301/features.tsv.gz | B010-A-301/barcodes.tsv.gz |\n",
       "| B010-A-401                 | B010-A-401/matrix.mtx.gz   | B010-A-401/features.tsv.gz | B010-A-401/barcodes.tsv.gz |\n",
       "| B010-A-405                 | B010-A-405/matrix.mtx.gz   | B010-A-405/features.tsv.gz | B010-A-405/barcodes.tsv.gz |\n",
       "| B010-A-501                 | B010-A-501/matrix.mtx.gz   | B010-A-501/features.tsv.gz | B010-A-501/barcodes.tsv.gz |\n",
       "| B011-A-001                 | B011-A-001/matrix.mtx.gz   | B011-A-001/features.tsv.gz | B011-A-001/barcodes.tsv.gz |\n",
       "| B011-A-002                 | B011-A-002/matrix.mtx.gz   | B011-A-002/features.tsv.gz | B011-A-002/barcodes.tsv.gz |\n",
       "| B011-A-101                 | B011-A-101/matrix.mtx.gz   | B011-A-101/features.tsv.gz | B011-A-101/barcodes.tsv.gz |\n",
       "| B011-A-201                 | B011-A-201/matrix.mtx.gz   | B011-A-201/features.tsv.gz | B011-A-201/barcodes.tsv.gz |\n",
       "| B011-A-301                 | B011-A-301/matrix.mtx.gz   | B011-A-301/features.tsv.gz | B011-A-301/barcodes.tsv.gz |\n",
       "| B011-A-401                 | B011-A-401/matrix.mtx.gz   | B011-A-401/features.tsv.gz | B011-A-401/barcodes.tsv.gz |\n",
       "| B011-A-405                 | B011-A-405/matrix.mtx.gz   | B011-A-405/features.tsv.gz | B011-A-405/barcodes.tsv.gz |\n",
       "| B011-A-501                 | B011-A-501/matrix.mtx.gz   | B011-A-501/features.tsv.gz | B011-A-501/barcodes.tsv.gz |\n",
       "| B012-A-001                 | B012-A-001/matrix.mtx.gz   | B012-A-001/features.tsv.gz | B012-A-001/barcodes.tsv.gz |\n",
       "| B012-A-002                 | B012-A-002/matrix.mtx.gz   | B012-A-002/features.tsv.gz | B012-A-002/barcodes.tsv.gz |\n",
       "| B012-A-101                 | B012-A-101/matrix.mtx.gz   | B012-A-101/features.tsv.gz | B012-A-101/barcodes.tsv.gz |\n",
       "| B012-A-201                 | B012-A-201/matrix.mtx.gz   | B012-A-201/features.tsv.gz | B012-A-201/barcodes.tsv.gz |\n",
       "| B012-A-301                 | B012-A-301/matrix.mtx.gz   | B012-A-301/features.tsv.gz | B012-A-301/barcodes.tsv.gz |\n",
       "| B012-A-401                 | B012-A-401/matrix.mtx.gz   | B012-A-401/features.tsv.gz | B012-A-401/barcodes.tsv.gz |\n",
       "| B012-A-405                 | B012-A-405/matrix.mtx.gz   | B012-A-405/features.tsv.gz | B012-A-405/barcodes.tsv.gz |\n",
       "| B012-A-501                 | B012-A-501/matrix.mtx.gz   | B012-A-501/features.tsv.gz | B012-A-501/barcodes.tsv.gz |\n",
       "\n"
      ],
      "text/plain": [
       "      Batch.Set.ID  mat_fn                      genes_fn                     \n",
       " [1,] B001-A-001    B001-A-001/matrix.mtx.gz    B001-A-001/features.tsv.gz   \n",
       " [2,] B001-A-006    B001-A-006/matrix.mtx.gz    B001-A-006/features.tsv.gz   \n",
       " [3,] B001-A-101    B001-A-101/matrix.mtx.gz    B001-A-101/features.tsv.gz   \n",
       " [4,] B001-A-201    B001-A-201/matrix.mtx.gz    B001-A-201/features.tsv.gz   \n",
       " [5,] B001-A-301    B001-A-301/matrix.mtx.gz    B001-A-301/features.tsv.gz   \n",
       " [6,] B001-A-401    B001-A-401/matrix.mtx.gz    B001-A-401/features.tsv.gz   \n",
       " [7,] B001-A-406    B001-A-406/matrix.mtx.gz    B001-A-406/features.tsv.gz   \n",
       " [8,] B001-A-501    B001-A-501/matrix.mtx.gz    B001-A-501/features.tsv.gz   \n",
       " [9,] B004-A-004    B004-A-004/matrix.mtx.gz    B004-A-004/features.tsv.gz   \n",
       "[10,] B004-A-008    B004-A-008/matrix.mtx.gz    B004-A-008/features.tsv.gz   \n",
       "[11,] B004-A-104    B004-A-104/matrix.mtx.gz    B004-A-104/features.tsv.gz   \n",
       "[12,] B004-A-104-R2 B004-A-104-R2/matrix.mtx.gz B004-A-104-R2/features.tsv.gz\n",
       "[13,] B004-A-204    B004-A-204/matrix.mtx.gz    B004-A-204/features.tsv.gz   \n",
       "[14,] B004-A-304    B004-A-304/matrix.mtx.gz    B004-A-304/features.tsv.gz   \n",
       "[15,] B004-A-404    B004-A-404/matrix.mtx.gz    B004-A-404/features.tsv.gz   \n",
       "[16,] B004-A-404-R2 B004-A-404-R2/matrix.mtx.gz B004-A-404-R2/features.tsv.gz\n",
       "[17,] B004-A-408    B004-A-408/matrix.mtx.gz    B004-A-408/features.tsv.gz   \n",
       "[18,] B004-A-408-R2 B004-A-408-R2/matrix.mtx.gz B004-A-408-R2/features.tsv.gz\n",
       "[19,] B004-A-504    B004-A-504/matrix.mtx.gz    B004-A-504/features.tsv.gz   \n",
       "[20,] B004-A-504-R2 B004-A-504-R2/matrix.mtx.gz B004-A-504-R2/features.tsv.gz\n",
       "[21,] B005-A-001    B005-A-001/matrix.mtx.gz    B005-A-001/features.tsv.gz   \n",
       "[22,] B005-A-002    B005-A-002/matrix.mtx.gz    B005-A-002/features.tsv.gz   \n",
       "[23,] B005-A-101    B005-A-101/matrix.mtx.gz    B005-A-101/features.tsv.gz   \n",
       "[24,] B005-A-201    B005-A-201/matrix.mtx.gz    B005-A-201/features.tsv.gz   \n",
       "[25,] B005-A-301    B005-A-301/matrix.mtx.gz    B005-A-301/features.tsv.gz   \n",
       "[26,] B005-A-401    B005-A-401/matrix.mtx.gz    B005-A-401/features.tsv.gz   \n",
       "[27,] B005-A-402    B005-A-402/matrix.mtx.gz    B005-A-402/features.tsv.gz   \n",
       "[28,] B005-A-501    B005-A-501/matrix.mtx.gz    B005-A-501/features.tsv.gz   \n",
       "[29,] B005-A-501-R2 B005-A-501-R2/matrix.mtx.gz B005-A-501-R2/features.tsv.gz\n",
       "[30,] B006-A-001    B006-A-001/matrix.mtx.gz    B006-A-001/features.tsv.gz   \n",
       "[31,] ...           ...                         ...                          \n",
       "[32,] B008-A-501    B008-A-501/matrix.mtx.gz    B008-A-501/features.tsv.gz   \n",
       "[33,] B009-A-001    B009-A-001/matrix.mtx.gz    B009-A-001/features.tsv.gz   \n",
       "[34,] B009-A-101    B009-A-101/matrix.mtx.gz    B009-A-101/features.tsv.gz   \n",
       "[35,] B009-A-301    B009-A-301/matrix.mtx.gz    B009-A-301/features.tsv.gz   \n",
       "[36,] B009-A-401    B009-A-401/matrix.mtx.gz    B009-A-401/features.tsv.gz   \n",
       "[37,] B009-A-405    B009-A-405/matrix.mtx.gz    B009-A-405/features.tsv.gz   \n",
       "[38,] B010-A-001    B010-A-001/matrix.mtx.gz    B010-A-001/features.tsv.gz   \n",
       "[39,] B010-A-002    B010-A-002/matrix.mtx.gz    B010-A-002/features.tsv.gz   \n",
       "[40,] B010-A-101    B010-A-101/matrix.mtx.gz    B010-A-101/features.tsv.gz   \n",
       "[41,] B010-A-201    B010-A-201/matrix.mtx.gz    B010-A-201/features.tsv.gz   \n",
       "[42,] B010-A-301    B010-A-301/matrix.mtx.gz    B010-A-301/features.tsv.gz   \n",
       "[43,] B010-A-401    B010-A-401/matrix.mtx.gz    B010-A-401/features.tsv.gz   \n",
       "[44,] B010-A-405    B010-A-405/matrix.mtx.gz    B010-A-405/features.tsv.gz   \n",
       "[45,] B010-A-501    B010-A-501/matrix.mtx.gz    B010-A-501/features.tsv.gz   \n",
       "[46,] B011-A-001    B011-A-001/matrix.mtx.gz    B011-A-001/features.tsv.gz   \n",
       "[47,] B011-A-002    B011-A-002/matrix.mtx.gz    B011-A-002/features.tsv.gz   \n",
       "[48,] B011-A-101    B011-A-101/matrix.mtx.gz    B011-A-101/features.tsv.gz   \n",
       "[49,] B011-A-201    B011-A-201/matrix.mtx.gz    B011-A-201/features.tsv.gz   \n",
       "[50,] B011-A-301    B011-A-301/matrix.mtx.gz    B011-A-301/features.tsv.gz   \n",
       "[51,] B011-A-401    B011-A-401/matrix.mtx.gz    B011-A-401/features.tsv.gz   \n",
       "[52,] B011-A-405    B011-A-405/matrix.mtx.gz    B011-A-405/features.tsv.gz   \n",
       "[53,] B011-A-501    B011-A-501/matrix.mtx.gz    B011-A-501/features.tsv.gz   \n",
       "[54,] B012-A-001    B012-A-001/matrix.mtx.gz    B012-A-001/features.tsv.gz   \n",
       "[55,] B012-A-002    B012-A-002/matrix.mtx.gz    B012-A-002/features.tsv.gz   \n",
       "[56,] B012-A-101    B012-A-101/matrix.mtx.gz    B012-A-101/features.tsv.gz   \n",
       "[57,] B012-A-201    B012-A-201/matrix.mtx.gz    B012-A-201/features.tsv.gz   \n",
       "[58,] B012-A-301    B012-A-301/matrix.mtx.gz    B012-A-301/features.tsv.gz   \n",
       "[59,] B012-A-401    B012-A-401/matrix.mtx.gz    B012-A-401/features.tsv.gz   \n",
       "[60,] B012-A-405    B012-A-405/matrix.mtx.gz    B012-A-405/features.tsv.gz   \n",
       "[61,] B012-A-501    B012-A-501/matrix.mtx.gz    B012-A-501/features.tsv.gz   \n",
       "      cells_fn                     \n",
       " [1,] B001-A-001/barcodes.tsv.gz   \n",
       " [2,] B001-A-006/barcodes.tsv.gz   \n",
       " [3,] B001-A-101/barcodes.tsv.gz   \n",
       " [4,] B001-A-201/barcodes.tsv.gz   \n",
       " [5,] B001-A-301/barcodes.tsv.gz   \n",
       " [6,] B001-A-401/barcodes.tsv.gz   \n",
       " [7,] B001-A-406/barcodes.tsv.gz   \n",
       " [8,] B001-A-501/barcodes.tsv.gz   \n",
       " [9,] B004-A-004/barcodes.tsv.gz   \n",
       "[10,] B004-A-008/barcodes.tsv.gz   \n",
       "[11,] B004-A-104/barcodes.tsv.gz   \n",
       "[12,] B004-A-104-R2/barcodes.tsv.gz\n",
       "[13,] B004-A-204/barcodes.tsv.gz   \n",
       "[14,] B004-A-304/barcodes.tsv.gz   \n",
       "[15,] B004-A-404/barcodes.tsv.gz   \n",
       "[16,] B004-A-404-R2/barcodes.tsv.gz\n",
       "[17,] B004-A-408/barcodes.tsv.gz   \n",
       "[18,] B004-A-408-R2/barcodes.tsv.gz\n",
       "[19,] B004-A-504/barcodes.tsv.gz   \n",
       "[20,] B004-A-504-R2/barcodes.tsv.gz\n",
       "[21,] B005-A-001/barcodes.tsv.gz   \n",
       "[22,] B005-A-002/barcodes.tsv.gz   \n",
       "[23,] B005-A-101/barcodes.tsv.gz   \n",
       "[24,] B005-A-201/barcodes.tsv.gz   \n",
       "[25,] B005-A-301/barcodes.tsv.gz   \n",
       "[26,] B005-A-401/barcodes.tsv.gz   \n",
       "[27,] B005-A-402/barcodes.tsv.gz   \n",
       "[28,] B005-A-501/barcodes.tsv.gz   \n",
       "[29,] B005-A-501-R2/barcodes.tsv.gz\n",
       "[30,] B006-A-001/barcodes.tsv.gz   \n",
       "[31,] ...                          \n",
       "[32,] B008-A-501/barcodes.tsv.gz   \n",
       "[33,] B009-A-001/barcodes.tsv.gz   \n",
       "[34,] B009-A-101/barcodes.tsv.gz   \n",
       "[35,] B009-A-301/barcodes.tsv.gz   \n",
       "[36,] B009-A-401/barcodes.tsv.gz   \n",
       "[37,] B009-A-405/barcodes.tsv.gz   \n",
       "[38,] B010-A-001/barcodes.tsv.gz   \n",
       "[39,] B010-A-002/barcodes.tsv.gz   \n",
       "[40,] B010-A-101/barcodes.tsv.gz   \n",
       "[41,] B010-A-201/barcodes.tsv.gz   \n",
       "[42,] B010-A-301/barcodes.tsv.gz   \n",
       "[43,] B010-A-401/barcodes.tsv.gz   \n",
       "[44,] B010-A-405/barcodes.tsv.gz   \n",
       "[45,] B010-A-501/barcodes.tsv.gz   \n",
       "[46,] B011-A-001/barcodes.tsv.gz   \n",
       "[47,] B011-A-002/barcodes.tsv.gz   \n",
       "[48,] B011-A-101/barcodes.tsv.gz   \n",
       "[49,] B011-A-201/barcodes.tsv.gz   \n",
       "[50,] B011-A-301/barcodes.tsv.gz   \n",
       "[51,] B011-A-401/barcodes.tsv.gz   \n",
       "[52,] B011-A-405/barcodes.tsv.gz   \n",
       "[53,] B011-A-501/barcodes.tsv.gz   \n",
       "[54,] B012-A-001/barcodes.tsv.gz   \n",
       "[55,] B012-A-002/barcodes.tsv.gz   \n",
       "[56,] B012-A-101/barcodes.tsv.gz   \n",
       "[57,] B012-A-201/barcodes.tsv.gz   \n",
       "[58,] B012-A-301/barcodes.tsv.gz   \n",
       "[59,] B012-A-401/barcodes.tsv.gz   \n",
       "[60,] B012-A-405/barcodes.tsv.gz   \n",
       "[61,] B012-A-501/barcodes.tsv.gz   "
      ]
     },
     "metadata": {},
     "output_type": "display_data"
    }
   ],
   "source": [
    "files_tab = cbind(Batch.Set.ID = tenxruns, \n",
    "                  mat_fn = paste0(tenxruns, \"/\", tenxfiles[,3]), \n",
    "                  genes_fn = paste0(tenxruns, \"/\", tenxfiles[,2]),\n",
    "                  cells_fn = paste0(tenxruns, \"/\", tenxfiles[,1]))\n",
    "files_tab\n",
    "\n",
    "write.table(files_tab, quote=F, sep = \"\\t\", row.names = F, file = paste0(umidir, \"/datasets_table_fn.txt\"))"
   ]
  },
  {
   "cell_type": "code",
   "execution_count": 15,
   "id": "44e7d9ae",
   "metadata": {},
   "outputs": [
    {
     "data": {
      "text/plain": [
       "                             \n",
       "                              Colon Duodenum Ileum Jejunum\n",
       "  Best4+ Enterocytes           4028      603   274    1343\n",
       "  CyclingTA 1                  9204     1609   622    4278\n",
       "  CyclingTA 2                   886        0     0       0\n",
       "  Enterocytes                  7655     5055  3475    5312\n",
       "  Enteroendocrine               628      802   722    1501\n",
       "  Epithelial                      0     4434  3850    4704\n",
       "  Goblet                       2312      861   576    1803\n",
       "  Immature Enterocytes         8955    15234  7791   22889\n",
       "  Immature Goblet              8311      405  1432    1876\n",
       "  Paneth                          0      289   251    1938\n",
       "  Secretory Specialized MUC6+     0     1740     0       0\n",
       "  Stem                         3351      694   914    2127\n",
       "  TA1                         15884     2895  2138    9988\n",
       "  TA2                         10834     4474  1544    6748\n",
       "  Tuft                          221      170    38     690\n",
       "  Unknown                         0       27     0       0"
      ]
     },
     "metadata": {},
     "output_type": "display_data"
    },
    {
     "data": {
      "text/html": [
       "690"
      ],
      "text/latex": [
       "690"
      ],
      "text/markdown": [
       "690"
      ],
      "text/plain": [
       "[1] 690"
      ]
     },
     "metadata": {},
     "output_type": "display_data"
    },
    {
     "data": {
      "text/html": [
       "<ol class=list-inline>\n",
       "\t<li>'B001-A-001_AAAGGGCAGCTGGCCT-1'</li>\n",
       "\t<li>'B001-A-001_AGGAATACAAAGCTAA-1'</li>\n",
       "\t<li>'B001-A-001_AGGTCATGTGACAGCA-1'</li>\n",
       "\t<li>'B001-A-001_CAAGGGAGTAGACGGT-1'</li>\n",
       "\t<li>'B001-A-001_CAGGTATGTTACGGAG-1'</li>\n",
       "\t<li>'B001-A-001_CCACCATAGGATAATC-1'</li>\n",
       "</ol>\n"
      ],
      "text/latex": [
       "\\begin{enumerate*}\n",
       "\\item 'B001-A-001\\_AAAGGGCAGCTGGCCT-1'\n",
       "\\item 'B001-A-001\\_AGGAATACAAAGCTAA-1'\n",
       "\\item 'B001-A-001\\_AGGTCATGTGACAGCA-1'\n",
       "\\item 'B001-A-001\\_CAAGGGAGTAGACGGT-1'\n",
       "\\item 'B001-A-001\\_CAGGTATGTTACGGAG-1'\n",
       "\\item 'B001-A-001\\_CCACCATAGGATAATC-1'\n",
       "\\end{enumerate*}\n"
      ],
      "text/markdown": [
       "1. 'B001-A-001_AAAGGGCAGCTGGCCT-1'\n",
       "2. 'B001-A-001_AGGAATACAAAGCTAA-1'\n",
       "3. 'B001-A-001_AGGTCATGTGACAGCA-1'\n",
       "4. 'B001-A-001_CAAGGGAGTAGACGGT-1'\n",
       "5. 'B001-A-001_CAGGTATGTTACGGAG-1'\n",
       "6. 'B001-A-001_CCACCATAGGATAATC-1'\n",
       "\n",
       "\n"
      ],
      "text/plain": [
       "[1] \"B001-A-001_AAAGGGCAGCTGGCCT-1\" \"B001-A-001_AGGAATACAAAGCTAA-1\"\n",
       "[3] \"B001-A-001_AGGTCATGTGACAGCA-1\" \"B001-A-001_CAAGGGAGTAGACGGT-1\"\n",
       "[5] \"B001-A-001_CAGGTATGTTACGGAG-1\" \"B001-A-001_CCACCATAGGATAATC-1\""
      ]
     },
     "metadata": {},
     "output_type": "display_data"
    }
   ],
   "source": [
    "table(metadata$CellType, metadata$tissue)\n",
    "tuft_cells = rownames(metadata)[ metadata$CellType == \"Tuft\" & metadata$tissue == \"Jejunum\"]\n",
    "length(tuft_cells)\n",
    "head(tuft_cells)"
   ]
  },
  {
   "cell_type": "code",
   "execution_count": 20,
   "id": "9beb0be0",
   "metadata": {},
   "outputs": [
    {
     "data": {
      "text/html": [
       "<ol class=list-inline>\n",
       "\t<li>'B001-A-001'</li>\n",
       "\t<li>'B001-A-101'</li>\n",
       "\t<li>'B004-A-404'</li>\n",
       "\t<li>'B004-A-404-R2'</li>\n",
       "\t<li>'B004-A-408'</li>\n",
       "\t<li>'B004-A-408-R2'</li>\n",
       "\t<li>'B005-A-401'</li>\n",
       "\t<li>'B005-A-402'</li>\n",
       "\t<li>'B006-A-401'</li>\n",
       "\t<li>'B006-A-402'</li>\n",
       "\t<li>'B008-A-401'</li>\n",
       "\t<li>'B008-A-402'</li>\n",
       "\t<li>'B009-A-401'</li>\n",
       "\t<li>'B009-A-405'</li>\n",
       "\t<li>'B010-A-401'</li>\n",
       "\t<li>'B010-A-405'</li>\n",
       "\t<li>'B011-A-401'</li>\n",
       "\t<li>'B011-A-405'</li>\n",
       "\t<li>'B012-A-401'</li>\n",
       "\t<li>'B012-A-405'</li>\n",
       "</ol>\n"
      ],
      "text/latex": [
       "\\begin{enumerate*}\n",
       "\\item 'B001-A-001'\n",
       "\\item 'B001-A-101'\n",
       "\\item 'B004-A-404'\n",
       "\\item 'B004-A-404-R2'\n",
       "\\item 'B004-A-408'\n",
       "\\item 'B004-A-408-R2'\n",
       "\\item 'B005-A-401'\n",
       "\\item 'B005-A-402'\n",
       "\\item 'B006-A-401'\n",
       "\\item 'B006-A-402'\n",
       "\\item 'B008-A-401'\n",
       "\\item 'B008-A-402'\n",
       "\\item 'B009-A-401'\n",
       "\\item 'B009-A-405'\n",
       "\\item 'B010-A-401'\n",
       "\\item 'B010-A-405'\n",
       "\\item 'B011-A-401'\n",
       "\\item 'B011-A-405'\n",
       "\\item 'B012-A-401'\n",
       "\\item 'B012-A-405'\n",
       "\\end{enumerate*}\n"
      ],
      "text/markdown": [
       "1. 'B001-A-001'\n",
       "2. 'B001-A-101'\n",
       "3. 'B004-A-404'\n",
       "4. 'B004-A-404-R2'\n",
       "5. 'B004-A-408'\n",
       "6. 'B004-A-408-R2'\n",
       "7. 'B005-A-401'\n",
       "8. 'B005-A-402'\n",
       "9. 'B006-A-401'\n",
       "10. 'B006-A-402'\n",
       "11. 'B008-A-401'\n",
       "12. 'B008-A-402'\n",
       "13. 'B009-A-401'\n",
       "14. 'B009-A-405'\n",
       "15. 'B010-A-401'\n",
       "16. 'B010-A-405'\n",
       "17. 'B011-A-401'\n",
       "18. 'B011-A-405'\n",
       "19. 'B012-A-401'\n",
       "20. 'B012-A-405'\n",
       "\n",
       "\n"
      ],
      "text/plain": [
       " [1] \"B001-A-001\"    \"B001-A-101\"    \"B004-A-404\"    \"B004-A-404-R2\"\n",
       " [5] \"B004-A-408\"    \"B004-A-408-R2\" \"B005-A-401\"    \"B005-A-402\"   \n",
       " [9] \"B006-A-401\"    \"B006-A-402\"    \"B008-A-401\"    \"B008-A-402\"   \n",
       "[13] \"B009-A-401\"    \"B009-A-405\"    \"B010-A-401\"    \"B010-A-405\"   \n",
       "[17] \"B011-A-401\"    \"B011-A-405\"    \"B012-A-401\"    \"B012-A-405\"   "
      ]
     },
     "metadata": {},
     "output_type": "display_data"
    },
    {
     "data": {
      "text/html": [
       "20"
      ],
      "text/latex": [
       "20"
      ],
      "text/markdown": [
       "20"
      ],
      "text/plain": [
       "[1] 20"
      ]
     },
     "metadata": {},
     "output_type": "display_data"
    }
   ],
   "source": [
    "rel_folders = names(table(metadata[ tuft_cells, \"folder\"]))\n",
    "rel_folders\n",
    "length(rel_folders)"
   ]
  },
  {
   "cell_type": "markdown",
   "id": "fcb643ee",
   "metadata": {},
   "source": [
    "data_merged = mcell_read_multi_scmat_10x(datasets_table_fn = paste0(umidir, \"/datasets_table_fn.txt\"), base_dir = umidir)"
   ]
  },
  {
   "cell_type": "code",
   "execution_count": 21,
   "id": "ce9f6c53",
   "metadata": {},
   "outputs": [
    {
     "name": "stderr",
     "output_type": "stream",
     "text": [
      "B001-A-001: 33538 genes over 26 cells\n",
      "B001-A-101: 33538 genes over 27 cells\n",
      "B004-A-404: 33538 genes over 69 cells\n",
      "10X data contains more than one type and is being returned as a list containing matrices of each type.\n",
      "B004-A-404-R2: 36601 genes over 39 cells\n",
      "B004-A-408: 33538 genes over 35 cells\n",
      "B004-A-408-R2: 36601 genes over 17 cells\n",
      "B005-A-401: 33694 genes over 31 cells\n",
      "B005-A-402: 33694 genes over 45 cells\n",
      "10X data contains more than one type and is being returned as a list containing matrices of each type.\n",
      "B006-A-401: 36601 genes over 9 cells\n",
      "10X data contains more than one type and is being returned as a list containing matrices of each type.\n",
      "B006-A-402: 36601 genes over 50 cells\n",
      "10X data contains more than one type and is being returned as a list containing matrices of each type.\n",
      "B008-A-401: 36601 genes over 58 cells\n",
      "10X data contains more than one type and is being returned as a list containing matrices of each type.\n",
      "B008-A-402: 36601 genes over 93 cells\n",
      "10X data contains more than one type and is being returned as a list containing matrices of each type.\n",
      "B009-A-401: 36601 genes over 24 cells\n",
      "10X data contains more than one type and is being returned as a list containing matrices of each type.\n",
      "B009-A-405: 36601 genes over 33 cells\n",
      "10X data contains more than one type and is being returned as a list containing matrices of each type.\n",
      "B010-A-401: 36601 genes over 10 cells\n",
      "10X data contains more than one type and is being returned as a list containing matrices of each type.\n",
      "B010-A-405: 36601 genes over 26 cells\n",
      "10X data contains more than one type and is being returned as a list containing matrices of each type.\n",
      "B011-A-401: 36601 genes over 10 cells\n",
      "10X data contains more than one type and is being returned as a list containing matrices of each type.\n",
      "B011-A-405: 36601 genes over 11 cells\n",
      "10X data contains more than one type and is being returned as a list containing matrices of each type.\n",
      "B012-A-401: 36601 genes over 37 cells\n",
      "10X data contains more than one type and is being returned as a list containing matrices of each type.\n",
      "B012-A-405: 36601 genes over 40 cells\n"
     ]
    }
   ],
   "source": [
    "data_list = lapply(rel_folders, function(f) {\n",
    "    data = Seurat::Read10X(data.dir = paste0(umidir, \"/\", f))\n",
    "    if (length(data) == 2) {data = data[[1]]}\n",
    "    colnames(data) = paste0(f, \"_\", colnames(data), \"-1\")\n",
    "    X = as.matrix(data[, intersect( tuft_cells, colnames(data))])\n",
    "    message(f, \": \", nrow(X), \" genes over \", ncol(X), \" cells\")\n",
    "    X\n",
    "})"
   ]
  },
  {
   "cell_type": "code",
   "execution_count": 22,
   "id": "e3c429e3",
   "metadata": {},
   "outputs": [
    {
     "data": {
      "text/html": [
       "49632"
      ],
      "text/latex": [
       "49632"
      ],
      "text/markdown": [
       "49632"
      ],
      "text/plain": [
       "[1] 49632"
      ]
     },
     "metadata": {},
     "output_type": "display_data"
    },
    {
     "data": {
      "text/html": [
       "<ol class=list-inline>\n",
       "\t<li>'A1BG'</li>\n",
       "\t<li>'A1BG-AS1'</li>\n",
       "\t<li>'A1CF'</li>\n",
       "\t<li>'A2M'</li>\n",
       "\t<li>'A2M-AS1'</li>\n",
       "\t<li>'A2ML1'</li>\n",
       "</ol>\n"
      ],
      "text/latex": [
       "\\begin{enumerate*}\n",
       "\\item 'A1BG'\n",
       "\\item 'A1BG-AS1'\n",
       "\\item 'A1CF'\n",
       "\\item 'A2M'\n",
       "\\item 'A2M-AS1'\n",
       "\\item 'A2ML1'\n",
       "\\end{enumerate*}\n"
      ],
      "text/markdown": [
       "1. 'A1BG'\n",
       "2. 'A1BG-AS1'\n",
       "3. 'A1CF'\n",
       "4. 'A2M'\n",
       "5. 'A2M-AS1'\n",
       "6. 'A2ML1'\n",
       "\n",
       "\n"
      ],
      "text/plain": [
       "[1] \"A1BG\"     \"A1BG-AS1\" \"A1CF\"     \"A2M\"      \"A2M-AS1\"  \"A2ML1\"   "
      ]
     },
     "metadata": {},
     "output_type": "display_data"
    },
    {
     "data": {
      "text/html": [
       "<ol class=list-inline>\n",
       "\t<li>'ZXDC'</li>\n",
       "\t<li>'ZYG11A'</li>\n",
       "\t<li>'ZYG11B'</li>\n",
       "\t<li>'ZYX'</li>\n",
       "\t<li>'ZZEF1'</li>\n",
       "\t<li>'ZZZ3'</li>\n",
       "</ol>\n"
      ],
      "text/latex": [
       "\\begin{enumerate*}\n",
       "\\item 'ZXDC'\n",
       "\\item 'ZYG11A'\n",
       "\\item 'ZYG11B'\n",
       "\\item 'ZYX'\n",
       "\\item 'ZZEF1'\n",
       "\\item 'ZZZ3'\n",
       "\\end{enumerate*}\n"
      ],
      "text/markdown": [
       "1. 'ZXDC'\n",
       "2. 'ZYG11A'\n",
       "3. 'ZYG11B'\n",
       "4. 'ZYX'\n",
       "5. 'ZZEF1'\n",
       "6. 'ZZZ3'\n",
       "\n",
       "\n"
      ],
      "text/plain": [
       "[1] \"ZXDC\"   \"ZYG11A\" \"ZYG11B\" \"ZYX\"    \"ZZEF1\"  \"ZZZ3\"  "
      ]
     },
     "metadata": {},
     "output_type": "display_data"
    }
   ],
   "source": [
    "genes = names(table(unlist(lapply(data_list, rownames))))\n",
    "length(genes)\n",
    "head(genes)\n",
    "tail(genes)"
   ]
  },
  {
   "cell_type": "code",
   "execution_count": 23,
   "id": "8435337c",
   "metadata": {},
   "outputs": [
    {
     "data": {
      "text/html": [
       "690"
      ],
      "text/latex": [
       "690"
      ],
      "text/markdown": [
       "690"
      ],
      "text/plain": [
       "[1] 690"
      ]
     },
     "metadata": {},
     "output_type": "display_data"
    },
    {
     "data": {
      "text/html": [
       "<ol class=list-inline>\n",
       "\t<li>'B001-A-001_AAAGGGCAGCTGGCCT-1'</li>\n",
       "\t<li>'B001-A-001_AGGAATACAAAGCTAA-1'</li>\n",
       "\t<li>'B001-A-001_AGGTCATGTGACAGCA-1'</li>\n",
       "\t<li>'B001-A-001_CAAGGGAGTAGACGGT-1'</li>\n",
       "\t<li>'B001-A-001_CAGGTATGTTACGGAG-1'</li>\n",
       "\t<li>'B001-A-001_CCACCATAGGATAATC-1'</li>\n",
       "</ol>\n"
      ],
      "text/latex": [
       "\\begin{enumerate*}\n",
       "\\item 'B001-A-001\\_AAAGGGCAGCTGGCCT-1'\n",
       "\\item 'B001-A-001\\_AGGAATACAAAGCTAA-1'\n",
       "\\item 'B001-A-001\\_AGGTCATGTGACAGCA-1'\n",
       "\\item 'B001-A-001\\_CAAGGGAGTAGACGGT-1'\n",
       "\\item 'B001-A-001\\_CAGGTATGTTACGGAG-1'\n",
       "\\item 'B001-A-001\\_CCACCATAGGATAATC-1'\n",
       "\\end{enumerate*}\n"
      ],
      "text/markdown": [
       "1. 'B001-A-001_AAAGGGCAGCTGGCCT-1'\n",
       "2. 'B001-A-001_AGGAATACAAAGCTAA-1'\n",
       "3. 'B001-A-001_AGGTCATGTGACAGCA-1'\n",
       "4. 'B001-A-001_CAAGGGAGTAGACGGT-1'\n",
       "5. 'B001-A-001_CAGGTATGTTACGGAG-1'\n",
       "6. 'B001-A-001_CCACCATAGGATAATC-1'\n",
       "\n",
       "\n"
      ],
      "text/plain": [
       "[1] \"B001-A-001_AAAGGGCAGCTGGCCT-1\" \"B001-A-001_AGGAATACAAAGCTAA-1\"\n",
       "[3] \"B001-A-001_AGGTCATGTGACAGCA-1\" \"B001-A-001_CAAGGGAGTAGACGGT-1\"\n",
       "[5] \"B001-A-001_CAGGTATGTTACGGAG-1\" \"B001-A-001_CCACCATAGGATAATC-1\""
      ]
     },
     "metadata": {},
     "output_type": "display_data"
    }
   ],
   "source": [
    "cells = unlist(sapply(data_list, colnames))\n",
    "length(cells)\n",
    "\n",
    "head(cells)"
   ]
  },
  {
   "cell_type": "code",
   "execution_count": 28,
   "id": "7872c0b7",
   "metadata": {},
   "outputs": [],
   "source": [
    "names(data_list) = rel_folders"
   ]
  },
  {
   "cell_type": "code",
   "execution_count": 29,
   "id": "c1c3ef0c",
   "metadata": {},
   "outputs": [
    {
     "data": {
      "text/html": [
       "<ol class=list-inline>\n",
       "\t<li>49632</li>\n",
       "\t<li>690</li>\n",
       "</ol>\n"
      ],
      "text/latex": [
       "\\begin{enumerate*}\n",
       "\\item 49632\n",
       "\\item 690\n",
       "\\end{enumerate*}\n"
      ],
      "text/markdown": [
       "1. 49632\n",
       "2. 690\n",
       "\n",
       "\n"
      ],
      "text/plain": [
       "[1] 49632   690"
      ]
     },
     "metadata": {},
     "output_type": "display_data"
    }
   ],
   "source": [
    "data = matrix(0, nrow = length(genes), ncol = length(cells), dimnames = list(genes, cells))\n",
    "dim(data)"
   ]
  },
  {
   "cell_type": "code",
   "execution_count": 31,
   "id": "f530071f",
   "metadata": {},
   "outputs": [
    {
     "name": "stderr",
     "output_type": "stream",
     "text": [
      "B001-A-001: 33538 genes and 26 cells\n",
      "B001-A-101: 33538 genes and 27 cells\n",
      "B004-A-404: 33538 genes and 69 cells\n",
      "B004-A-404-R2: 36601 genes and 39 cells\n",
      "B004-A-408: 33538 genes and 35 cells\n",
      "B004-A-408-R2: 36601 genes and 17 cells\n",
      "B005-A-401: 33694 genes and 31 cells\n",
      "B005-A-402: 33694 genes and 45 cells\n",
      "B006-A-401: 36601 genes and 9 cells\n",
      "B006-A-402: 36601 genes and 50 cells\n",
      "B008-A-401: 36601 genes and 58 cells\n",
      "B008-A-402: 36601 genes and 93 cells\n",
      "B009-A-401: 36601 genes and 24 cells\n",
      "B009-A-405: 36601 genes and 33 cells\n",
      "B010-A-401: 36601 genes and 10 cells\n",
      "B010-A-405: 36601 genes and 26 cells\n",
      "B011-A-401: 36601 genes and 10 cells\n",
      "B011-A-405: 36601 genes and 11 cells\n",
      "B012-A-401: 36601 genes and 37 cells\n",
      "B012-A-405: 36601 genes and 40 cells\n"
     ]
    }
   ],
   "source": [
    "for (samp in names(data_list)) {\n",
    "    X = data_list[[samp]]\n",
    "    #shared = intersect(genes, rownames(X))\n",
    "    message(samp, \": \", nrow(X), \" genes and \", ncol(X), \" cells\")    \n",
    "    data[ rownames(X), colnames(X)] = as.matrix(X)\n",
    "}"
   ]
  },
  {
   "cell_type": "code",
   "execution_count": 33,
   "id": "cff7e0c0",
   "metadata": {},
   "outputs": [
    {
     "data": {
      "text/html": [
       "<ol class=list-inline>\n",
       "\t<li>49632</li>\n",
       "\t<li>690</li>\n",
       "</ol>\n"
      ],
      "text/latex": [
       "\\begin{enumerate*}\n",
       "\\item 49632\n",
       "\\item 690\n",
       "\\end{enumerate*}\n"
      ],
      "text/markdown": [
       "1. 49632\n",
       "2. 690\n",
       "\n",
       "\n"
      ],
      "text/plain": [
       "[1] 49632   690"
      ]
     },
     "metadata": {},
     "output_type": "display_data"
    },
    {
     "data": {
      "text/html": [
       "<dl class=dl-horizontal>\n",
       "\t<dt>0%</dt>\n",
       "\t\t<dd>459</dd>\n",
       "\t<dt>25%</dt>\n",
       "\t\t<dd>1594.25</dd>\n",
       "\t<dt>50%</dt>\n",
       "\t\t<dd>3172.5</dd>\n",
       "\t<dt>75%</dt>\n",
       "\t\t<dd>6072.75</dd>\n",
       "\t<dt>100%</dt>\n",
       "\t\t<dd>18793</dd>\n",
       "</dl>\n"
      ],
      "text/latex": [
       "\\begin{description*}\n",
       "\\item[0\\textbackslash{}\\%] 459\n",
       "\\item[25\\textbackslash{}\\%] 1594.25\n",
       "\\item[50\\textbackslash{}\\%] 3172.5\n",
       "\\item[75\\textbackslash{}\\%] 6072.75\n",
       "\\item[100\\textbackslash{}\\%] 18793\n",
       "\\end{description*}\n"
      ],
      "text/markdown": [
       "0%\n",
       ":   45925%\n",
       ":   1594.2550%\n",
       ":   3172.575%\n",
       ":   6072.75100%\n",
       ":   18793\n",
       "\n"
      ],
      "text/plain": [
       "      0%      25%      50%      75%     100% \n",
       "  459.00  1594.25  3172.50  6072.75 18793.00 "
      ]
     },
     "metadata": {},
     "output_type": "display_data"
    }
   ],
   "source": [
    "dim(data)\n",
    "quantile(colSums(data))"
   ]
  },
  {
   "cell_type": "code",
   "execution_count": null,
   "id": "fa7b0d53",
   "metadata": {},
   "outputs": [],
   "source": [
    "head(colnames(data))\n",
    "#B001-A-301_AAACCCACAGCTATTG-1\n",
    "colnames(data) = paste0(files_tab[1,1], \"_\", colnames(data), \"-1\")\n",
    "\n",
    "X = as.matrix(data[, intersect(rownames(metadata), colnames(data))])\n",
    "dim(X)\n"
   ]
  },
  {
   "cell_type": "code",
   "execution_count": 34,
   "id": "0b36a2e8",
   "metadata": {},
   "outputs": [
    {
     "name": "stderr",
     "output_type": "stream",
     "text": [
      "Warning message in dir.create(\"saved_work/\"):\n",
      "“'saved_work' already exists”initializing scdb to saved_work/\n"
     ]
    }
   ],
   "source": [
    "dir.create(\"saved_work/\")\n",
    "scdb_init(\"saved_work/\", force_reinit=T)\n",
    "id = \"hickey_tuft\"\n",
    "id_all = \"hickey_tuft\""
   ]
  },
  {
   "cell_type": "code",
   "execution_count": 36,
   "id": "b8151bba",
   "metadata": {},
   "outputs": [],
   "source": [
    "scdb_add_mat(id_all, tgScMat(mat=data, cell_metadata=metadata[ colnames(data),]))"
   ]
  }
 ],
 "metadata": {
  "kernelspec": {
   "display_name": "R [conda env:my_env] *",
   "language": "R",
   "name": "conda-env-my_env-r"
  },
  "language_info": {
   "codemirror_mode": "r",
   "file_extension": ".r",
   "mimetype": "text/x-r-source",
   "name": "R",
   "pygments_lexer": "r",
   "version": "3.6.1"
  }
 },
 "nbformat": 4,
 "nbformat_minor": 5
}
