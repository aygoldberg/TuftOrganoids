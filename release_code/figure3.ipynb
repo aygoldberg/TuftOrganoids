{
 "cells": [
  {
   "cell_type": "code",
   "execution_count": 1,
   "id": "2b6cc7ba",
   "metadata": {
    "scrolled": true
   },
   "outputs": [],
   "source": [
    "setwd(\"/hpc/hub_oudenaarden/agiladi/data/tuft_release/\")"
   ]
  },
  {
   "cell_type": "code",
   "execution_count": 2,
   "id": "2e8bf3b3",
   "metadata": {},
   "outputs": [
    {
     "name": "stderr",
     "output_type": "stream",
     "text": [
      "Warning message:\n",
      "“package ‘Hmisc’ was built under R version 3.6.3”Loading required package: lattice\n",
      "Warning message:\n",
      "“package ‘lattice’ was built under R version 3.6.3”Loading required package: survival\n",
      "Warning message:\n",
      "“package ‘survival’ was built under R version 3.6.3”Loading required package: Formula\n",
      "Warning message:\n",
      "“package ‘Formula’ was built under R version 3.6.3”Loading required package: ggplot2\n",
      "Warning message:\n",
      "“package ‘ggplot2’ was built under R version 3.6.3”\n",
      "Attaching package: ‘Hmisc’\n",
      "\n",
      "The following objects are masked from ‘package:base’:\n",
      "\n",
      "    format.pval, units\n",
      "\n",
      "Loading required package: reshape2\n",
      "Warning message:\n",
      "“package ‘reshape2’ was built under R version 3.6.3”Loading required package: plyr\n",
      "\n",
      "Attaching package: ‘plyr’\n",
      "\n",
      "The following objects are masked from ‘package:Hmisc’:\n",
      "\n",
      "    is.discrete, summarize\n",
      "\n",
      "Loading required package: plotrix\n"
     ]
    },
    {
     "ename": "ERROR",
     "evalue": "Error in scdb_init(\"saved_work\", force = T): cannot initialize db to non existing directory base_dir\n",
     "output_type": "error",
     "traceback": [
      "Error in scdb_init(\"saved_work\", force = T): cannot initialize db to non existing directory base_dir\nTraceback:\n",
      "1. scdb_init(\"saved_work\", force = T)",
      "2. stop(\"cannot initialize db to non existing directory base_dir\")"
     ]
    }
   ],
   "source": [
    "library(metacell)\n",
    "library(Hmisc)\n",
    "library(RColorBrewer)\n",
    "source(\"release_code/metacell_functions.r\")\n",
    "scdb_init(\"saved_work\", force=T)"
   ]
  },
  {
   "cell_type": "code",
   "execution_count": null,
   "id": "af198b48",
   "metadata": {},
   "outputs": [],
   "source": [
    "id = \"10x\"\n",
    "\n",
    "outdir = paste0(\"release_figures/fig3_10x/\")\n",
    "dir.create(outdir)\n",
    "scfigs_init(outdir)"
   ]
  },
  {
   "cell_type": "code",
   "execution_count": null,
   "id": "a9437a25",
   "metadata": {},
   "outputs": [],
   "source": [
    "\n",
    "#id = \"ileum_organoids\"\n",
    "suffix = \"\"; id_f = paste0(id, suffix)\n",
    "sc_2d = scdb_mc2d(id); sc_cl = scdb_mc(paste0(id, suffix)); sc_mat = scdb_mat(id)\n",
    "\n",
    "cells = names(sc_cl@mc)\n",
    "cell_stats = sc_mat@cell_metadata[cells,]\n",
    "colnames(cell_stats) = gsub(\" \", \".\", colnames(cell_stats))\n",
    "colnames(cell_stats) = gsub(\"\\\\(|\\\\)\", \"_\", colnames(cell_stats))\n",
    "fp = sc_cl@mc_fp\n",
    "lfp = log2(sc_cl@mc_fp)\n"
   ]
  },
  {
   "cell_type": "code",
   "execution_count": null,
   "id": "10815162",
   "metadata": {},
   "outputs": [],
   "source": [
    "color_scheme = sc_cl@color_key\n",
    "color2name = as.vector(color_scheme$group); names(color2name) = color_scheme$color\n",
    "name2color = as.vector(color_scheme$color); names(name2color) = color_scheme$group\n",
    "\n",
    "sc_names = color2name[ sc_cl@colors[ sc_cl@mc]]; names(sc_names) = names(sc_cl@mc)\n",
    "annotations = as.matrix(read.delim(paste0(\"release_import/figure3_10x/lin_ord_\", id, \".txt\"), stringsAsFactor=F, h=F))[,1]\n",
    "lin_ord = annotations #intersect(annotations, names(table(sc_names)))\n",
    "#lin_ord = names(table(sc_names))"
   ]
  },
  {
   "cell_type": "code",
   "execution_count": null,
   "id": "38d307f2",
   "metadata": {},
   "outputs": [],
   "source": [
    "bad_cells = names(which(is.na(sc_names))) \n",
    "good_cells = setdiff(names(sc_cl@mc), bad_cells)\n",
    "good_mc = names(table(sc_cl@mc[ good_cells]))\n",
    "bad_mc = setdiff(names(table(sc_cl@mc)), good_mc)\n",
    "clust_ord = setdiff(order(factor(color2name[ sc_cl@colors], levels = lin_ord)), bad_mc)\n",
    "\n",
    "message( length(good_cells), \" good cells!\")"
   ]
  },
  {
   "cell_type": "code",
   "execution_count": null,
   "id": "be9459d0",
   "metadata": {},
   "outputs": [],
   "source": [
    "comb = paste0(cell_stats$seeder_cell, \"@\", cell_stats$medium); names(comb) = rownames(cell_stats)"
   ]
  },
  {
   "cell_type": "code",
   "execution_count": null,
   "id": "cd5915f0",
   "metadata": {},
   "outputs": [],
   "source": [
    "p = function() {\n",
    "    plot(sc_2d@sc_x[ good_cells], sc_2d@sc_y[ good_cells], pch = 21, bg = sc_cl@colors[ sc_cl@mc[ good_cells]], axes = F,\n",
    "        xlab = \"\", ylab = \"\")\n",
    "    axis(1); axis(2, las = 2)\n",
    "    \n",
    "}\n",
    "\n",
    "p()\n",
    "pdf(paste0(outdir, \"/Fig3b.pdf\"), useDingbats = F)\n",
    "p()\n",
    "dev.off()\n",
    "\n",
    "#good_pops = setdiff(lin_ord, bad_pops)\n",
    "plot.empty()\n",
    "legend(\"topleft\", lin_ord, pch = 21, pt.bg = name2color[ lin_ord])\n"
   ]
  },
  {
   "cell_type": "code",
   "execution_count": null,
   "id": "05c3a608",
   "metadata": {},
   "outputs": [],
   "source": [
    "\n",
    "umis = read_large_umis(id, cells = good_cells)\n",
    "umis_n = sweep(umis, 2, colSums(umis), \"/\") * 1000\n"
   ]
  },
  {
   "cell_type": "code",
   "execution_count": null,
   "id": "8e9aba98",
   "metadata": {},
   "outputs": [],
   "source": [
    "plot_feature_maps = function(i, genes, nr = 2, nc = 3, rfac = 5) {\n",
    "    cb = 1 / nc\n",
    "    rb = 1 / nr\n",
    "    locs = cbind(rep(seq_len(nc) - 1, nr), rep(rev(seq_len(nr)) - 1, each = nc))\n",
    "    gene = genes[i]\n",
    "    all_cells = names(sort(umis_n[gene, good_cells]))\n",
    "    vals = umis_n[gene, good_cells]\n",
    "    all_cells = names(sort(vals))\n",
    "    pos_vals = log(1 + 1 * vals[ vals > 0])\n",
    "    pos_vals = pmin(pos_vals, quantile(pos_vals, 0.99))\n",
    "    val_n = rep(1, length(all_cells)); names(val_n) = all_cells\n",
    "    val_n[ names(pos_vals)] = round(100 * pos_vals / max(pos_vals)) + 1\n",
    "    grad = colorRampPalette(c(\"gray90\", \"gray90\", brewer.pal(3, \"Reds\")))(101)\n",
    "    cell_ord = names(val_n) #sort(val_n))\n",
    "    r = locs[i,2]; c = locs[i,1]\n",
    "    par(fig = c(c / nc, c / nc + cb * 0.85, r / nr, r / nr + rb * 0.85), mar = rep(0.5,4), new = (i > 1))\n",
    "    df = cbind(x = sc_2d@sc_x[ all_cells], y = sc_2d@sc_y[ all_cells], col = grad[ val_n[ all_cells]], \n",
    "               rx = round(sc_2d@sc_x[ all_cells] / rfac), ry = round(sc_2d@sc_y[ all_cells] / rfac))\n",
    "    df = df[ !duplicated(df[, c(\"col\", \"rx\", \"ry\")]),]\n",
    "    dim(df)\n",
    "    plot(df[,\"x\"], df[,\"y\"], pch = 20, cex = 0.7, col = df[,\"col\"], axes = F, xlab = \"\", ylab = \"\", main = gene)\n",
    "    par (fig = c(c / nc + cb * 0.9, c / nc + cb * 1, r / nr + rb * 0.3, r / nr + rb * 0.6), new=T)\n",
    "    ax = seq(0, max(pos_vals), length.out = length(grad))\n",
    "    image(y = ax, t(seq_along(grad)), axes = F, col = grad)\n",
    "    box(); axis(2, at = quantile(ax, c(0,1)), labels = round(quantile(ax, c(0,1)),3), las = 2)\n",
    "}\n"
   ]
  },
  {
   "cell_type": "code",
   "execution_count": null,
   "id": "b2e045e0",
   "metadata": {},
   "outputs": [],
   "source": [
    "genes = c(\"POU2F3\", \"KIT\", \"AVIL\",\n",
    "          \"LGR5\", \"OLFM4\", \"ITLN1\", \"FCGBP\", \"MUC2\",\n",
    "          \"CHGA\", \"NEUROG3\", \"CHGB\")\n",
    "\n",
    "\n",
    "pdf(paste0(outdir, \"/ExtFig6j_right.pdf\"), height=15, width=20, useDingbats=F)\n",
    "invisible(sapply(seq_along(genes), plot_feature_maps, genes, 3, 4))\n",
    "dev.off()"
   ]
  },
  {
   "cell_type": "code",
   "execution_count": null,
   "id": "203f79da",
   "metadata": {},
   "outputs": [],
   "source": [
    "m = t(apply(umis_n[genes, good_cells], 1, tapply, sc_names[ good_cells], mean))\n",
    "m = m[, intersect(lin_ord, names(which(table(sc_names[ good_cells]) > 20)))]\n",
    "m = m[ order(max.col(m)),]\n",
    "IM = log(m + 0.02)\n",
    "exp_freq = t(apply(umis[rownames(m), good_cells] > 0, 1, tapply, sc_names[ good_cells], mean)) * 100\n",
    "exp_freq = exp_freq[ ,colnames(m)]\n",
    "\n",
    "dimnames(exp_freq) = dimnames(IM)\n",
    "grad = colorRampPalette(c(\"white\", brewer.pal(9, \"YlOrBr\")))(101)\n",
    "\n",
    "p = function() {\n",
    "    par(mar = c(3,8,1,3))\n",
    "    matplot.2(t(IM), t(exp_freq), grad=grad, cex_lim = seq(0,100, by = 25), zlim = c(-3.91202, 1.8961103))\n",
    "}\n",
    "\n",
    "p()\n",
    "pdf(paste0(outdir, \"/ExtFig6j_left.pdf\"), height=10, width=15, useDingbats = F)\n",
    "p()\n",
    "dev.off()"
   ]
  },
  {
   "cell_type": "code",
   "execution_count": null,
   "id": "ea377768",
   "metadata": {},
   "outputs": [],
   "source": [
    "\n",
    "comb = with(cell_stats, paste0(medium, \"@\", seeder_cell)); names(comb) = rownames(cell_stats)\n",
    "comb_cols = c(\"#D3DEE0\", \"antiquewhite\", \"dodgerblue\", \"darkorange2\"); names(comb_cols) = names(table(comb))"
   ]
  },
  {
   "cell_type": "code",
   "execution_count": null,
   "id": "a51ce1a1",
   "metadata": {},
   "outputs": [],
   "source": [
    "cols = c(\"darkorange2\", \"antiquewhite\", \"gray\", \"#D3DEE0\", \"#897155\", \"#7030A0\")\n",
    "names(cols) = c(\"stimulated\", \"naive\", \"KO\", \"epithel\", \"fetal\", \"traced\")"
   ]
  },
  {
   "cell_type": "code",
   "execution_count": null,
   "id": "f70dd9af",
   "metadata": {},
   "outputs": [],
   "source": [
    "p = function() {\n",
    "    plot(sc_2d@sc_x[ good_cells], sc_2d@sc_y[ good_cells], pch = 21, lwd = 0, bg = comb_cols[ comb[ good_cells]], axes = F,\n",
    "        xlab = \"\", ylab = \"\")\n",
    "    axis(1); axis(2, las = 2)\n",
    "\n",
    "}\n",
    "\n",
    "p()\n",
    "pdf(paste0(outdir, \"/Fig3c.pdf\"), useDingbats = F)\n",
    "p()\n",
    "dev.off()\n"
   ]
  },
  {
   "cell_type": "code",
   "execution_count": null,
   "id": "6e665956",
   "metadata": {
    "scrolled": false
   },
   "outputs": [],
   "source": [
    "sample_dist = table(comb[ good_cells], factor(sc_names[ good_cells], levels = lin_ord))\n",
    "\n",
    "p = function() {\n",
    "    par(mfrow = c(2,4), mar = c(1, 5, 3, 1))\n",
    "    for(c in lin_ord) {\n",
    "        bconf = 100 * binconf(sample_dist[,c], rowSums(sample_dist)); rownames(bconf) = rownames(sample_dist) \n",
    "        par(mar = c(1,7,3,1))\n",
    "        coords = barplot(bconf[,\"PointEst\"], las = 2, main = c, ylab = \"Cell frequency\", ylim = c(0, 1.05 * max(bconf[,\"Upper\"])), names.arg = rep(\"\", nrow(sample_dist)),\n",
    "                        col = comb_cols[ rownames(sample_dist)])\n",
    "        segments(coords, bconf[,\"Lower\"], y1 = bconf[,\"Upper\"])\n",
    "        segments(coords - 0.2, bconf[,\"Lower\"], coords + 0.2)\n",
    "        segments(coords - 0.2,\n",
    "                 bconf[,\"Upper\"], coords + 0.2)\n",
    "    }\n",
    "}\n",
    "\n",
    "p()\n",
    "pdf(paste0(outdir, \"/ExtFig6k.pdf\"), height = 6, width=12)\n",
    "p()\n",
    "dev.off()"
   ]
  }
 ],
 "metadata": {
  "kernelspec": {
   "display_name": "R [conda env:my_env] *",
   "language": "R",
   "name": "conda-env-my_env-r"
  },
  "language_info": {
   "codemirror_mode": "r",
   "file_extension": ".r",
   "mimetype": "text/x-r-source",
   "name": "R",
   "pygments_lexer": "r",
   "version": "3.6.1"
  }
 },
 "nbformat": 4,
 "nbformat_minor": 5
}
