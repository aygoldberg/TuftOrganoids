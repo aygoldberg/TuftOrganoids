{
 "cells": [
  {
   "cell_type": "code",
   "execution_count": 1,
   "id": "b601ec35",
   "metadata": {},
   "outputs": [],
   "source": [
    "setwd(\"/hpc/hub_oudenaarden/agiladi/data/tuft_release/\")"
   ]
  },
  {
   "cell_type": "code",
   "execution_count": 2,
   "id": "1fb6c543",
   "metadata": {
    "scrolled": true
   },
   "outputs": [
    {
     "name": "stderr",
     "output_type": "stream",
     "text": [
      "Loading required package: reshape2\n",
      "Warning message:\n",
      "“package ‘reshape2’ was built under R version 3.6.3”Loading required package: plyr\n",
      "Loading required package: plotrix\n",
      "\n",
      "Attaching package: ‘metacell’\n",
      "\n",
      "The following objects are masked _by_ ‘.GlobalEnv’:\n",
      "\n",
      "    mc_colorize_sup_hierarchy, mcell_mat_rpt_cor_anchors,\n",
      "    mcell_mc_export_tab\n",
      "\n",
      "Loading required package: Biobase\n",
      "Loading required package: BiocGenerics\n",
      "Loading required package: parallel\n",
      "\n",
      "Attaching package: ‘BiocGenerics’\n",
      "\n",
      "The following objects are masked from ‘package:parallel’:\n",
      "\n",
      "    clusterApply, clusterApplyLB, clusterCall, clusterEvalQ,\n",
      "    clusterExport, clusterMap, parApply, parCapply, parLapply,\n",
      "    parLapplyLB, parRapply, parSapply, parSapplyLB\n",
      "\n",
      "The following objects are masked from ‘package:stats’:\n",
      "\n",
      "    IQR, mad, sd, var, xtabs\n",
      "\n",
      "The following objects are masked from ‘package:base’:\n",
      "\n",
      "    anyDuplicated, append, as.data.frame, basename, cbind, colnames,\n",
      "    dirname, do.call, duplicated, eval, evalq, Filter, Find, get, grep,\n",
      "    grepl, intersect, is.unsorted, lapply, Map, mapply, match, mget,\n",
      "    order, paste, pmax, pmax.int, pmin, pmin.int, Position, rank,\n",
      "    rbind, Reduce, rownames, sapply, setdiff, sort, table, tapply,\n",
      "    union, unique, unsplit, which, which.max, which.min\n",
      "\n",
      "Welcome to Bioconductor\n",
      "\n",
      "    Vignettes contain introductory material; view with\n",
      "    'browseVignettes()'. To cite Bioconductor, see\n",
      "    'citation(\"Biobase\")', and for packages 'citation(\"pkgname\")'.\n",
      "\n",
      "Setting options('download.file.method.GEOquery'='auto')\n",
      "Setting options('GEOquery.inmemory.gpl'=FALSE)\n"
     ]
    }
   ],
   "source": [
    "library(devtools)\n",
    "#source_url(\"https://raw.githubusercontent.com/aygoldberg/PIC-seq/master/scripts/metacell_functions.r\")\n",
    "source(\"release_code/metacell_functions.r\")\n",
    "library(\"Seurat\")\n",
    "library(gtools)\n",
    "library(metacell)\n",
    "library(GEOquery)"
   ]
  },
  {
   "cell_type": "markdown",
   "id": "c6fde02a",
   "metadata": {},
   "source": [
    "## Download and extract data generated in this project:"
   ]
  },
  {
   "cell_type": "code",
   "execution_count": 4,
   "id": "e5a3dd81",
   "metadata": {
    "scrolled": true
   },
   "outputs": [
    {
     "name": "stderr",
     "output_type": "stream",
     "text": [
      "Found 2 file(s)\n",
      "GSE233451-GPL18573_series_matrix.txt.gz\n",
      "\n",
      "── Column specification ────────────────────────────────────────────────────────\n",
      "cols(\n",
      "  ID_REF = col_character(),\n",
      "  GSM7428256 = col_character(),\n",
      "  GSM7428257 = col_character(),\n",
      "  GSM7428258 = col_character(),\n",
      "  GSM7428259 = col_character(),\n",
      "  GSM7428260 = col_character(),\n",
      "  GSM7428261 = col_character(),\n",
      "  GSM8378150 = col_character(),\n",
      "  GSM8378151 = col_character()\n",
      ")\n",
      "File stored at: \n",
      "/scratch/23222958/RtmpodXHAK/GPL18573.soft\n",
      "GSE233451-GPL24676_series_matrix.txt.gz\n",
      "\n",
      "── Column specification ────────────────────────────────────────────────────────\n",
      "cols(\n",
      "  ID_REF = col_character(),\n",
      "  GSM7428262 = col_character()\n",
      ")\n",
      "File stored at: \n",
      "/scratch/23222958/RtmpodXHAK/GPL24676.soft\n"
     ]
    }
   ],
   "source": [
    "gse_id = \"GSE233451\"\n",
    "gse=getGEO(gse_id)\n",
    "filePaths = getGEOSuppFiles(gse_id)"
   ]
  },
  {
   "cell_type": "code",
   "execution_count": 5,
   "id": "f0b2e89d",
   "metadata": {},
   "outputs": [],
   "source": [
    "raw_path = grep(\"RAW\", rownames(filePaths), v=T)\n",
    "umidir = \"release_umi.tab/\"\n",
    "dir.create(umidir)\n",
    "untar(raw_path, exdir = umidir)"
   ]
  },
  {
   "cell_type": "code",
   "execution_count": 6,
   "id": "78fdd546",
   "metadata": {},
   "outputs": [],
   "source": [
    "setwd(umidir)\n",
    "#system(\"gzip -d *.gz\")\n",
    "system(\"ls -1 | awk -F'_' '{print $0,$2}' | xargs -n 2 mv\")\n",
    "setwd(\"..\")"
   ]
  },
  {
   "cell_type": "code",
   "execution_count": 7,
   "id": "9b36ce61",
   "metadata": {},
   "outputs": [
    {
     "data": {
      "text/html": [
       "<table>\n",
       "<thead><tr><th></th><th scope=col>amp_batch_id</th><th scope=col>cell_barcode</th><th scope=col>umicount</th><th scope=col>mt_count</th><th scope=col>coord</th><th scope=col>source</th><th scope=col>type</th><th scope=col>gating</th><th scope=col>treatment</th><th scope=col>age</th><th scope=col>clover</th></tr></thead>\n",
       "<tbody>\n",
       "\t<tr><th scope=row>HUB.JO.s037_AAACAGGC</th><td>HUB.JO.s037 </td><td>AAACAGGC    </td><td>7296        </td><td>1280        </td><td>H18         </td><td>Ileum       </td><td>organoid    </td><td>AVIL-Clover+</td><td>no_cyto     </td><td>adult       </td><td>AVIL        </td></tr>\n",
       "\t<tr><th scope=row>HUB.JO.s037_AAAGCGGA</th><td>HUB.JO.s037 </td><td>AAAGCGGA    </td><td>3461        </td><td> 626        </td><td>P12         </td><td>Ileum       </td><td>organoid    </td><td>AVIL-Clover+</td><td>IL4+IL13    </td><td>adult       </td><td>AVIL        </td></tr>\n",
       "\t<tr><th scope=row>HUB.JO.s037_AAAGGCTG</th><td>HUB.JO.s037 </td><td>AAAGGCTG    </td><td>4062        </td><td>1019        </td><td>O10         </td><td>Ileum       </td><td>organoid    </td><td>AVIL-Clover+</td><td>IL4+IL13    </td><td>adult       </td><td>AVIL        </td></tr>\n",
       "\t<tr><th scope=row>HUB.JO.s037_AACACGCA</th><td>HUB.JO.s037 </td><td>AACACGCA    </td><td>8352        </td><td>1471        </td><td>L20         </td><td>Ileum       </td><td>organoid    </td><td>AVIL-Clover+</td><td>IL4+IL13    </td><td>adult       </td><td>AVIL        </td></tr>\n",
       "\t<tr><th scope=row>HUB.JO.s037_AACATGGG</th><td>HUB.JO.s037 </td><td>AACATGGG    </td><td>4986        </td><td> 692        </td><td>P10         </td><td>Ileum       </td><td>organoid    </td><td>AVIL-Clover+</td><td>IL4+IL13    </td><td>adult       </td><td>AVIL        </td></tr>\n",
       "\t<tr><th scope=row>HUB.JO.s037_AACCCAAC</th><td>HUB.JO.s037 </td><td>AACCCAAC    </td><td>8453        </td><td>1449        </td><td>O15         </td><td>Ileum       </td><td>organoid    </td><td>AVIL-Clover+</td><td>IL4+IL13    </td><td>adult       </td><td>AVIL        </td></tr>\n",
       "</tbody>\n",
       "</table>\n"
      ],
      "text/latex": [
       "\\begin{tabular}{r|lllllllllll}\n",
       "  & amp\\_batch\\_id & cell\\_barcode & umicount & mt\\_count & coord & source & type & gating & treatment & age & clover\\\\\n",
       "\\hline\n",
       "\tHUB.JO.s037\\_AAACAGGC & HUB.JO.s037  & AAACAGGC     & 7296         & 1280         & H18          & Ileum        & organoid     & AVIL-Clover+ & no\\_cyto    & adult        & AVIL        \\\\\n",
       "\tHUB.JO.s037\\_AAAGCGGA & HUB.JO.s037  & AAAGCGGA     & 3461         &  626         & P12          & Ileum        & organoid     & AVIL-Clover+ & IL4+IL13     & adult        & AVIL        \\\\\n",
       "\tHUB.JO.s037\\_AAAGGCTG & HUB.JO.s037  & AAAGGCTG     & 4062         & 1019         & O10          & Ileum        & organoid     & AVIL-Clover+ & IL4+IL13     & adult        & AVIL        \\\\\n",
       "\tHUB.JO.s037\\_AACACGCA & HUB.JO.s037  & AACACGCA     & 8352         & 1471         & L20          & Ileum        & organoid     & AVIL-Clover+ & IL4+IL13     & adult        & AVIL        \\\\\n",
       "\tHUB.JO.s037\\_AACATGGG & HUB.JO.s037  & AACATGGG     & 4986         &  692         & P10          & Ileum        & organoid     & AVIL-Clover+ & IL4+IL13     & adult        & AVIL        \\\\\n",
       "\tHUB.JO.s037\\_AACCCAAC & HUB.JO.s037  & AACCCAAC     & 8453         & 1449         & O15          & Ileum        & organoid     & AVIL-Clover+ & IL4+IL13     & adult        & AVIL        \\\\\n",
       "\\end{tabular}\n"
      ],
      "text/markdown": [
       "\n",
       "| <!--/--> | amp_batch_id | cell_barcode | umicount | mt_count | coord | source | type | gating | treatment | age | clover |\n",
       "|---|---|---|---|---|---|---|---|---|---|---|---|\n",
       "| HUB.JO.s037_AAACAGGC | HUB.JO.s037  | AAACAGGC     | 7296         | 1280         | H18          | Ileum        | organoid     | AVIL-Clover+ | no_cyto      | adult        | AVIL         |\n",
       "| HUB.JO.s037_AAAGCGGA | HUB.JO.s037  | AAAGCGGA     | 3461         |  626         | P12          | Ileum        | organoid     | AVIL-Clover+ | IL4+IL13     | adult        | AVIL         |\n",
       "| HUB.JO.s037_AAAGGCTG | HUB.JO.s037  | AAAGGCTG     | 4062         | 1019         | O10          | Ileum        | organoid     | AVIL-Clover+ | IL4+IL13     | adult        | AVIL         |\n",
       "| HUB.JO.s037_AACACGCA | HUB.JO.s037  | AACACGCA     | 8352         | 1471         | L20          | Ileum        | organoid     | AVIL-Clover+ | IL4+IL13     | adult        | AVIL         |\n",
       "| HUB.JO.s037_AACATGGG | HUB.JO.s037  | AACATGGG     | 4986         |  692         | P10          | Ileum        | organoid     | AVIL-Clover+ | IL4+IL13     | adult        | AVIL         |\n",
       "| HUB.JO.s037_AACCCAAC | HUB.JO.s037  | AACCCAAC     | 8453         | 1449         | O15          | Ileum        | organoid     | AVIL-Clover+ | IL4+IL13     | adult        | AVIL         |\n",
       "\n"
      ],
      "text/plain": [
       "                     amp_batch_id cell_barcode umicount mt_count coord source\n",
       "HUB.JO.s037_AAACAGGC HUB.JO.s037  AAACAGGC     7296     1280     H18   Ileum \n",
       "HUB.JO.s037_AAAGCGGA HUB.JO.s037  AAAGCGGA     3461      626     P12   Ileum \n",
       "HUB.JO.s037_AAAGGCTG HUB.JO.s037  AAAGGCTG     4062     1019     O10   Ileum \n",
       "HUB.JO.s037_AACACGCA HUB.JO.s037  AACACGCA     8352     1471     L20   Ileum \n",
       "HUB.JO.s037_AACATGGG HUB.JO.s037  AACATGGG     4986      692     P10   Ileum \n",
       "HUB.JO.s037_AACCCAAC HUB.JO.s037  AACCCAAC     8453     1449     O15   Ileum \n",
       "                     type     gating       treatment age   clover\n",
       "HUB.JO.s037_AAACAGGC organoid AVIL-Clover+ no_cyto   adult AVIL  \n",
       "HUB.JO.s037_AAAGCGGA organoid AVIL-Clover+ IL4+IL13  adult AVIL  \n",
       "HUB.JO.s037_AAAGGCTG organoid AVIL-Clover+ IL4+IL13  adult AVIL  \n",
       "HUB.JO.s037_AACACGCA organoid AVIL-Clover+ IL4+IL13  adult AVIL  \n",
       "HUB.JO.s037_AACATGGG organoid AVIL-Clover+ IL4+IL13  adult AVIL  \n",
       "HUB.JO.s037_AACCCAAC organoid AVIL-Clover+ IL4+IL13  adult AVIL  "
      ]
     },
     "metadata": {},
     "output_type": "display_data"
    }
   ],
   "source": [
    "metadata_fn = grep(\"metadata\", rownames(filePaths), v=T)\n",
    "cell_metadata = read.delim(metadata_fn, stringsAsFactors = F, row.names = 1)\n",
    "head(cell_metadata)"
   ]
  },
  {
   "cell_type": "markdown",
   "id": "65db61ef",
   "metadata": {},
   "source": [
    "### Create a unified UMI matrix from all SORT-seq data:"
   ]
  },
  {
   "cell_type": "code",
   "execution_count": 8,
   "id": "8a5102e6",
   "metadata": {},
   "outputs": [],
   "source": [
    "umi_files = list.files(umidir, pattern = \"*.txt\")\n",
    "data_list = lapply(paste0(umidir, \"/\", umi_files), read.delim, stringsAsFactor=F, row.names=1)"
   ]
  },
  {
   "cell_type": "code",
   "execution_count": 9,
   "id": "49ba8070",
   "metadata": {},
   "outputs": [],
   "source": [
    "names(data_list) = vecsplit(umi_files, \"\\\\.\", 1)"
   ]
  },
  {
   "cell_type": "code",
   "execution_count": 10,
   "id": "32f59846",
   "metadata": {},
   "outputs": [],
   "source": [
    "genes = names(table(unlist(lapply(data_list, rownames))))"
   ]
  },
  {
   "cell_type": "code",
   "execution_count": 11,
   "id": "7e698742",
   "metadata": {},
   "outputs": [],
   "source": [
    "cells = unlist(sapply(data_list, colnames))"
   ]
  },
  {
   "cell_type": "code",
   "execution_count": 12,
   "id": "67037673",
   "metadata": {},
   "outputs": [
    {
     "name": "stderr",
     "output_type": "stream",
     "text": [
      "HUB-JO-s037: 25267 genes and 384 cells\n",
      "HUB-JO-s042: 25502 genes and 384 cells\n",
      "HUB-JO-s043: 24643 genes and 380 cells\n",
      "HUB-JO-s054: 26898 genes and 383 cells\n",
      "HUB-JO-s057: 25126 genes and 384 cells\n",
      "HUB-JO-s058: 22283 genes and 384 cells\n",
      "HUB-LH-s002: 25742 genes and 384 cells\n",
      "HUB-LH-s003: 24955 genes and 384 cells\n"
     ]
    }
   ],
   "source": [
    "data = matrix(0, nrow = length(genes), ncol = length(cells), dimnames = list(genes, cells))\n",
    "for (samp in names(data_list)) {\n",
    "    X = data_list[[samp]]\n",
    "    shared = intersect(genes, rownames(X))\n",
    "    message(samp, \": \", length(shared), \" genes and \", ncol(X), \" cells\")    \n",
    "    #data[ shared, paste0(samp, \"_\", colnames(X))] = as.matrix(X[shared,])\n",
    "    data[ shared, colnames(X)] = as.matrix(X[shared,])\n",
    "}"
   ]
  },
  {
   "cell_type": "code",
   "execution_count": 6,
   "id": "5a212f6d",
   "metadata": {},
   "outputs": [
    {
     "name": "stderr",
     "output_type": "stream",
     "text": [
      "Warning message in dir.create(\"saved_work/\"):\n",
      "“'saved_work' already exists”initializing scdb to saved_work/\n"
     ]
    }
   ],
   "source": [
    "dir.create(\"saved_work/\")\n",
    "scdb_init(\"saved_work/\", force_reinit=T)\n",
    "id = \"tuft\"\n",
    "id_all = \"tuft_all\""
   ]
  },
  {
   "cell_type": "code",
   "execution_count": 14,
   "id": "3884bc8c",
   "metadata": {},
   "outputs": [],
   "source": [
    "scdb_add_mat(id_all, tgScMat(mat=data, cell_metadata=cell_metadata[ colnames(data),]))"
   ]
  },
  {
   "cell_type": "code",
   "execution_count": 16,
   "id": "88361317",
   "metadata": {},
   "outputs": [],
   "source": [
    "bad_genes = unique(c(grep(\"ERCC|^MT-\", rownames(data), v=T)))"
   ]
  },
  {
   "cell_type": "code",
   "execution_count": 17,
   "id": "c07e0eb1",
   "metadata": {
    "scrolled": true
   },
   "outputs": [
    {
     "name": "stderr",
     "output_type": "stream",
     "text": [
      "add batch counts\n",
      "compute footprints\n",
      "compute absolute ps\n",
      "compute coverage ps\n",
      "sim graph is missing 0 nodes, out of 953\n"
     ]
    }
   ],
   "source": [
    "# Import the metacell structure of tuft-enriched organoids\n",
    "import_metacell_structure(id = \"ileum_organoids\", \n",
    "                        folder = \"release_import/figure2_cs2/\", \n",
    "                        all_id = \"tuft_all\", \n",
    "                        bad_genes = bad_genes, \n",
    "                        url = NULL)"
   ]
  },
  {
   "cell_type": "markdown",
   "id": "f8b1f25c",
   "metadata": {},
   "source": [
    "## Generate a filtered UMI table of the 10x data (organoids seeded from tuft cells)"
   ]
  },
  {
   "cell_type": "code",
   "execution_count": 19,
   "id": "d10db7e6",
   "metadata": {},
   "outputs": [
    {
     "name": "stderr",
     "output_type": "stream",
     "text": [
      "10X data contains more than one type and is being returned as a list containing matrices of each type.\n"
     ]
    }
   ],
   "source": [
    "data = Seurat::Read10X(data.dir = umidir)"
   ]
  },
  {
   "cell_type": "code",
   "execution_count": 20,
   "id": "3ea922bb",
   "metadata": {},
   "outputs": [],
   "source": [
    "cellplex = as.matrix(data[[2]])"
   ]
  },
  {
   "cell_type": "markdown",
   "id": "299023f1",
   "metadata": {},
   "source": [
    "### Filter based on the number of Cellplex UMI per cell"
   ]
  },
  {
   "cell_type": "code",
   "execution_count": 22,
   "id": "86508ba4",
   "metadata": {},
   "outputs": [],
   "source": [
    "first = apply(cellplex, 2, max)\n",
    "second = apply(cellplex, 2, function(x) sort(x,T)[2])"
   ]
  },
  {
   "cell_type": "code",
   "execution_count": 23,
   "id": "84a36a32",
   "metadata": {},
   "outputs": [],
   "source": [
    "y = log2(first + 1)\n",
    "z = log2((first + 1) / (second + 1))\n",
    "\n",
    "good_cells = names(which(y > 6 & z > 3)) # More than 2^6 UMI per cells and more than 2^3-fold difference between top and second cell-plex tag"
   ]
  },
  {
   "cell_type": "code",
   "execution_count": 24,
   "id": "bfb5a17f",
   "metadata": {},
   "outputs": [],
   "source": [
    "data = as.matrix(data[[1]][,good_cells])"
   ]
  },
  {
   "cell_type": "code",
   "execution_count": 25,
   "id": "2de7e84a",
   "metadata": {},
   "outputs": [],
   "source": [
    "tag = rownames(cellplex)[ max.col(t(cellplex))]\n",
    "names(tag) = colnames(cellplex)"
   ]
  },
  {
   "cell_type": "code",
   "execution_count": 27,
   "id": "481c3a1f",
   "metadata": {},
   "outputs": [
    {
     "data": {
      "text/html": [
       "<table>\n",
       "<thead><tr><th></th><th scope=col>seeder_cell</th><th scope=col>medium</th></tr></thead>\n",
       "<tbody>\n",
       "\t<tr><th scope=row>CMO309</th><td>non-tuft   </td><td>expansion  </td></tr>\n",
       "\t<tr><th scope=row>CMO310</th><td>tuft       </td><td>diff       </td></tr>\n",
       "\t<tr><th scope=row>CMO311</th><td>tuft       </td><td>diff+IL4/13</td></tr>\n",
       "\t<tr><th scope=row>CMO312</th><td>tuft       </td><td>expansion  </td></tr>\n",
       "\t<tr><th scope=row>CMO301</th><td>non-tuft   </td><td>diff       </td></tr>\n",
       "\t<tr><th scope=row>CMO302</th><td>non-tuft   </td><td>diff+IL4/13</td></tr>\n",
       "</tbody>\n",
       "</table>\n"
      ],
      "text/latex": [
       "\\begin{tabular}{r|ll}\n",
       "  & seeder\\_cell & medium\\\\\n",
       "\\hline\n",
       "\tCMO309 & non-tuft    & expansion  \\\\\n",
       "\tCMO310 & tuft        & diff       \\\\\n",
       "\tCMO311 & tuft        & diff+IL4/13\\\\\n",
       "\tCMO312 & tuft        & expansion  \\\\\n",
       "\tCMO301 & non-tuft    & diff       \\\\\n",
       "\tCMO302 & non-tuft    & diff+IL4/13\\\\\n",
       "\\end{tabular}\n"
      ],
      "text/markdown": [
       "\n",
       "| <!--/--> | seeder_cell | medium |\n",
       "|---|---|---|\n",
       "| CMO309 | non-tuft    | expansion   |\n",
       "| CMO310 | tuft        | diff        |\n",
       "| CMO311 | tuft        | diff+IL4/13 |\n",
       "| CMO312 | tuft        | expansion   |\n",
       "| CMO301 | non-tuft    | diff        |\n",
       "| CMO302 | non-tuft    | diff+IL4/13 |\n",
       "\n"
      ],
      "text/plain": [
       "       seeder_cell medium     \n",
       "CMO309 non-tuft    expansion  \n",
       "CMO310 tuft        diff       \n",
       "CMO311 tuft        diff+IL4/13\n",
       "CMO312 tuft        expansion  \n",
       "CMO301 non-tuft    diff       \n",
       "CMO302 non-tuft    diff+IL4/13"
      ]
     },
     "metadata": {},
     "output_type": "display_data"
    }
   ],
   "source": [
    "cellplex_md = read.delim(\"release_import/figure3_10x/tuft_10x_metadata.txt\", stringsAsFactors = F, row.names = 1)\n",
    "cellplex_md"
   ]
  },
  {
   "cell_type": "code",
   "execution_count": 28,
   "id": "7a5b59e8",
   "metadata": {},
   "outputs": [
    {
     "data": {
      "text/html": [
       "<table>\n",
       "<thead><tr><th></th><th scope=col>tag</th><th scope=col>seeder_cell</th><th scope=col>medium</th><th scope=col>umicount</th></tr></thead>\n",
       "<tbody>\n",
       "\t<tr><th scope=row>AAACCCAAGCACGGAT</th><td>CMO312     </td><td>tuft       </td><td>expansion  </td><td>9961       </td></tr>\n",
       "\t<tr><th scope=row>AAACCCAAGGATATAC</th><td>CMO302     </td><td>non-tuft   </td><td>diff+IL4/13</td><td>5519       </td></tr>\n",
       "\t<tr><th scope=row>AAACCCAAGTCTACCA</th><td>CMO301     </td><td>non-tuft   </td><td>diff       </td><td>8189       </td></tr>\n",
       "\t<tr><th scope=row>AAACCCAAGTTGGAAT</th><td>CMO311     </td><td>tuft       </td><td>diff+IL4/13</td><td>2714       </td></tr>\n",
       "\t<tr><th scope=row>AAACCCACACTCGATA</th><td>CMO311     </td><td>tuft       </td><td>diff+IL4/13</td><td>6549       </td></tr>\n",
       "\t<tr><th scope=row>AAACCCACATGGCTAT</th><td>CMO312     </td><td>tuft       </td><td>expansion  </td><td>8552       </td></tr>\n",
       "</tbody>\n",
       "</table>\n"
      ],
      "text/latex": [
       "\\begin{tabular}{r|llll}\n",
       "  & tag & seeder\\_cell & medium & umicount\\\\\n",
       "\\hline\n",
       "\tAAACCCAAGCACGGAT & CMO312      & tuft        & expansion   & 9961       \\\\\n",
       "\tAAACCCAAGGATATAC & CMO302      & non-tuft    & diff+IL4/13 & 5519       \\\\\n",
       "\tAAACCCAAGTCTACCA & CMO301      & non-tuft    & diff        & 8189       \\\\\n",
       "\tAAACCCAAGTTGGAAT & CMO311      & tuft        & diff+IL4/13 & 2714       \\\\\n",
       "\tAAACCCACACTCGATA & CMO311      & tuft        & diff+IL4/13 & 6549       \\\\\n",
       "\tAAACCCACATGGCTAT & CMO312      & tuft        & expansion   & 8552       \\\\\n",
       "\\end{tabular}\n"
      ],
      "text/markdown": [
       "\n",
       "| <!--/--> | tag | seeder_cell | medium | umicount |\n",
       "|---|---|---|---|---|\n",
       "| AAACCCAAGCACGGAT | CMO312      | tuft        | expansion   | 9961        |\n",
       "| AAACCCAAGGATATAC | CMO302      | non-tuft    | diff+IL4/13 | 5519        |\n",
       "| AAACCCAAGTCTACCA | CMO301      | non-tuft    | diff        | 8189        |\n",
       "| AAACCCAAGTTGGAAT | CMO311      | tuft        | diff+IL4/13 | 2714        |\n",
       "| AAACCCACACTCGATA | CMO311      | tuft        | diff+IL4/13 | 6549        |\n",
       "| AAACCCACATGGCTAT | CMO312      | tuft        | expansion   | 8552        |\n",
       "\n"
      ],
      "text/plain": [
       "                 tag    seeder_cell medium      umicount\n",
       "AAACCCAAGCACGGAT CMO312 tuft        expansion   9961    \n",
       "AAACCCAAGGATATAC CMO302 non-tuft    diff+IL4/13 5519    \n",
       "AAACCCAAGTCTACCA CMO301 non-tuft    diff        8189    \n",
       "AAACCCAAGTTGGAAT CMO311 tuft        diff+IL4/13 2714    \n",
       "AAACCCACACTCGATA CMO311 tuft        diff+IL4/13 6549    \n",
       "AAACCCACATGGCTAT CMO312 tuft        expansion   8552    "
      ]
     },
     "metadata": {},
     "output_type": "display_data"
    }
   ],
   "source": [
    "cell_metadata = cbind(tag = tag[ good_cells], cellplex_md[ tag[ good_cells],], umicount = colSums(data[,good_cells]))\n",
    "rownames(cell_metadata) = good_cells\n",
    "head(cell_metadata)"
   ]
  },
  {
   "cell_type": "code",
   "execution_count": 29,
   "id": "cce3a493",
   "metadata": {},
   "outputs": [],
   "source": [
    "colnames(data) = paste0(colnames(data), \"-1\")\n",
    "rownames(cell_metadata) = paste0(rownames(cell_metadata), \"-1\")"
   ]
  },
  {
   "cell_type": "code",
   "execution_count": 7,
   "id": "d3e936c6",
   "metadata": {},
   "outputs": [],
   "source": [
    "id = \"10x\"\n",
    "id_all = \"10x_all\""
   ]
  },
  {
   "cell_type": "code",
   "execution_count": 31,
   "id": "3b5752d1",
   "metadata": {},
   "outputs": [],
   "source": [
    "scdb_add_mat(id_all, tgScMat(mat=data[, rownames(cell_metadata)], cell_metadata=cell_metadata))"
   ]
  },
  {
   "cell_type": "code",
   "execution_count": 4,
   "id": "8f443204",
   "metadata": {},
   "outputs": [],
   "source": [
    "bad_genes = unique(c(grep(\"^MT-|^ERCC|^IG[HLK]\", rownames(data), v=T)))"
   ]
  },
  {
   "cell_type": "code",
   "execution_count": 13,
   "id": "e73cf985",
   "metadata": {},
   "outputs": [
    {
     "name": "stderr",
     "output_type": "stream",
     "text": [
      "add batch counts\n",
      "compute footprints\n",
      "compute absolute ps\n",
      "compute coverage ps\n"
     ]
    }
   ],
   "source": [
    "# Import the metacell structure of tuft-seeded organoids\n",
    "import_metacell_structure(id = id, \n",
    "                        folder = \"release_import/figure3_10x/\", \n",
    "                        all_id = id_all, \n",
    "                        bad_genes = bad_genes, \n",
    "                        url = NULL)"
   ]
  },
  {
   "cell_type": "markdown",
   "id": "5e725ca4",
   "metadata": {},
   "source": [
    "## Download and organize published data"
   ]
  },
  {
   "cell_type": "code",
   "execution_count": 36,
   "id": "db39e5d5",
   "metadata": {},
   "outputs": [],
   "source": [
    "# Elmentaite's data\n",
    "\n",
    "setwd(\"release_umi.tab/\")\n",
    "system(\"wget https://cellgeni.cog.sanger.ac.uk/gutcellatlas/Full_obj_raw_counts_nosoupx_v2.h5ad\")\n",
    "setwd(\"..\")"
   ]
  },
  {
   "cell_type": "code",
   "execution_count": null,
   "id": "54b29dec",
   "metadata": {},
   "outputs": [],
   "source": [
    "library(SeuratDisk)\n",
    "\n",
    "Convert(\"release_umi.tab/Full_obj_raw_counts_nosoupx_v2.h5ad\", dest=\"h5seurat\", overwrite=T)\n",
    "obj = LoadH5Seurat(\"release_umi.tab/Full_obj_raw_counts_nosoupx_v2.h5seurat\")\n",
    "save(obj, file = \"release_umi.tab/Full_obj_raw_counts_nosoupx_v2.Rda\")\n"
   ]
  },
  {
   "cell_type": "code",
   "execution_count": 3,
   "id": "a96668bf",
   "metadata": {},
   "outputs": [],
   "source": [
    "load(\"release_umi.tab/Full_obj_raw_counts_nosoupx_v2.Rda\")"
   ]
  },
  {
   "cell_type": "code",
   "execution_count": 4,
   "id": "9627ad20",
   "metadata": {},
   "outputs": [],
   "source": [
    "X = obj@assays$RNA\n",
    "metadata = obj@meta.data"
   ]
  },
  {
   "cell_type": "code",
   "execution_count": 6,
   "id": "b363513b",
   "metadata": {},
   "outputs": [],
   "source": [
    "good_cells = rownames(metadata)[metadata$Diagnosis == \"Healthy adult\" & metadata$Region == \"SmallInt\" & metadata$category == \"Epithelial\"]"
   ]
  },
  {
   "cell_type": "code",
   "execution_count": 8,
   "id": "1845c1be",
   "metadata": {},
   "outputs": [
    {
     "name": "stderr",
     "output_type": "stream",
     "text": [
      "initializing scdb to saved_work/\n"
     ]
    }
   ],
   "source": [
    "id = \"Elmentaite\"\n",
    "id_all = \"Elmentaite_all\"\n",
    "\n",
    "scdb_init(\"saved_work/\", force_reinit=T)\n",
    "scdb_add_mat(id_all, tgScMat(mat=X[, good_cells], cell_metadata=metadata[ good_cells,]))"
   ]
  },
  {
   "cell_type": "code",
   "execution_count": 9,
   "id": "22ccf339",
   "metadata": {},
   "outputs": [],
   "source": [
    "bad_genes = unique(c(grep(\"^MT-|^ERCC|^IG[HLK]\", rownames(X), v=T)))\n"
   ]
  },
  {
   "cell_type": "code",
   "execution_count": 10,
   "id": "4b032a92",
   "metadata": {},
   "outputs": [
    {
     "name": "stderr",
     "output_type": "stream",
     "text": [
      "add batch counts\n",
      "compute footprints\n",
      "compute absolute ps\n",
      "compute coverage ps\n",
      "sim graph is missing 0 nodes, out of 15184\n"
     ]
    }
   ],
   "source": [
    "import_metacell_structure(id = id, \n",
    "                        folder = \"release_import/figure1_Elmentaite/\", \n",
    "                        all_id = id_all, \n",
    "                        bad_genes = bad_genes, \n",
    "                        url = NULL)"
   ]
  },
  {
   "cell_type": "code",
   "execution_count": 8,
   "id": "27061f4a",
   "metadata": {},
   "outputs": [],
   "source": [
    "# Hickey's data\n",
    "links = read.delim(\"release_import/figure1_Hickey/links.txt\", stringsAsFactors = F, h=F, skip = 1)\n",
    "data_files = grep(\"\\\\.gz\", links[,\"V2\"])\n",
    "links$folder = \"./\"\n",
    "links[ data_files, \"folder\"] = vecsplit(links[ data_files, \"V2\"], \"_\", 1)\n",
    "links$file = links$V2\n",
    "links[ data_files, \"file\"] = vecsplit(links[ data_files, \"V2\"], \"_\", 2)"
   ]
  },
  {
   "cell_type": "code",
   "execution_count": 21,
   "id": "41ef7ef8",
   "metadata": {},
   "outputs": [
    {
     "data": {
      "text/html": [
       "'/hpc/hub_oudenaarden/agiladi/data/tuft_release/release_umi.tab/figure1_Hickey'"
      ],
      "text/latex": [
       "'/hpc/hub\\_oudenaarden/agiladi/data/tuft\\_release/release\\_umi.tab/figure1\\_Hickey'"
      ],
      "text/markdown": [
       "'/hpc/hub_oudenaarden/agiladi/data/tuft_release/release_umi.tab/figure1_Hickey'"
      ],
      "text/plain": [
       "[1] \"/hpc/hub_oudenaarden/agiladi/data/tuft_release/release_umi.tab/figure1_Hickey\""
      ]
     },
     "metadata": {},
     "output_type": "display_data"
    },
    {
     "name": "stderr",
     "output_type": "stream",
     "text": [
      "Warning message in dir.create(umidir):\n",
      "“'/hpc/hub_oudenaarden/agiladi/data/tuft_release/release_umi.tab/figure1_Hickey' already exists”"
     ]
    }
   ],
   "source": [
    "curdir = getwd()\n",
    "umidir = paste0(curdir, \"/release_umi.tab/figure1_Hickey\")\n",
    "umidir\n",
    "dir.create(umidir)"
   ]
  },
  {
   "cell_type": "code",
   "execution_count": null,
   "id": "88daa970",
   "metadata": {},
   "outputs": [],
   "source": [
    "## This block can download all the data from Hickey et al. into specified directories (one for each dataset).\n",
    "## Notice this doesn't always work in R. If not, you can use the download_wrapper.sh in shell instead.\n",
    "\n",
    "\n",
    "setwd(umidir)\n",
    "\n",
    "p = function(i, links) {\n",
    "    message(links[i, \"V2\"])\n",
    "    dir.create(links[i, \"folder\"], showWarnings = F)\n",
    "    cmd1 = paste0(curdir, \"/release_code/download_wrapper.sh \", links[i, \"V3\"], \" \", links[i, \"V1\"], \" \", links[i, \"folder\"], \"/\", links[i, \"file\"])\n",
    "    #message(cmd1)\n",
    "    system(cmd1)\n",
    "    Sys.sleep(1)\n",
    "}\n",
    "\n",
    "invisible(sapply(seq_len(nrow(links)), p, links))\n",
    "\n",
    "setwd(curdir)"
   ]
  },
  {
   "cell_type": "code",
   "execution_count": 22,
   "id": "e00df82e",
   "metadata": {},
   "outputs": [],
   "source": [
    "setwd(curdir)\n",
    "umidir = \"release_umi.tab/figure1_Hickey/\"\n",
    "files = list.files(umidir)\n"
   ]
  },
  {
   "cell_type": "code",
   "execution_count": 24,
   "id": "0e53bcac",
   "metadata": {},
   "outputs": [
    {
     "data": {
      "text/html": [
       "<table>\n",
       "<thead><tr><th></th><th scope=col>UMAP_1</th><th scope=col>UMAP_2</th><th scope=col>CellType</th></tr></thead>\n",
       "<tbody>\n",
       "\t<tr><th scope=row>B001-A-301_AAACCCACAGCTATTG-1</th><td>2.292168            </td><td>-3.326214           </td><td>TA1                 </td></tr>\n",
       "\t<tr><th scope=row>B001-A-301_AAACCCAGTGTTCCAA-1</th><td>4.247404            </td><td> 6.580899           </td><td>Enterocytes         </td></tr>\n",
       "\t<tr><th scope=row>B001-A-301_AAACGAAGTGGTATGG-1</th><td>4.615074            </td><td> 5.245791           </td><td>Immature Enterocytes</td></tr>\n",
       "\t<tr><th scope=row>B001-A-301_AAACGAATCCAATGCA-1</th><td>4.477911            </td><td>-0.670288           </td><td>TA1                 </td></tr>\n",
       "\t<tr><th scope=row>B001-A-301_AAACGAATCGTGGCGT-1</th><td>0.353033            </td><td>-3.104455           </td><td>TA1                 </td></tr>\n",
       "\t<tr><th scope=row>B001-A-301_AAACGCTAGACGATAT-1</th><td>5.073505            </td><td> 6.059951           </td><td>Enterocytes         </td></tr>\n",
       "</tbody>\n",
       "</table>\n"
      ],
      "text/latex": [
       "\\begin{tabular}{r|lll}\n",
       "  & UMAP\\_1 & UMAP\\_2 & CellType\\\\\n",
       "\\hline\n",
       "\tB001-A-301\\_AAACCCACAGCTATTG-1 & 2.292168             & -3.326214            & TA1                 \\\\\n",
       "\tB001-A-301\\_AAACCCAGTGTTCCAA-1 & 4.247404             &  6.580899            & Enterocytes         \\\\\n",
       "\tB001-A-301\\_AAACGAAGTGGTATGG-1 & 4.615074             &  5.245791            & Immature Enterocytes\\\\\n",
       "\tB001-A-301\\_AAACGAATCCAATGCA-1 & 4.477911             & -0.670288            & TA1                 \\\\\n",
       "\tB001-A-301\\_AAACGAATCGTGGCGT-1 & 0.353033             & -3.104455            & TA1                 \\\\\n",
       "\tB001-A-301\\_AAACGCTAGACGATAT-1 & 5.073505             &  6.059951            & Enterocytes         \\\\\n",
       "\\end{tabular}\n"
      ],
      "text/markdown": [
       "\n",
       "| <!--/--> | UMAP_1 | UMAP_2 | CellType |\n",
       "|---|---|---|---|\n",
       "| B001-A-301_AAACCCACAGCTATTG-1 | 2.292168             | -3.326214            | TA1                  |\n",
       "| B001-A-301_AAACCCAGTGTTCCAA-1 | 4.247404             |  6.580899            | Enterocytes          |\n",
       "| B001-A-301_AAACGAAGTGGTATGG-1 | 4.615074             |  5.245791            | Immature Enterocytes |\n",
       "| B001-A-301_AAACGAATCCAATGCA-1 | 4.477911             | -0.670288            | TA1                  |\n",
       "| B001-A-301_AAACGAATCGTGGCGT-1 | 0.353033             | -3.104455            | TA1                  |\n",
       "| B001-A-301_AAACGCTAGACGATAT-1 | 5.073505             |  6.059951            | Enterocytes          |\n",
       "\n"
      ],
      "text/plain": [
       "                              UMAP_1   UMAP_2    CellType            \n",
       "B001-A-301_AAACCCACAGCTATTG-1 2.292168 -3.326214 TA1                 \n",
       "B001-A-301_AAACCCAGTGTTCCAA-1 4.247404  6.580899 Enterocytes         \n",
       "B001-A-301_AAACGAAGTGGTATGG-1 4.615074  5.245791 Immature Enterocytes\n",
       "B001-A-301_AAACGAATCCAATGCA-1 4.477911 -0.670288 TA1                 \n",
       "B001-A-301_AAACGAATCGTGGCGT-1 0.353033 -3.104455 TA1                 \n",
       "B001-A-301_AAACGCTAGACGATAT-1 5.073505  6.059951 Enterocytes         "
      ]
     },
     "metadata": {},
     "output_type": "display_data"
    }
   ],
   "source": [
    "metadata_fn = grep(\"Epithelial\", files, v=T)\n",
    "metadata_list = lapply(paste0(umidir, \"/\", metadata_fn), read.delim, stringsAsFactors = F, row.names = 1)\n",
    "head(metadata_list[[1]])"
   ]
  },
  {
   "cell_type": "code",
   "execution_count": 25,
   "id": "3db47645",
   "metadata": {},
   "outputs": [],
   "source": [
    "l = sapply(metadata_list, nrow)"
   ]
  },
  {
   "cell_type": "code",
   "execution_count": 26,
   "id": "13e0ede2",
   "metadata": {},
   "outputs": [],
   "source": [
    "metadata = do.call(rbind, metadata_list)"
   ]
  },
  {
   "cell_type": "code",
   "execution_count": 27,
   "id": "f3f1f2d2",
   "metadata": {},
   "outputs": [
    {
     "data": {
      "text/html": [
       "<table>\n",
       "<thead><tr><th></th><th scope=col>UMAP_1</th><th scope=col>UMAP_2</th><th scope=col>CellType</th><th scope=col>tissue</th><th scope=col>folder</th></tr></thead>\n",
       "<tbody>\n",
       "\t<tr><th scope=row>B001-A-301_AAACCCACAGCTATTG-1</th><td>2.292168            </td><td>-3.326214           </td><td>TA1                 </td><td>Colon               </td><td>B001-A-301          </td></tr>\n",
       "\t<tr><th scope=row>B001-A-301_AAACCCAGTGTTCCAA-1</th><td>4.247404            </td><td> 6.580899           </td><td>Enterocytes         </td><td>Colon               </td><td>B001-A-301          </td></tr>\n",
       "\t<tr><th scope=row>B001-A-301_AAACGAAGTGGTATGG-1</th><td>4.615074            </td><td> 5.245791           </td><td>Immature Enterocytes</td><td>Colon               </td><td>B001-A-301          </td></tr>\n",
       "\t<tr><th scope=row>B001-A-301_AAACGAATCCAATGCA-1</th><td>4.477911            </td><td>-0.670288           </td><td>TA1                 </td><td>Colon               </td><td>B001-A-301          </td></tr>\n",
       "\t<tr><th scope=row>B001-A-301_AAACGAATCGTGGCGT-1</th><td>0.353033            </td><td>-3.104455           </td><td>TA1                 </td><td>Colon               </td><td>B001-A-301          </td></tr>\n",
       "\t<tr><th scope=row>B001-A-301_AAACGCTAGACGATAT-1</th><td>5.073505            </td><td> 6.059951           </td><td>Enterocytes         </td><td>Colon               </td><td>B001-A-301          </td></tr>\n",
       "</tbody>\n",
       "</table>\n"
      ],
      "text/latex": [
       "\\begin{tabular}{r|lllll}\n",
       "  & UMAP\\_1 & UMAP\\_2 & CellType & tissue & folder\\\\\n",
       "\\hline\n",
       "\tB001-A-301\\_AAACCCACAGCTATTG-1 & 2.292168             & -3.326214            & TA1                  & Colon                & B001-A-301          \\\\\n",
       "\tB001-A-301\\_AAACCCAGTGTTCCAA-1 & 4.247404             &  6.580899            & Enterocytes          & Colon                & B001-A-301          \\\\\n",
       "\tB001-A-301\\_AAACGAAGTGGTATGG-1 & 4.615074             &  5.245791            & Immature Enterocytes & Colon                & B001-A-301          \\\\\n",
       "\tB001-A-301\\_AAACGAATCCAATGCA-1 & 4.477911             & -0.670288            & TA1                  & Colon                & B001-A-301          \\\\\n",
       "\tB001-A-301\\_AAACGAATCGTGGCGT-1 & 0.353033             & -3.104455            & TA1                  & Colon                & B001-A-301          \\\\\n",
       "\tB001-A-301\\_AAACGCTAGACGATAT-1 & 5.073505             &  6.059951            & Enterocytes          & Colon                & B001-A-301          \\\\\n",
       "\\end{tabular}\n"
      ],
      "text/markdown": [
       "\n",
       "| <!--/--> | UMAP_1 | UMAP_2 | CellType | tissue | folder |\n",
       "|---|---|---|---|---|---|\n",
       "| B001-A-301_AAACCCACAGCTATTG-1 | 2.292168             | -3.326214            | TA1                  | Colon                | B001-A-301           |\n",
       "| B001-A-301_AAACCCAGTGTTCCAA-1 | 4.247404             |  6.580899            | Enterocytes          | Colon                | B001-A-301           |\n",
       "| B001-A-301_AAACGAAGTGGTATGG-1 | 4.615074             |  5.245791            | Immature Enterocytes | Colon                | B001-A-301           |\n",
       "| B001-A-301_AAACGAATCCAATGCA-1 | 4.477911             | -0.670288            | TA1                  | Colon                | B001-A-301           |\n",
       "| B001-A-301_AAACGAATCGTGGCGT-1 | 0.353033             | -3.104455            | TA1                  | Colon                | B001-A-301           |\n",
       "| B001-A-301_AAACGCTAGACGATAT-1 | 5.073505             |  6.059951            | Enterocytes          | Colon                | B001-A-301           |\n",
       "\n"
      ],
      "text/plain": [
       "                              UMAP_1   UMAP_2    CellType             tissue\n",
       "B001-A-301_AAACCCACAGCTATTG-1 2.292168 -3.326214 TA1                  Colon \n",
       "B001-A-301_AAACCCAGTGTTCCAA-1 4.247404  6.580899 Enterocytes          Colon \n",
       "B001-A-301_AAACGAAGTGGTATGG-1 4.615074  5.245791 Immature Enterocytes Colon \n",
       "B001-A-301_AAACGAATCCAATGCA-1 4.477911 -0.670288 TA1                  Colon \n",
       "B001-A-301_AAACGAATCGTGGCGT-1 0.353033 -3.104455 TA1                  Colon \n",
       "B001-A-301_AAACGCTAGACGATAT-1 5.073505  6.059951 Enterocytes          Colon \n",
       "                              folder    \n",
       "B001-A-301_AAACCCACAGCTATTG-1 B001-A-301\n",
       "B001-A-301_AAACCCAGTGTTCCAA-1 B001-A-301\n",
       "B001-A-301_AAACGAAGTGGTATGG-1 B001-A-301\n",
       "B001-A-301_AAACGAATCCAATGCA-1 B001-A-301\n",
       "B001-A-301_AAACGAATCGTGGCGT-1 B001-A-301\n",
       "B001-A-301_AAACGCTAGACGATAT-1 B001-A-301"
      ]
     },
     "metadata": {},
     "output_type": "display_data"
    }
   ],
   "source": [
    "metadata$tissue = rep(vecsplit(metadata_fn, \"_\", 1), l)\n",
    "metadata$folder = vecsplit(rownames(metadata), \"_\", 1)\n",
    "head(metadata)"
   ]
  },
  {
   "cell_type": "code",
   "execution_count": 26,
   "id": "3d057fe4",
   "metadata": {},
   "outputs": [],
   "source": [
    "tenxruns = names(table(metadata$folder))"
   ]
  },
  {
   "cell_type": "code",
   "execution_count": 28,
   "id": "5afdc9e8",
   "metadata": {},
   "outputs": [],
   "source": [
    "tenxfiles = t(sapply(tenxruns, function(x) setdiff(list.files(paste0(umidir, \"/\", x)), \"\")))"
   ]
  },
  {
   "cell_type": "code",
   "execution_count": 30,
   "id": "44e7d9ae",
   "metadata": {},
   "outputs": [],
   "source": [
    "tuft_cells = rownames(metadata)[ metadata$CellType == \"Tuft\" & metadata$tissue == \"Jejunum\"]"
   ]
  },
  {
   "cell_type": "code",
   "execution_count": 31,
   "id": "9beb0be0",
   "metadata": {},
   "outputs": [],
   "source": [
    "rel_folders = names(table(metadata[ tuft_cells, \"folder\"]))"
   ]
  },
  {
   "cell_type": "code",
   "execution_count": null,
   "id": "d517383e",
   "metadata": {},
   "outputs": [],
   "source": [
    "data_list = lapply(rel_folders, function(f) {\n",
    "    data = Seurat::Read10X(data.dir = paste0(umidir, \"/\", f))\n",
    "    if (length(data) == 2) {data = data[[1]]}\n",
    "    colnames(data) = paste0(f, \"_\", colnames(data))\n",
    "    X = as.matrix(data[, intersect( tuft_cells, colnames(data))])\n",
    "    message(f, \": \", nrow(X), \" genes over \", ncol(X), \" cells\")\n",
    "    X\n",
    "})"
   ]
  },
  {
   "cell_type": "code",
   "execution_count": null,
   "id": "e3c429e3",
   "metadata": {},
   "outputs": [],
   "source": [
    "genes = names(table(unlist(lapply(data_list, rownames))))"
   ]
  },
  {
   "cell_type": "code",
   "execution_count": null,
   "id": "8435337c",
   "metadata": {},
   "outputs": [],
   "source": [
    "cells = unlist(sapply(data_list, colnames))"
   ]
  },
  {
   "cell_type": "code",
   "execution_count": null,
   "id": "7872c0b7",
   "metadata": {},
   "outputs": [],
   "source": [
    "names(data_list) = rel_folders"
   ]
  },
  {
   "cell_type": "code",
   "execution_count": null,
   "id": "c1c3ef0c",
   "metadata": {},
   "outputs": [],
   "source": [
    "data = matrix(0, nrow = length(genes), ncol = length(cells), dimnames = list(genes, cells))"
   ]
  },
  {
   "cell_type": "code",
   "execution_count": null,
   "id": "493524a2",
   "metadata": {},
   "outputs": [],
   "source": [
    "for (samp in names(data_list)) {\n",
    "    X = data_list[[samp]]\n",
    "    message(samp, \": \", nrow(X), \" genes and \", ncol(X), \" cells\")    \n",
    "    data[ rownames(X), colnames(X)] = as.matrix(X)\n",
    "}"
   ]
  },
  {
   "cell_type": "code",
   "execution_count": 31,
   "id": "fa7b0d53",
   "metadata": {},
   "outputs": [],
   "source": [
    "data = as.matrix(data[, intersect(rownames(metadata), colnames(data))])"
   ]
  },
  {
   "cell_type": "code",
   "execution_count": 33,
   "id": "0b36a2e8",
   "metadata": {},
   "outputs": [
    {
     "name": "stderr",
     "output_type": "stream",
     "text": [
      "Warning message in dir.create(\"saved_work/\"):\n",
      "“'saved_work' already exists”initializing scdb to saved_work/\n"
     ]
    }
   ],
   "source": [
    "dir.create(\"saved_work/\")\n",
    "scdb_init(\"saved_work/\", force_reinit=T)\n",
    "id = \"hickey_tuft\"\n",
    "id_all = \"hickey_tuft\""
   ]
  },
  {
   "cell_type": "code",
   "execution_count": 34,
   "id": "b8151bba",
   "metadata": {},
   "outputs": [],
   "source": [
    "scdb_add_mat(id_all, tgScMat(mat=data, cell_metadata=metadata[ colnames(data),]))"
   ]
  }
 ],
 "metadata": {
  "kernelspec": {
   "display_name": "R [conda env:my_env] *",
   "language": "R",
   "name": "conda-env-my_env-r"
  },
  "language_info": {
   "codemirror_mode": "r",
   "file_extension": ".r",
   "mimetype": "text/x-r-source",
   "name": "R",
   "pygments_lexer": "r",
   "version": "3.6.1"
  }
 },
 "nbformat": 4,
 "nbformat_minor": 5
}
