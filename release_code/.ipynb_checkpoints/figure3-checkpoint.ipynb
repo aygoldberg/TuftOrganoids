{
 "cells": [
  {
   "cell_type": "markdown",
   "id": "f52b25dd",
   "metadata": {},
   "source": [
    "Intialize:"
   ]
  },
  {
   "cell_type": "code",
   "execution_count": 1,
   "id": "d4220fc0",
   "metadata": {},
   "outputs": [
    {
     "data": {
      "text/html": [
       "'/hpc/hub_oudenaarden/agiladi/data/tuft/release_code'"
      ],
      "text/latex": [
       "'/hpc/hub\\_oudenaarden/agiladi/data/tuft/release\\_code'"
      ],
      "text/markdown": [
       "'/hpc/hub_oudenaarden/agiladi/data/tuft/release_code'"
      ],
      "text/plain": [
       "[1] \"/hpc/hub_oudenaarden/agiladi/data/tuft/release_code\""
      ]
     },
     "metadata": {},
     "output_type": "display_data"
    }
   ],
   "source": [
    "getwd()"
   ]
  },
  {
   "cell_type": "code",
   "execution_count": 2,
   "id": "2a76b346",
   "metadata": {},
   "outputs": [],
   "source": [
    "setwd(\"/hpc/hub_oudenaarden/agiladi/data/tuft/\")"
   ]
  },
  {
   "cell_type": "code",
   "execution_count": 3,
   "id": "21fdb1dc",
   "metadata": {
    "scrolled": true
   },
   "outputs": [
    {
     "name": "stderr",
     "output_type": "stream",
     "text": [
      "Warning message:\n",
      "“namespace ‘cachem’ is not available and has been replaced\n",
      "by .GlobalEnv when processing object ‘’”\n",
      "Bioconductor version '3.10' is out-of-date; the current release version '3.18'\n",
      "  is available with R version '4.3'; see https://bioconductor.org/install\n",
      "Registered S3 method overwritten by 'enrichplot':\n",
      "  method               from\n",
      "  fortify.enrichResult DOSE\n",
      "clusterProfiler v3.14.0  For help: https://guangchuangyu.github.io/software/clusterProfiler\n",
      "\n",
      "If you use clusterProfiler in published research, please cite:\n",
      "Guangchuang Yu, Li-Gen Wang, Yanyan Han, Qing-Yu He. clusterProfiler: an R package for comparing biological themes among gene clusters. OMICS: A Journal of Integrative Biology. 2012, 16(5):284-287.\n",
      "Loading required package: grid\n",
      "Loading required package: IRanges\n",
      "Loading required package: BiocGenerics\n",
      "Loading required package: parallel\n",
      "\n",
      "Attaching package: ‘BiocGenerics’\n",
      "\n",
      "The following objects are masked from ‘package:parallel’:\n",
      "\n",
      "    clusterApply, clusterApplyLB, clusterCall, clusterEvalQ,\n",
      "    clusterExport, clusterMap, parApply, parCapply, parLapply,\n",
      "    parLapplyLB, parRapply, parSapply, parSapplyLB\n",
      "\n",
      "The following objects are masked from ‘package:stats’:\n",
      "\n",
      "    IQR, mad, sd, var, xtabs\n",
      "\n",
      "The following objects are masked from ‘package:base’:\n",
      "\n",
      "    anyDuplicated, append, as.data.frame, basename, cbind, colnames,\n",
      "    dirname, do.call, duplicated, eval, evalq, Filter, Find, get, grep,\n",
      "    grepl, intersect, is.unsorted, lapply, Map, mapply, match, mget,\n",
      "    order, paste, pmax, pmax.int, pmin, pmin.int, Position, rank,\n",
      "    rbind, Reduce, rownames, sapply, setdiff, sort, table, tapply,\n",
      "    union, unique, unsplit, which, which.max, which.min\n",
      "\n",
      "Loading required package: S4Vectors\n",
      "Loading required package: stats4\n",
      "\n",
      "Attaching package: ‘S4Vectors’\n",
      "\n",
      "The following object is masked from ‘package:base’:\n",
      "\n",
      "    expand.grid\n",
      "\n",
      "Loading required package: Biostrings\n",
      "Loading required package: XVector\n",
      "\n",
      "Attaching package: ‘Biostrings’\n",
      "\n",
      "The following object is masked from ‘package:base’:\n",
      "\n",
      "    strsplit\n",
      "\n",
      "Loading required package: GenomicRanges\n",
      "Loading required package: GenomeInfoDb\n",
      "Loading required package: VennDiagram\n",
      "Warning message:\n",
      "“package ‘VennDiagram’ was built under R version 3.6.3”Loading required package: futile.logger\n",
      "Warning message:\n",
      "“package ‘futile.logger’ was built under R version 3.6.3”Loading required package: AnnotationDbi\n",
      "Loading required package: Biobase\n",
      "Welcome to Bioconductor\n",
      "\n",
      "    Vignettes contain introductory material; view with\n",
      "    'browseVignettes()'. To cite Bioconductor, see\n",
      "    'citation(\"Biobase\")', and for packages 'citation(\"pkgname\")'.\n",
      "\n",
      "\n",
      "Warning message:\n",
      "\"package 'ggrepel' was built under R version 3.6.3\"Loading required package: ggplot2\n",
      "Warning message:\n",
      "\"package 'ggplot2' was built under R version 3.6.3\"Warning message in .getGeneric(f, where, package):\n",
      "\"input string 'unable to find an inherited method for function ‘spillover’ for signature.*(flowSet|ncdfFlowSet)' cannot be translated to UTF-8, is it valid in 'ANSI_X3.4-1968'?\"Warning message in .getGeneric(f, where, package):\n",
      "\"input string 'unable to find an inherited method for function ‘spillover’ for signature.*(flowSet|ncdfFlowSet)' cannot be translated to UTF-8, is it valid in 'ANSI_X3.4-1968'?\"Warning message in .getGeneric(f, where, package):\n",
      "\"input string 'unable to find an inherited method for function ‘spillover’ for signature.*(flowSet|ncdfFlowSet)' cannot be translated to UTF-8, is it valid in 'ANSI_X3.4-1968'?\"\n",
      "Attaching package: 'flowCore'\n",
      "\n",
      "The following object is masked from 'package:BiocGenerics':\n",
      "\n",
      "    normalize\n",
      "\n",
      "Warning message:\n",
      "\"package 'Hmisc' was built under R version 3.6.3\"Loading required package: lattice\n",
      "Warning message:\n",
      "\"package 'lattice' was built under R version 3.6.3\"\n",
      "Attaching package: 'lattice'\n",
      "\n",
      "The following object is masked from 'package:clusterProfiler':\n",
      "\n",
      "    dotplot\n",
      "\n",
      "Loading required package: survival\n",
      "Warning message:\n",
      "\"package 'survival' was built under R version 3.6.3\"Loading required package: Formula\n",
      "Warning message:\n",
      "\"package 'Formula' was built under R version 3.6.3\"\n",
      "Attaching package: 'Hmisc'\n",
      "\n",
      "The following object is masked from 'package:AnnotationDbi':\n",
      "\n",
      "    contents\n",
      "\n",
      "The following object is masked from 'package:Biobase':\n",
      "\n",
      "    contents\n",
      "\n",
      "The following objects are masked from 'package:Biostrings':\n",
      "\n",
      "    mask, translate\n",
      "\n",
      "The following objects are masked from 'package:base':\n",
      "\n",
      "    format.pval, units\n",
      "\n",
      "Loading required package: reshape2\n",
      "Warning message:\n",
      "\"package 'reshape2' was built under R version 3.6.3\"Loading required package: plyr\n",
      "\n",
      "Attaching package: 'plyr'\n",
      "\n",
      "The following objects are masked from 'package:Hmisc':\n",
      "\n",
      "    is.discrete, summarize\n",
      "\n",
      "The following object is masked from 'package:XVector':\n",
      "\n",
      "    compact\n",
      "\n",
      "The following object is masked from 'package:IRanges':\n",
      "\n",
      "    desc\n",
      "\n",
      "The following object is masked from 'package:S4Vectors':\n",
      "\n",
      "    rename\n",
      "\n",
      "Loading required package: plotrix\n",
      "initializing scdb to saved_work\n",
      "Warning message in dir.create(\"figures\"):\n",
      "\"'figures' already exists\""
     ]
    }
   ],
   "source": [
    "library(metacell)\n",
    "library(RColorBrewer)\n",
    "\n",
    "library(clusterProfiler)\n",
    "library(ChIPpeakAnno) # for turning symbols into EntrezID\n",
    "library(org.Hs.eg.db)\n",
    "\n",
    "library(ggrepel)\n",
    "library(flowCore)\n",
    "library(flowWorkspace)\n",
    "\n",
    "library(Hmisc)\n",
    "\n",
    "source(\"../tuft/scripts/metacell_functions.r\")\n",
    "\n",
    "scdb_init(\"saved_work\", force=T)\n",
    "dir.create(\"figures\")"
   ]
  },
  {
   "cell_type": "code",
   "execution_count": 4,
   "id": "28c62128",
   "metadata": {},
   "outputs": [],
   "source": [
    "X = sessionInfo()"
   ]
  },
  {
   "cell_type": "code",
   "execution_count": null,
   "id": "8245073b",
   "metadata": {},
   "outputs": [],
   "source": [
    "Y = X$otherPkgs\n",
    "#X$loadedOnly"
   ]
  },
  {
   "cell_type": "code",
   "execution_count": null,
   "id": "cb0061b7",
   "metadata": {},
   "outputs": [],
   "source": [
    "write.table(cbind(sapply(Y, \"[[\", \"Package\"),\n",
    "sapply(Y, \"[[\", \"Version\")), sep = \"\\t\", quote=F, row.names=F)\n"
   ]
  },
  {
   "cell_type": "code",
   "execution_count": null,
   "id": "4bbec286",
   "metadata": {},
   "outputs": [],
   "source": [
    "outdir = \"figures/figure3_4/\"\n",
    "dir.create(outdir)"
   ]
  },
  {
   "cell_type": "markdown",
   "id": "12e47951",
   "metadata": {},
   "source": [
    "Load metacell objects and create environment"
   ]
  },
  {
   "cell_type": "code",
   "execution_count": null,
   "id": "ae4f01d4",
   "metadata": {},
   "outputs": [],
   "source": [
    "#id = \"intestinal_tufts_organoid\"\n",
    "id = \"ileum_organoids\"\n",
    "\n",
    "suffix = \"_f\"; id_f = paste0(id, suffix)\n",
    "sc_2d = scdb_mc2d(id); sc_cl = scdb_mc(paste0(id, suffix)); sc_mat = scdb_mat(id)\n",
    "\n",
    "cells = names(sc_cl@mc)\n",
    "cell_stats = sc_mat@cell_metadata[cells,]\n",
    "colnames(cell_stats) = gsub(\" \", \".\", colnames(cell_stats))\n",
    "colnames(cell_stats) = gsub(\"\\\\(|\\\\)\", \"_\", colnames(cell_stats))\n",
    "fp = sc_cl@mc_fp\n",
    "lfp = log2(sc_cl@mc_fp)\n",
    "\n",
    "color_scheme = sc_cl@color_key\n",
    "color2name = as.vector(color_scheme$group); names(color2name) = color_scheme$color\n",
    "name2color = as.vector(color_scheme$color); names(name2color) = color_scheme$group\n",
    "sc_names = color2name[ sc_cl@colors[ sc_cl@mc]]; names(sc_names) = names(sc_cl@mc)\n",
    "annotations = as.matrix(read.delim(paste0(\"config/lin_ord_\", id, \".txt\"), stringsAsFactor=F, h=F))[,1]\n",
    "lin_ord = annotations\n"
   ]
  },
  {
   "cell_type": "code",
   "execution_count": null,
   "id": "2bc54246",
   "metadata": {},
   "outputs": [],
   "source": [
    "write.table(names(table(as.vector(cell_stats[ names(sc_cl@mc), \"amp_batch_id\"]))), quote=F, row.names=F)\n"
   ]
  },
  {
   "cell_type": "code",
   "execution_count": null,
   "id": "3584acb3",
   "metadata": {},
   "outputs": [],
   "source": [
    "head(cell_stats)\n",
    "comb = with(cell_stats, paste0(gating, \"_\", treatment))\n",
    "summarize.table(table(comb,as.vector(cell_stats$amp_batch_id)))"
   ]
  },
  {
   "cell_type": "code",
   "execution_count": null,
   "id": "4a19430d",
   "metadata": {},
   "outputs": [],
   "source": [
    "mc = scdb_mc(paste0(id, suffix))\n",
    "\n",
    "lfp = log2(mc@mc_fp)\n",
    "umis = read_large_umis(id)\n",
    "umis_n = sweep(umis, 2, colSums(umis), \"/\") * 1000\n",
    "foc = log(1 + 7 * umis_n)\n",
    "\n",
    "clust_ord = colnames(lfp) # if you have any meaningful ordering of the meta cells, plug it here instead.\n",
    "nms = choose_genes_from_clust(id, id, nms_per_clust=20, nms_thresh=1, ord = \"max.col\", #bad_genes = bad_genes,\n",
    "    must_haves = c())\n",
    "nms = nms[ order(max.col(lfp[nms, clust_ord]))]\n",
    "\n",
    "grad = colorRampPalette(c(\"white\", \n",
    "        \"orange\", \"tomato\", \"mediumorchid4\", \"midnightblue\"))(1000)\n",
    "\n",
    "IM = foc[nms, ]\n",
    "vct = factor(mc@mc[colnames(IM)], levels = clust_ord); names(vct) = colnames(IM)\n",
    "IM = IM[, names(sort(vct[ colnames(IM)]))]\n",
    "\n",
    "p = function() {\n",
    "    par(mar = c(0.5, 10, 0.5, 0.5), fig = c(0,0.9,0.1,1))\n",
    "    image.2(IM, b=F, vct=vct[ colnames(IM)], col=grad, annotate=\"rows\"); box()\n",
    "    par(fig = c(0,0.9,0,0.1), new=T)\n",
    "    image(matrix(seq_along(colnames(IM))), axes=F, col = mc@colors[ mc@mc[ colnames(IM)]]); box()\n",
    "    # you can replace the above code with a color-coding of the cells based on their condition (phago, mono-culture etc.)\n",
    "    par(fig = c(0.9,1,0.3,0.7), new=T, mar = c(0.5,3,0.5,0.5))\n",
    "    image(y = seq(min(IM), max(IM), length.out = length(grad)), t(seq_along(grad)), col=grad, axes=F)\n",
    "    axis(2,las=2)\n",
    "    box()\n",
    "}\n",
    "\n",
    "pdf(\"temp.pdf\", height = 20, width=15)\n",
    "p()\n",
    "dev.off()"
   ]
  },
  {
   "cell_type": "code",
   "execution_count": null,
   "id": "b11e8a6c",
   "metadata": {},
   "outputs": [],
   "source": [
    "table(sc_names)"
   ]
  },
  {
   "cell_type": "code",
   "execution_count": null,
   "id": "3d853137",
   "metadata": {},
   "outputs": [],
   "source": [
    "table(cell_stats$source)"
   ]
  },
  {
   "cell_type": "code",
   "execution_count": null,
   "id": "e3c53149",
   "metadata": {},
   "outputs": [],
   "source": [
    "write.table(name2color, sep = \"\\t\", quote=F, file = \"annotations/name2color.txt\")"
   ]
  },
  {
   "cell_type": "code",
   "execution_count": null,
   "id": "b15f3cbb",
   "metadata": {},
   "outputs": [],
   "source": [
    "message(length(cells), \" cells\")\n",
    "message(length(table(sc_cl@mc)), \" metacells\")\n",
    "write.table(lin_ord, quote=F, row.names=F, col.names=F)"
   ]
  },
  {
   "cell_type": "code",
   "execution_count": null,
   "id": "1b00a9d5",
   "metadata": {},
   "outputs": [],
   "source": [
    "good_cells = sample(rownames(cell_stats)[ cell_stats$source == \"Ileum\"])"
   ]
  },
  {
   "cell_type": "code",
   "execution_count": null,
   "id": "47d6663b",
   "metadata": {
    "scrolled": true
   },
   "outputs": [],
   "source": [
    "plot.empty()\n",
    "legend(\"topleft\", lin_ord, pch=21, pt.bg = name2color[ lin_ord])\n",
    "\n",
    "all_cells = intersect(names(sc_2d@sc_x), names(sc_cl@mc))\n",
    "#good_cells = sample(rownames(cell_stats)[ cell_stats$source == \"Ileum\" & cell_stats$treatment == \"no_cyto\"])\n",
    "\n",
    "p = function() {\n",
    "    plot(sc_2d@sc_x[all_cells], sc_2d@sc_y[all_cells], pch = 20, col = \"gray\",\n",
    "        axes = F, xlab = \"\", ylab = \"\", cex = 1)\n",
    "    points(sc_2d@sc_x[good_cells], sc_2d@sc_y[good_cells], pch = 21, bg = sc_cl@colors[ sc_cl@mc[good_cells]], cex=2)\n",
    "}\n",
    "\n",
    "p()\n",
    "pdf(paste0(outdir, \"/graph_with_stimulation.pdf\"), useDingbats=F, height=10, width=10)\n",
    "p()\n",
    "dev.off()"
   ]
  },
  {
   "cell_type": "code",
   "execution_count": null,
   "id": "2f10cc85",
   "metadata": {
    "scrolled": true
   },
   "outputs": [],
   "source": [
    "tuft_pops = grep(\"Tuft\", lin_ord, v=T)\n",
    "write.table(tuft_pops, quote=F, row.names=F)\n",
    "tuft_mc = which(color2name[ sc_cl@colors] %in% tuft_pops)\n",
    "tuft_cells = intersect(names(sc_names)[ sc_names %in% tuft_pops], rownames(cell_stats)[ cell_stats$gating == \"AVIL-Clover+\"])\n",
    "length(tuft_cells)"
   ]
  },
  {
   "cell_type": "code",
   "execution_count": null,
   "id": "aaa0b143",
   "metadata": {},
   "outputs": [],
   "source": [
    "comb = paste0(ifelse(sc_names[good_cells] %in% tuft_pops, \"Tuft\", \"Epithel\"), \"@\", cell_stats[ good_cells, \"treatment\"])\n",
    "names(comb) = good_cells\n",
    "table(comb)\n",
    "table(sc_names[good_cells] %in% tuft_pops)\n",
    "cols = c(\"gray40\", \"gray90\", \"darkorange2\", \"antiquewhite\")"
   ]
  },
  {
   "cell_type": "code",
   "execution_count": null,
   "id": "38945186",
   "metadata": {
    "scrolled": false
   },
   "outputs": [],
   "source": [
    "p = function() {\n",
    "    plot(sc_2d@sc_x[all_cells], sc_2d@sc_y[all_cells], pch = 20, col = \"gray\",\n",
    "        axes = F, xlab = \"\", ylab = \"\", cex = 1)\n",
    "    points(sc_2d@sc_x[good_cells], sc_2d@sc_y[good_cells], pch = 21, cex = 2, bg = cols[ as.numeric(factor(comb[good_cells]))])\n",
    "}\n",
    "\n",
    "p()\n",
    "pdf(paste0(outdir, \"/graph_by_treatment.pdf\"), useDingbats=F, height=10, width=10)\n",
    "p()\n",
    "dev.off()\n",
    "\n",
    "#X = plot_two_genes_fp(id_f, \"EPCAM\", \"AVIL\")\n",
    "#X = plot_two_genes_fp(id_f, \"MUC2\", \"LGR5\")"
   ]
  },
  {
   "cell_type": "code",
   "execution_count": null,
   "id": "035c0ca9",
   "metadata": {},
   "outputs": [],
   "source": [
    "head(cell_stats)\n",
    "plate_cells = intersect(tuft_cells, rownames(cell_stats)[ cell_stats$amp_batch_id == \"HUB.JO.s037\"])\n",
    "\n",
    "p = function() {\n",
    "    plot(sc_2d@sc_x[all_cells], sc_2d@sc_y[all_cells], pch = 20, col = \"gray\",\n",
    "        axes = F, xlab = \"\", ylab = \"\", cex = 1)\n",
    "    points(sc_2d@sc_x[plate_cells], sc_2d@sc_y[plate_cells], pch = 21, cex = 2, bg = cols[ as.numeric(factor(comb[plate_cells], levels = names(table(comb))))])\n",
    "}\n",
    "\n",
    "p()\n",
    "pdf(paste0(outdir, \"/graph_by_treatment_mixed_plate.pdf\"), useDingbats=F, height=10, width=10)\n",
    "p()\n",
    "dev.off()"
   ]
  },
  {
   "cell_type": "code",
   "execution_count": null,
   "id": "24a19e7f",
   "metadata": {},
   "outputs": [],
   "source": [
    "length(plate_cells)"
   ]
  },
  {
   "cell_type": "code",
   "execution_count": null,
   "id": "4a6b3d34",
   "metadata": {},
   "outputs": [],
   "source": [
    "sample_dist = table(factor(cell_stats[ tuft_cells, \"treatment\"], levels = c(\"no_cyto\", \"IL4+IL13\")), sc_names[ tuft_cells])\n",
    "sample_dist = sample_dist[, intersect(lin_ord, colnames(sample_dist))]\n",
    "summarize.table(sample_dist)"
   ]
  },
  {
   "cell_type": "code",
   "execution_count": null,
   "id": "a93793c7",
   "metadata": {},
   "outputs": [],
   "source": [
    "dist_n = sample_dist / rowSums(sample_dist)\n",
    "\n",
    "\n",
    "bconf = sapply(colnames(sample_dist), function(c)\n",
    "    binconf(sample_dist[,c], rowSums(sample_dist))) * 100\n",
    "\n",
    "pointEst = bconf[1:2,]; dimnames(pointEst) = dimnames(dist_n)\n",
    "lower = bconf[3:4,]\n",
    "upper = bconf[5:6,]\n"
   ]
  },
  {
   "cell_type": "code",
   "execution_count": null,
   "id": "e3535375",
   "metadata": {},
   "outputs": [],
   "source": [
    "#par(mar = c(10,7,3,1))\n",
    "\n",
    "p = function(){\n",
    "    coords = barplot(pointEst, beside=T, axes = F, ylab = \"Cell frequency\", ylim = c(0, 1.05 * max(upper)),\n",
    "        col = c(\"antiquewhite\", \"darkorange2\"))\n",
    "    axis(2, las = 2)\n",
    "    segments(coords, lower, y1 = upper)\n",
    "    segments(coords - 0.2, lower, coords + 0.2)\n",
    "    segments(coords - 0.2, upper, coords + 0.2)\n",
    "}\n",
    "\n",
    "p()\n",
    "pdf(paste0(outdir, \"/sample_dist_errorbars.pdf\"), useDingbats = F, height=5, width=7)\n",
    "p()\n",
    "dev.off()\n",
    "\n"
   ]
  },
  {
   "cell_type": "code",
   "execution_count": null,
   "id": "74b22960",
   "metadata": {},
   "outputs": [],
   "source": [
    "good_cells = sample(rownames(cell_stats)[ cell_stats$source == \"Ileum\"]) # & cell_stats$treatment == \"no_cyto\"])\n",
    "\n",
    "umis = read_large_umis(id, cells = good_cells)\n",
    "umis_n = sweep(umis, 2, cell_stats[ good_cells, \"umicount\"], \"/\") * 1000\n"
   ]
  },
  {
   "cell_type": "code",
   "execution_count": null,
   "id": "d55d30d1",
   "metadata": {},
   "outputs": [],
   "source": [
    "clust_ord = setdiff(order(factor(color2name[ sc_cl@colors], levels = lin_ord)), c())"
   ]
  },
  {
   "cell_type": "markdown",
   "id": "9d013ff8",
   "metadata": {},
   "source": [
    "clusts = as.numeric(factor(sc_cl@mc[ tuft_cells], levels = intersect(clust_ord, tuft_mc)))\n",
    "names(clusts) = tuft_cells\n",
    "scdb_add_mc(paste0(id, \"_tuft\"), tgMCCov(clusts, setdiff(sc_mat@cells, names(clusts)), sc_mat))"
   ]
  },
  {
   "cell_type": "code",
   "execution_count": null,
   "id": "a4e5550f",
   "metadata": {},
   "outputs": [],
   "source": [
    "nms = choose_genes_from_clust(paste0(id, \"_tuft\"), id, nms_per_clust=20, nms_thresh=1, ord = \"max.col\", #bad_genes = bad_genes,\n",
    "    must_haves = c(\"AVIL\", \"TRPM5\", \"EPCAM\", \"POU2F3\", \"KIT\", \"IL13RA1\", \"IL4R\", \"IL27RA\", \"IL17RB\"))\n",
    "nms"
   ]
  },
  {
   "cell_type": "code",
   "execution_count": null,
   "id": "596b53d5",
   "metadata": {},
   "outputs": [],
   "source": [
    "lin_ord\n",
    "color2name[ sc_cl@colors[ clust_ord]]\n",
    "clust_ord"
   ]
  },
  {
   "cell_type": "markdown",
   "id": "66a50d8a",
   "metadata": {},
   "source": [
    "b=9\n",
    "genes = c(\"clover\", \"ALOX5AP\", \"POU2F3\", \"KIT\", \n",
    "         \"CHGA\", \"RGS13\", \"MEX3A\", \"STMN1\",\n",
    "         \"HPGDS\",\"GNG13\", \"AVIL\", \"MKI67\")\n",
    "          \n",
    "plot_feature_maps = function(gene) {\n",
    "    vals = umis_n[gene,]\n",
    "    pos_vals = vals[ vals > 0]\n",
    "    quants = unique(quantile(pos_vals, (0:b)/b))\n",
    "\n",
    "    val_n = rep(1, length(good_cells)); names(val_n) = good_cells\n",
    "    val_n[ names(pos_vals)] = as.numeric(cut(pos_vals, quants, include.lowest=T)) + 1\n",
    "    library(RColorBrewer)\n",
    "\n",
    "    grad = c(\"white\", brewer.pal(length(table(val_n)) - 1, \"YlGnBu\"))\n",
    "    cell_ord = names(sort(val_n))\n",
    "    plot(sc_2d@sc_x[all_cells], sc_2d@sc_y[all_cells], pch = 20, col = \"gray\",\n",
    "        axes = F, xlab = \"\", ylab = \"\", cex = 1, main = gene)\n",
    "    points(sc_2d@sc_x[cell_ord], sc_2d@sc_y[cell_ord], pch = 21, cex = 2, bg = grad[ val_n[ cell_ord]])\n",
    "}\n",
    "\n",
    "invisible(sapply(genes, plot_feature_maps))\n",
    "\n",
    "pdf(paste0(outdir, \"/feature_maps.pdf\"), height=15, width=20, useDingbats=F)\n",
    "par(mfrow = c(3,4))\n",
    "invisible(sapply(genes, plot_feature_maps))\n",
    "dev.off()"
   ]
  },
  {
   "cell_type": "code",
   "execution_count": null,
   "id": "beba9a89",
   "metadata": {},
   "outputs": [],
   "source": [
    "write.table(colnames(cell_stats))"
   ]
  },
  {
   "cell_type": "markdown",
   "id": "bdad1659",
   "metadata": {},
   "source": [
    "rfac = 20\n",
    "df = cbind(x = sc_2d@sc_x[ good_cells], y = sc_2d@sc_y[ good_cells], rx = round(sc_2d@sc_x[ good_cells] / rfac), ry = round(sc_2d@sc_y[ good_cells] / rfac))\n",
    "dim(df)\n",
    "df = df[ !duplicated(df[, c(\"rx\", \"ry\")]),]\n",
    "dim(df)\n",
    "mhead(df)"
   ]
  },
  {
   "cell_type": "markdown",
   "id": "da318e69",
   "metadata": {
    "scrolled": true
   },
   "source": [
    "plot_feature_maps = function(i, genes, nr = 3, nc = 4) {\n",
    "    \n",
    "    \n",
    "    cb = 1 / nc\n",
    "    rb = 1 / nr\n",
    "    locs = cbind(rep(seq_len(nc) - 1, nr), rep(rev(seq_len(nr)) - 1, each = nc))\n",
    "    gene = genes[i]\n",
    "    vals = umis_n[gene,]\n",
    "    pos_vals = log(1 + 1 * vals[ vals > 0])\n",
    "    pos_vals = pmin(pos_vals, quantile(pos_vals, 0.99))\n",
    "    val_n = rep(1, length(good_cells)); names(val_n) = good_cells\n",
    "    val_n[ names(pos_vals)] = round(100 * pos_vals / max(pos_vals)) + 1\n",
    "    #grad = colorRampPalette(c(\"gray\", brewer.pal(9, \"YlGnBu\")))(101)\n",
    "    grad = colorRampPalette(c(\"gray90\", \"gray90\", brewer.pal(3, \"Reds\")))(101)\n",
    "    cell_ord = names(val_n) #sort(val_n))\n",
    "    r = locs[i,2]; c = locs[i,1]\n",
    "    par(fig = c(c / nc, c / nc + cb * 0.85, r / nr, r / nr + rb * 0.85), mar = rep(0.5,4), new = (i > 1))\n",
    "    plot(sc_2d@sc_x[ good_cells], sc_2d@sc_y[ good_cells], pch = 20, col = \"gray98\",\n",
    "        axes = F, xlab = \"\", ylab = \"\", cex = 1.5, main = gene)\n",
    "    points(sc_2d@sc_x[cell_ord], sc_2d@sc_y[cell_ord], pch = 20, cex = 1.5, col = grad[ val_n[ cell_ord]])\n",
    "    par (fig = c(c / nc + cb * 0.9, c / nc + cb * 1, r / nr + rb * 0.3, r / nr + rb * 0.6), new=T)\n",
    "    ax = seq(0, max(pos_vals), length.out = length(grad))\n",
    "    image(y = ax, t(seq_along(grad)), axes = F, col = grad)\n",
    "    box(); axis(2, at = quantile(ax, c(0,1)), labels = round(quantile(ax, c(0,1)),2), las = 2)\n",
    "}\n",
    "\n",
    "\n",
    "#invisible(sapply(genes, p))\n",
    "\n",
    "#pdf(paste0(outdir, \"/feature_maps_2.pdf\"), height=15, width=20, useDingbats=F)\n",
    "#par(mfrow = c(3,4))\n",
    "#invisible(sapply(genes, p))\n",
    "#dev.off()"
   ]
  },
  {
   "cell_type": "code",
   "execution_count": null,
   "id": "d54e292d",
   "metadata": {},
   "outputs": [],
   "source": [
    "plot_feature_maps = function(i, genes, nr = 2, nc = 3, rfac = 5) {\n",
    "#genes = c(\"KIT\", \"POU2F3\", \"IL4R\", \"IL27RA\", \"IL17RB\"); i = 1; nr = 1; nc = 1; rfac = 5\n",
    "    #all_cells = sample(good_cells)\n",
    "    cb = 1 / nc\n",
    "    rb = 1 / nr\n",
    "    locs = cbind(rep(seq_len(nc) - 1, nr), rep(rev(seq_len(nr)) - 1, each = nc))\n",
    "    gene = genes[i]\n",
    "    #umis = sc_mat@mat[gene, names(sc_cl@mc)]\n",
    "    #umis_n = umis / umicount[ names(umis)]\n",
    "    all_cells = names(sort(umis_n[gene, good_cells]))\n",
    "    vals = umis_n[gene, good_cells]\n",
    "    all_cells = names(sort(vals))\n",
    "    pos_vals = log(1 + 1 * vals[ vals > 0])\n",
    "    pos_vals = pmin(pos_vals, quantile(pos_vals, 0.99))\n",
    "    val_n = rep(1, length(all_cells)); names(val_n) = all_cells\n",
    "    val_n[ names(pos_vals)] = round(100 * pos_vals / max(pos_vals)) + 1\n",
    "    grad = colorRampPalette(c(\"gray90\", \"gray90\", brewer.pal(3, \"Reds\")))(101)\n",
    "    #grad = colorRampPalette(c(\"gray80\",\"gray80\", \"blue3\"))(101)\n",
    "    cell_ord = names(val_n) #sort(val_n))\n",
    "    r = locs[i,2]; c = locs[i,1]\n",
    "    par(fig = c(c / nc, c / nc + cb * 0.85, r / nr, r / nr + rb * 0.85), mar = rep(0.5,4), new = (i > 1))\n",
    "    #plot(df[,\"x\"], df[,\"y\"], pch = 20, col = grad[1],\n",
    "    #    axes = F, xlab = \"\", ylab = \"\", cex = 0.7, main = gene)\n",
    "    df = cbind(x = sc_2d@sc_x[ all_cells], y = sc_2d@sc_y[ all_cells], col = grad[ val_n[ all_cells]], \n",
    "               rx = round(sc_2d@sc_x[ all_cells] / rfac), ry = round(sc_2d@sc_y[ all_cells] / rfac))\n",
    "    df = df[ !duplicated(df[, c(\"col\", \"rx\", \"ry\")]),]\n",
    "    dim(df)\n",
    "    plot(df[,\"x\"], df[,\"y\"], pch = 20, cex = 1, col = df[,\"col\"], axes = F, xlab = \"\", ylab = \"\", main = gene)\n",
    "    par (fig = c(c / nc + cb * 0.9, c / nc + cb * 1, r / nr + rb * 0.3, r / nr + rb * 0.6), new=T)\n",
    "    ax = seq(0, max(pos_vals), length.out = length(grad))\n",
    "    image(y = ax, t(seq_along(grad)), axes = F, col = grad)\n",
    "    box(); axis(2, at = quantile(ax, c(0,1)), labels = round(quantile(ax, c(0,1)),3), las = 2)\n",
    "}\n"
   ]
  },
  {
   "cell_type": "markdown",
   "id": "88da89f3",
   "metadata": {},
   "source": [
    "#grad = c(\"white\", brewer.pal(b, \"YlGnBu\"))\n",
    "pdf(paste0(outdir, \"/feature_maps_cb.pdf\"), useDingbats = F)\n",
    "image(matrix(seq_along(grad)), axes=F, col = grad); box()\n",
    "dev.off()"
   ]
  },
  {
   "cell_type": "code",
   "execution_count": null,
   "id": "daf32cb4",
   "metadata": {},
   "outputs": [],
   "source": [
    "genes = c(\"KIT\", \"IL13RA1\", \"IL4R\", \"IL27RA\", \"IL17RB\")\n",
    "#         \"IL13RA2\", \"IL6ST\", \"IL17RA\")\n",
    "m = t(apply(umis_n[genes, good_cells], 1, tapply, sc_names[ good_cells], mean))\n",
    "m = m[, rev(intersect(lin_ord, names(which(table(sc_names[ good_cells]) > 20))))]\n",
    "IM = log(m + 0.02)\n",
    "exp_freq = t(apply(umis[genes, good_cells] > 0, 1, tapply, sc_names[ good_cells], mean)) * 100\n",
    "exp_freq = exp_freq[ ,colnames(m)]\n",
    "\n",
    "#grad=colorRampPalette(c(\"white\", brewer.pal(9, \"YlGnBu\")))(101)\n",
    "grad = colorRampPalette(c(\"white\", brewer.pal(9, \"YlOrBr\")))(101)\n",
    "\n",
    "p = function() {\n",
    "    par(mar = c(3,8,1,3))\n",
    "    matplot.2(t(IM), t(exp_freq), grad=grad, cex_lim = seq(0,100, by = 25))\n",
    "}\n",
    "\n",
    "p()\n",
    "pdf(paste0(outdir, \"/cytokine_receptors.pdf\"), height=10, width=15, useDingbats = F)\n",
    "p()\n",
    "dev.off()\n",
    "\n",
    "#pdf(paste0(outdir, \"/cytokine_receptors_maps.pdf\"), height=10, width=15, useDingbats=F)\n",
    "#invisible(sapply(genes, plot_feature_maps))\n",
    "#dev.off()\n",
    "\n",
    "genes = c(\"POU2F3\", \"SOX9\", \"SPIB\", \"TCF7\", \"RUNX1\", \"ZFHX3\", \"PROX1\", \"GFI1B\", \"HOXB8\", \"HMX2\")\n",
    "#         \"HMX2\", \"HOXB8\")\n",
    "m = t(apply(umis_n[genes, good_cells], 1, tapply, sc_names[ good_cells], mean))\n",
    "m = m[, rev(intersect(lin_ord, names(which(table(sc_names[ good_cells]) > 20))))]\n",
    "IM = log(m + 0.02)\n",
    "exp_freq = t(apply(umis[genes, good_cells] > 0, 1, tapply, sc_names[ good_cells], mean))\n",
    "exp_freq = exp_freq[ ,colnames(m)] * 100\n",
    "\n",
    "p()\n",
    "pdf(paste0(outdir, \"/transcription_factors.pdf\"), height=10, width=15, useDingbats = F)\n",
    "p()\n",
    "dev.off()\n",
    "\n",
    "pdf(paste0(outdir, \"/transcription_factors_maps.pdf\"), height=15, width=20, useDingbats=F)\n",
    "par(mfrow = c(3,4))\n",
    "invisible(sapply(seq_along(genes), plot_feature_maps, genes = genes, nr = 3, nc = 4))\n",
    "dev.off()\n"
   ]
  },
  {
   "cell_type": "code",
   "execution_count": null,
   "id": "aac8f2fe",
   "metadata": {},
   "outputs": [],
   "source": [
    "genes = read.table(\"annotations//stem_genes.txt\", stringsAsFactors = F)[[1]]\n",
    "m = t(apply(umis_n[genes, good_cells], 1, tapply, sc_names[ good_cells], mean))\n",
    "m = m[, rev(intersect(lin_ord, names(which(table(sc_names[ good_cells]) > 20))))]\n",
    "IM = log(m + 0.02)\n",
    "exp_freq = t(apply(umis[genes, good_cells] > 0, 1, tapply, sc_names[ good_cells], mean))\n",
    "exp_freq = exp_freq[ ,colnames(m)] * 100\n",
    "\n",
    "p()\n",
    "pdf(paste0(outdir, \"/stemness_factors.pdf\"), height=10, width=15, useDingbats = F)\n",
    "p()\n",
    "dev.off()\n",
    "\n",
    "pdf(paste0(outdir, \"/stemness_factors_maps.pdf\"), height=15, width=20, useDingbats=F)\n",
    "#par(mfrow = c(3,4))\n",
    "invisible(sapply(seq_along(genes), plot_feature_maps, genes = genes, nr = 3, nc = 4))\n",
    "dev.off()"
   ]
  },
  {
   "cell_type": "code",
   "execution_count": null,
   "id": "210ffccc",
   "metadata": {},
   "outputs": [],
   "source": [
    "genes = c(\"AVIL\", \"ALOX5AP\", \"KIT\")\n",
    "pdf(paste0(outdir, \"/key_markers_maps.pdf\"), height=5, width=15, useDingbats=F)\n",
    "invisible(sapply(seq_along(genes), plot_feature_maps, genes = genes, nr = 1, nc = 3))\n",
    "dev.off()"
   ]
  },
  {
   "cell_type": "code",
   "execution_count": null,
   "id": "fa04f5a4",
   "metadata": {},
   "outputs": [],
   "source": [
    "genes = c(\"DCLK1\",\"TERT\", \"BMI1\", \"LRIG1\", \"PROX1\", \"CLU\")\n",
    "m = t(apply(umis_n[genes, good_cells], 1, tapply, sc_names[ good_cells], mean))\n",
    "m = m[, rev(intersect(lin_ord, names(which(table(sc_names[ good_cells]) > 20))))]\n",
    "IM = log(m + 0.02)\n",
    "exp_freq = t(apply(umis[genes, good_cells] > 0, 1, tapply, sc_names[ good_cells], mean))\n",
    "exp_freq = exp_freq[ ,colnames(m)] * 100\n",
    "\n",
    "p()\n",
    "pdf(paste0(outdir, \"/stemness_factors_supp.pdf\"), height=10, width=15, useDingbats = F)\n",
    "p()\n",
    "dev.off()"
   ]
  },
  {
   "cell_type": "code",
   "execution_count": null,
   "id": "f8d0c7bb",
   "metadata": {},
   "outputs": [],
   "source": [
    "exp_freq"
   ]
  },
  {
   "cell_type": "code",
   "execution_count": null,
   "id": "01b89472",
   "metadata": {},
   "outputs": [],
   "source": [
    "#genes = c(\"DCLK1\",\"TERT\", \"BMI1\", \"LRIG1\", \"PROX1\", \"CLU\", \"HBEGF\")\n",
    "setdiff(genes, rownames(umis_n))\n",
    "\n",
    "grep(\"EGF\", rownames(umis_n), v=T)"
   ]
  },
  {
   "cell_type": "markdown",
   "id": "b36880d6",
   "metadata": {},
   "source": [
    "Compare Ileum tuft with and without IL-4 activation"
   ]
  },
  {
   "cell_type": "code",
   "execution_count": null,
   "id": "bb7e804a",
   "metadata": {},
   "outputs": [],
   "source": [
    "umis = read_large_umis(id, cells = good_cells)\n",
    "umis_n = sweep(umis, 2, cell_stats[ good_cells, \"umicount\"], \"/\") * 1000\n"
   ]
  },
  {
   "cell_type": "code",
   "execution_count": null,
   "id": "02c6087c",
   "metadata": {},
   "outputs": [],
   "source": [
    "comb = ifelse(sc_names[ good_cells] %in% tuft_pops, sc_names[ good_cells], \"Epithel\")\n",
    "#comb = sc_names[ good_cells]\n",
    "names(comb) = good_cells\n",
    "\n",
    "head(comb)\n",
    "m = t(apply(umis_n[names(which(rowSums(umis[,good_cells]) > 50)), good_cells], 1, tapply, comb[ good_cells], mean))\n",
    "m = m[, names(which(table(comb[ good_cells]) > 20))]\n",
    "message(nrow(m), \" genes with >100 total UMI\")\n",
    "head(m)"
   ]
  },
  {
   "cell_type": "code",
   "execution_count": null,
   "id": "dbb83241",
   "metadata": {},
   "outputs": [],
   "source": [
    "bg = \"Epithel\"\n",
    "reg = 0.02\n",
    "Z = log2((reg + m[,tuft_pops]) / (reg + m[,bg]))\n",
    "diff_genes = sapply(tuft_pops, function(x) scr_chi_square_diff_genes(umis, g1 = names(which(comb == x)), g2 = names(which(comb == bg)), \n",
    "                                  pval = 0.01, fdr = T))\n",
    "length(diff_genes)\n",
    "sapply(diff_genes, length)\n",
    "                    "
   ]
  },
  {
   "cell_type": "code",
   "execution_count": null,
   "id": "ea2aefda",
   "metadata": {},
   "outputs": [],
   "source": [
    "names(diff_genes) = paste0(names(diff_genes), \"@\")\n",
    "diff_genes = unlist(diff_genes)\n",
    "diff_genes = table(diff_genes, vecsplit(names(diff_genes), \"@\", 1))\n",
    "head(diff_genes)\n",
    "head(Z)"
   ]
  },
  {
   "cell_type": "code",
   "execution_count": null,
   "id": "5f57c6a9",
   "metadata": {},
   "outputs": [],
   "source": [
    "shared = intersect(rownames(diff_genes), rownames(Z))\n",
    "core_genes = names(which(rowSums(diff_genes[shared,] == 1 & Z[ shared, colnames(diff_genes)] > 1) == ncol(diff_genes)))\n",
    "sort(core_genes)"
   ]
  },
  {
   "cell_type": "code",
   "execution_count": null,
   "id": "2fa553d2",
   "metadata": {},
   "outputs": [],
   "source": [
    "head(Z[core_genes,])"
   ]
  },
  {
   "cell_type": "code",
   "execution_count": null,
   "id": "054604f5",
   "metadata": {
    "scrolled": true
   },
   "outputs": [],
   "source": [
    "head(diff_genes)\n",
    "head(Z)"
   ]
  },
  {
   "cell_type": "code",
   "execution_count": null,
   "id": "3ec01c1d",
   "metadata": {
    "scrolled": true
   },
   "outputs": [],
   "source": [
    "shared = intersect(rownames(diff_genes), rownames(Z))\n",
    "double_genes = diff_genes[shared,] == 1 & Z[ shared, colnames(diff_genes)] > 1\n",
    "table(rowSums(double_genes))"
   ]
  },
  {
   "cell_type": "code",
   "execution_count": null,
   "id": "5b0a1f39",
   "metadata": {},
   "outputs": [],
   "source": [
    "gene_anno_ep = apply(double_genes, 1, function(x) paste0(colnames(double_genes)[x], collapse = \",\"))\n",
    "gene_anno_ep[ core_genes] = \"Core\"\n",
    "good_genes = names(which(gene_anno_ep != \"\"))\n",
    "df = data.frame(m[ good_genes,], annotation = gene_anno_ep[ good_genes])\n",
    "head(df)\n",
    "                     \n",
    "write.table(df, sep = \"\\t\", quote=F, col.names=NA, file = paste0(outdir, \"/TableS1.txt\"))"
   ]
  },
  {
   "cell_type": "code",
   "execution_count": null,
   "id": "563c3717",
   "metadata": {
    "scrolled": true
   },
   "outputs": [],
   "source": [
    "p = function() {\n",
    "    X = apply(double_genes[ rowSums(double_genes) > 0,], 1, function(x) paste0(colnames(double_genes)[ x], collapse = \",\"))\n",
    "    Y = sort(table(X), T)\n",
    "\n",
    "    par (mar = c(0, 15, 1, 1), fig = c(0,1,0.25,1))          \n",
    "    coords = barplot(Y, names.arg = rep(\"\", length(Y)), las=2, xaxs=\"i\", col = \"antiquewhite\")\n",
    "\n",
    "    Z = strsplit(names(Y), \",\")\n",
    "    names(Z) = paste0(seq_along(Z), \"@\")\n",
    "    Z = unlist(Z)\n",
    "    X = t(table(as.numeric(vecsplit(names(Z), \"@\", 1)), factor(Z, levels = rev(tuft_pops))))\n",
    "\n",
    "    par(fig = c(0,1,0,0.25), new=T)  \n",
    "    hmed = seq(0, 1, length.out = nrow(X))\n",
    "    vmed = seq(min(coords), max(coords), length.out = ncol(X))\n",
    "    cex_val = X * 2.5\n",
    "    #col = c(\"gray80\", \"gray20\")[ col_val]\n",
    "    plot(1,1,type=\"n\", xlim = quantile(coords, c(0,1)), ylim = c(-0.1, 1.1), axes = F, xlab = \"\", ylab = \"\")          \n",
    "    invisible(sapply(as.numeric(colnames(X)), function(x) lines(rep(vmed[x], sum(X[,x])), hmed[which(X[,x] == 1)]))) \n",
    "    points(rep(vmed, each = nrow(X)), rep(hmed, ncol(X)), pch = 21, \n",
    "        bg = name2color[ rep(rownames(X), ncol(X))], cex = cex_val, axes = F, xlab = \"\", ylab = \"\",# xaxs=\"i\",\n",
    "        xlim = quantile(coords, c(0,1)), ylim = c(-0.1, 1.1))\n",
    "    axis(2, at = hmed, labels = rownames(X), las = 2)\n",
    "\n",
    "    \n",
    "}\n",
    "                     \n",
    "p()\n",
    "                     \n",
    "pdf(paste0(outdir, \"/venn.pdf\"), height=4, width=7, useDingbats = F)\n",
    "p()\n",
    "dev.off()\n"
   ]
  },
  {
   "cell_type": "code",
   "execution_count": null,
   "id": "2e53717c",
   "metadata": {
    "scrolled": true
   },
   "outputs": [],
   "source": [
    "core_genes = names(which(rowSums(!double_genes) == 0))\n",
    "disp_genes = union(names(head(sort(apply(Z[core_genes,],1, min), T), 20)), c(\"AVIL\"))\n",
    "sort(disp_genes)"
   ]
  },
  {
   "cell_type": "code",
   "execution_count": null,
   "id": "da46b371",
   "metadata": {},
   "outputs": [],
   "source": [
    "grad = colorRampPalette(c(\"white\", brewer.pal(9, \"YlOrBr\")))(1000)\n",
    "IM = log(1 + 7 * umis_n[ disp_genes,])\n",
    "\n",
    "\n",
    "vct = factor(sc_names[colnames(IM)], levels = lin_ord); names(vct) = colnames(IM)\n",
    "good_pops = names(which(table(vct) > 20))\n",
    "IM = IM[, vct[colnames(IM)] %in% good_pops]\n",
    "vct = factor(vct[ colnames(IM)], levels = good_pops); names(vct) = colnames(IM)\n",
    "IM = IM[,names(sort(vct[ colnames(IM)]))]; IM = IM[ order(rowSums(IM)),]\n",
    "p = function() {\n",
    "    par(mar = c(0.5, 10, 0.5, 0.5), fig = c(0,0.9,0.1,1))\n",
    "    image.2(IM, b=F, vct=vct[ colnames(IM)], col=grad, annotate=\"rows\"); box()\n",
    "    par(fig = c(0,0.9,0,0.1), new=T)\n",
    "    image(matrix(seq_along(colnames(IM))), axes=F, col = sc_cl@colors[ sc_cl@mc[ colnames(IM)]]); box()\n",
    "    par(fig = c(0.9,1,0.3,0.7), new=T, mar = c(0.5,3,0.5,0.5))\n",
    "    image(y = seq(min(IM), max(IM), length.out = length(grad)), t(seq_along(grad)), col=grad, axes=F)\n",
    "    axis(2,las=2)\n",
    "    box()\n",
    "}\n",
    "\n",
    "#p()\n",
    "pdf(paste0(outdir, \"/core_genes_sc_heatmap.pdf\"), height=10, width=10, useDingbats = F)\n",
    "p()\n",
    "dev.off()\n",
    "\n",
    "IM = IM / apply(IM, 1, quantile, 0.999)\n",
    "IM = pmin(IM, 1)\n",
    "\n",
    "pdf(paste0(outdir, \"/core_genes_sc_heatmap_row_norm.pdf\"), height=10, width=10, useDingbats = F)\n",
    "p()\n",
    "dev.off()"
   ]
  },
  {
   "cell_type": "markdown",
   "id": "210dcee0",
   "metadata": {},
   "source": [
    "## Within"
   ]
  },
  {
   "cell_type": "code",
   "execution_count": null,
   "id": "c74e45b9",
   "metadata": {},
   "outputs": [],
   "source": [
    "within_genes = sapply(tuft_pops, function(x) scr_chi_square_diff_genes(umis, g1 = names(which(comb == x)), g2 = names(comb)[comb %in% setdiff(tuft_pops, x)], \n",
    "                                  pval = 0.01, fdr = T))\n",
    "names(within_genes) = paste0(names(within_genes), \"@\")\n",
    "within_genes = unlist(within_genes)\n",
    "within_genes = table(within_genes, vecsplit(names(within_genes), \"@\", 1))\n",
    "head(within_genes)\n",
    "dim(within_genes)\n",
    "#head(Z)\n"
   ]
  },
  {
   "cell_type": "code",
   "execution_count": null,
   "id": "3f3a3263",
   "metadata": {},
   "outputs": [],
   "source": [
    "Z2 = log2((reg + m[,tuft_pops]) / (reg + apply(m[,tuft_pops], 1, median)))\n",
    "shared = intersect(rownames(within_genes), rownames(Z2))\n",
    "table(rowSums(within_genes[shared,] == 1 & Z2[ shared, colnames(within_genes)] > 1))"
   ]
  },
  {
   "cell_type": "code",
   "execution_count": null,
   "id": "25d74520",
   "metadata": {
    "scrolled": true
   },
   "outputs": [],
   "source": [
    "double_within = within_genes[shared,] == 1 & Z2[ shared, colnames(within_genes)] > 1\n",
    "colSums(double_within)"
   ]
  },
  {
   "cell_type": "code",
   "execution_count": null,
   "id": "437f4aca",
   "metadata": {},
   "outputs": [],
   "source": [
    "double_within = double_within[ rowSums(double_within) > 0,]\n",
    "genes = union(rownames(double_within), core_genes)\n",
    "gene_anno = rep(\"Core\", length(genes)); names(gene_anno) = genes\n",
    "gene_anno[ rownames(double_within)] = colnames(double_within)[ max.col(double_within)]\n",
    "table(gene_anno)"
   ]
  },
  {
   "cell_type": "code",
   "execution_count": null,
   "id": "d2b854e9",
   "metadata": {},
   "outputs": [],
   "source": [
    "rel_genes = names(gene_anno)[ gene_anno %in% c(\"Core\", paste0(\"Tuft-\", 1:4))]\n",
    "\n",
    "df = data.frame(round(Z2[rel_genes,],3), anno = gene_anno[ rel_genes], umicount = rowSums(umis[rel_genes, tuft_cells ]), mean_count = rowMeans(umis_n[rel_genes, tuft_cells ]))\n",
    "X = df[ order(df$anno, df$umicount),]\n",
    "\n",
    "dim(X)\n",
    "write.table(X, sep = \"\\t\", quote=F, col.names=NA, file = paste0(outdir, \"/activation_genes_sc_heatmap.txt\"))"
   ]
  },
  {
   "cell_type": "code",
   "execution_count": null,
   "id": "5dc734d8",
   "metadata": {},
   "outputs": [],
   "source": [
    "table(gene_anno)"
   ]
  },
  {
   "cell_type": "code",
   "execution_count": null,
   "id": "42755e6c",
   "metadata": {},
   "outputs": [],
   "source": [
    "good_genes = intersect(names(gene_anno), names(which(apply(Z,1,max) > 1)))\n",
    "gene_score = rowSums(umis[good_genes, tuft_cells]) #apply(Z[good_genes,], 1, function(x) mean(x[ x > 1]))\n",
    "#disp_genes = #unlist(tapply(gene_score, gene_anno[ good_genes], function(x) names(head(sort(x,T),7))))\n",
    "#    c(\"TOP2A\", \"STMN1\", \"NOS2\", \"MKI67\", \"CENPF\", \"MCM7\", \"CST3\", #Tuft_3\n",
    "#         \"VIPR1\", \"VIPR1-AS1\", \"TACSTD2\", \"ADI1\", \"ATP12A\", \"SLC16A1\", \"PTPRG\", #Tuft_4\n",
    "#         \"RGS13\", \"CD164\", \"HPGDS\", \"CREG1\", \"CAT\", \"PTPRN2\", \"DEFB1\",\n",
    "         \n",
    "#disp_genes = c(\"PLA2G15\", \"PLA2G12A\", \"PLA2G6\", \"CHPT1\", #Tuft_2_Jochem\n",
    "#         \"MKI67\", \"TOP2A\", \"TUBB\", \"CKS1B\", #Tuft_3_Jochem\n",
    "#          \"CCL20\", \"CCL25\", \"FCGR2A\", \"HCK\", \"VIPR1\", \"SOCS1\", \"SOCS3\", \"SOCS4\", \"IL10\", \n",
    "#          \"CD274\", \"IKBKE\", \"NFKBIZ\", \"TNFRSF1B\", \"INPP5D\", \"HBEGF\", \"EREG\", \"AREG\", \"FZD5\", \"WNT5B\") #Tuft_4_Jochem\n",
    "disp_genes = setdiff(read.table(\"figures//figure3_4/heatmap_genes.txt\", stringsAsFactors = F)[[1]], \"ALOX5AP\")\n",
    "table(gene_anno[disp_genes])"
   ]
  },
  {
   "cell_type": "code",
   "execution_count": null,
   "id": "70236135",
   "metadata": {},
   "outputs": [],
   "source": [
    "sort(gene_anno[disp_genes])"
   ]
  },
  {
   "cell_type": "code",
   "execution_count": null,
   "id": "ca871629",
   "metadata": {},
   "outputs": [],
   "source": [
    "IM = lfp[ disp_genes,]\n",
    "vct = factor(color2name[ sc_cl@colors], levels = lin_ord); names(vct) = seq_along(vct)\n",
    "hct = factor(gene_anno[disp_genes], levels = c(\"Core\", tuft_pops)); \n",
    "names(hct) = disp_genes\n",
    "IM = IM[,names(sort(vct))]; IM = IM[ order(max.col(IM)),]\n",
    "image.2(IM, b=T, vct=vct[ colnames(IM)]) #, hct = hct[ rownames(IM)])"
   ]
  },
  {
   "cell_type": "code",
   "execution_count": null,
   "id": "02f27132",
   "metadata": {
    "scrolled": true
   },
   "outputs": [],
   "source": [
    "#disp_genes = names(hct)[hct %in% c(\"tufts_RGS13\", \"tuft_cc\", \"tufts_ALOX5AP_activated\")]\n",
    "\n",
    "#disp_genes = names(head(sort(y,T), 40))\n",
    "grad = colorRampPalette(c(\"white\", brewer.pal(9, \"YlOrBr\")))(1000)\n",
    "IM = log(1 + 7 * umis_n[ disp_genes, tuft_cells])\n",
    "IM = IM[, order(factor(sc_cl@mc[ colnames(IM)], levels = clust_ord))]\n",
    "\n",
    "vct = factor(sc_names[colnames(IM)], levels = lin_ord); names(vct) = colnames(IM)\n",
    "good_pops = names(which(table(vct) > 20))\n",
    "IM = IM[, vct[colnames(IM)] %in% good_pops]\n",
    "vct = factor(vct[ colnames(IM)], levels = good_pops); names(vct) = colnames(IM)\n",
    "IM = IM[,names(sort(vct[ colnames(IM)]))]; \n",
    "IM = IM[ order(max.col(Z[ rownames(IM),]), -rowSums(umis[ rownames(IM), tuft_cells])),]\n",
    "p = function(IM) {\n",
    "    par(mar = c(0.5, 10, 0.5, 0.5), fig = c(0,0.9,0.1,1))\n",
    "    image.2(IM, b=F, vct=vct[ colnames(IM)], col=grad, annotate=\"rows\"); box()\n",
    "    par(fig = c(0,0.9,0,0.1), new=T)\n",
    "    image(matrix(seq_along(colnames(IM))), axes=F, col = sc_cl@colors[ sc_cl@mc[ colnames(IM)]]); box()\n",
    "    par(fig = c(0.9,1,0.3,0.7), new=T, mar = c(0.5,3,0.5,0.5))\n",
    "    image(y = seq(min(IM), max(IM), length.out = length(grad)), t(seq_along(grad)), col=grad, axes=F)\n",
    "    axis(2,las=2)\n",
    "    box()\n",
    "}\n",
    "\n",
    "#p()\n",
    "\n",
    "pdf(paste0(outdir, \"/activation_genes_sc_heatmap.pdf\"), height=10, width=10, useDingbats = F)\n",
    "p(IM)\n",
    "dev.off()\n",
    "\n",
    "IM = IM / apply(IM, 1, quantile, 0.999)\n",
    "IM = pmin(IM, 1)\n",
    "\n",
    "pdf(paste0(outdir, \"/activation_genes_sc_heatmap_row_norm.pdf\"), height=10, width=10, useDingbats = F)\n",
    "p(IM)\n",
    "dev.off()\n",
    "#p()\n",
    "#png(paste0(outdir, \"/activation_genes_sc_heatmap.png\"), height=max(2000, nrow(IM) * 12), width=1000)\n",
    "#p()\n",
    "#dev.off()"
   ]
  },
  {
   "cell_type": "code",
   "execution_count": null,
   "id": "db82999d",
   "metadata": {},
   "outputs": [],
   "source": [
    "comb2 = interaction(factor(cell_stats$treatment, levels = c(\"no_cyto\", \"IL4+IL13\")), \n",
    "                    cell_stats$amp_batch_id); names(comb2) = rownames(cell_stats)\n",
    "comb2 = factor(comb2, levels = names(which(table(comb2[ tuft_cells]) > 0)))\n",
    "names(comb2) = rownames(cell_stats)\n",
    "table(comb2[ tuft_cells])\n",
    "\n",
    "\n",
    "pdf(paste0(outdir, \"/activation_genes_by_batch.pdf\"), height=7, width=21, useDingbats = F)\n",
    "par(mfrow = c(1,3), mar = c(0.5, 10, 3, 0.5))\n",
    "for (c in names(table(comb2[ tuft_cells]))) {\n",
    "    sub_cells = intersect(colnames(IM), names(comb2)[comb2 == c])\n",
    "    image.2(IM[, sub_cells],\n",
    "            b=F, vct=vct[ sub_cells], col=grad, annotate=\"rows\"); box()\n",
    "    title(paste0(c, \" (\", length(sub_cells), \" cells)\"))\n",
    "}\n",
    "dev.off()\n"
   ]
  },
  {
   "cell_type": "code",
   "execution_count": null,
   "id": "9fef8d13",
   "metadata": {},
   "outputs": [],
   "source": [
    "c"
   ]
  },
  {
   "cell_type": "code",
   "execution_count": null,
   "id": "8f39ebc0",
   "metadata": {},
   "outputs": [],
   "source": [
    "x = rowSums(umis[ rownames(Z), tuft_cells]); y = Z2[,\"Tuft-4\"]\n",
    "\n",
    "plot(x,y, log=\"x\", pch=20, col = alpha(\"black\", 0.5))\n",
    "points(x[ disp_genes], y[disp_genes], pch = 20, col = \"red\", cex = 1.5)"
   ]
  },
  {
   "cell_type": "code",
   "execution_count": null,
   "id": "bb0e3ac3",
   "metadata": {},
   "outputs": [],
   "source": [
    "head(sort(y,T), 50)"
   ]
  },
  {
   "cell_type": "code",
   "execution_count": null,
   "id": "00771eb8",
   "metadata": {},
   "outputs": [],
   "source": [
    "treatment = as.vector(cell_stats$treatment); names(treatment) = rownames(cell_stats)\n",
    "table(treatment)"
   ]
  },
  {
   "cell_type": "code",
   "execution_count": null,
   "id": "03d11bdd",
   "metadata": {},
   "outputs": [],
   "source": [
    "#disp_genes = names(hct)[hct %in% c(\"tufts_RGS13\", \"tuft_cc\", \"tufts_ALOX5AP_activated\")]\n",
    "\n",
    "grad = colorRampPalette(c(\"white\", brewer.pal(9, \"YlOrBr\")))(1000)\n",
    "IM = log(1 + 7 * umis_n[ disp_genes, intersect(tuft_cells, names(which(treatment == \"no_cyto\")))])\n",
    "dim(IM)\n",
    "\n",
    "vct = factor(sc_names[colnames(IM)], levels = lin_ord); names(vct) = colnames(IM)\n",
    "good_pops = paste0(\"Tuft-\", 1:4) #names(which(table(vct) > 0))\n",
    "IM = IM[, vct[colnames(IM)] %in% good_pops]\n",
    "vct = factor(vct[ colnames(IM)], levels = good_pops); names(vct) = colnames(IM)\n",
    "IM = IM[,names(sort(vct[ colnames(IM)]))]; \n",
    "IM = IM[ order(max.col(Z[ rownames(IM),])),]\n",
    "p = function() {\n",
    "    par(mar = c(0.5, 10, 0.5, 0.5), fig = c(0,0.9,0.1,1))\n",
    "    image.2(IM, b=F, vct=vct[ colnames(IM)], col=grad, annotate=\"rows\"); box()\n",
    "    par(fig = c(0,0.9,0,0.1), new=T)\n",
    "    image(matrix(seq_along(colnames(IM))), axes=F, col = sc_cl@colors[ sc_cl@mc[ colnames(IM)]]); box()\n",
    "    par(fig = c(0.9,1,0.3,0.7), new=T, mar = c(0.5,3,0.5,0.5))\n",
    "    image(y = seq(min(IM), max(IM), length.out = length(grad)), t(seq_along(grad)), col=grad, axes=F)\n",
    "    axis(2,las=2)\n",
    "    box()\n",
    "}\n",
    "\n",
    "apply(IM,1,max)\n",
    "#p()\n",
    "\n",
    "#pdf(paste0(outdir, \"/activation_genes_sc_heatmap.pdf\"), height=10, width=10, useDingbats = F)\n",
    "#p()\n",
    "#dev.off()\n",
    "\n",
    "IM = IM[ apply(IM,1,max) > 0,]\n",
    "IM = IM / apply(IM, 1, quantile, 0.999)\n",
    "IM = pmin(IM, 1)\n",
    "\n",
    "pdf(paste0(outdir, \"/activation_genes_naive.pdf\"), height=10, width=10, useDingbats = F)\n",
    "p()\n",
    "dev.off()\n",
    "\n",
    "#png(paste0(outdir, \"/activation_genes_sc_heatmap.png\"), height=max(2000, nrow(IM) * 12), width=1000)\n",
    "#p()\n",
    "#dev.off()"
   ]
  },
  {
   "cell_type": "code",
   "execution_count": null,
   "id": "2ad2fcb7",
   "metadata": {},
   "outputs": [],
   "source": [
    "#disp_genes = names(hct)[hct %in% c(\"tufts_RGS13\", \"tuft_cc\", \"tufts_ALOX5AP_activated\")]\n",
    "\n",
    "grad = colorRampPalette(c(\"white\", brewer.pal(9, \"YlOrBr\")))(1000)\n",
    "IM = log(1 + 7 * umis_n[ disp_genes, setdiff(tuft_cells, names(which(treatment == \"no_cyto\")))])\n",
    "dim(IM)\n",
    "\n",
    "vct = factor(sc_names[colnames(IM)], levels = lin_ord); names(vct) = colnames(IM)\n",
    "good_pops = paste0(\"Tuft-\", 1:4) #names(which(table(vct) > 0))\n",
    "IM = IM[, vct[colnames(IM)] %in% good_pops]\n",
    "vct = factor(vct[ colnames(IM)], levels = good_pops); names(vct) = colnames(IM)\n",
    "IM = IM[,names(sort(vct[ colnames(IM)]))]; \n",
    "IM = IM[ order(max.col(Z[ rownames(IM),])),]\n",
    "p = function() {\n",
    "    par(mar = c(0.5, 10, 0.5, 0.5), fig = c(0,0.9,0.1,1))\n",
    "    image.2(IM, b=F, vct=vct[ colnames(IM)], col=grad, annotate=\"rows\"); box()\n",
    "    par(fig = c(0,0.9,0,0.1), new=T)\n",
    "    image(matrix(seq_along(colnames(IM))), axes=F, col = sc_cl@colors[ sc_cl@mc[ colnames(IM)]]); box()\n",
    "    par(fig = c(0.9,1,0.3,0.7), new=T, mar = c(0.5,3,0.5,0.5))\n",
    "    image(y = seq(min(IM), max(IM), length.out = length(grad)), t(seq_along(grad)), col=grad, axes=F)\n",
    "    axis(2,las=2)\n",
    "    box()\n",
    "}\n",
    "\n",
    "apply(IM,1,max)\n",
    "#p()\n",
    "\n",
    "#pdf(paste0(outdir, \"/activation_genes_sc_heatmap.pdf\"), height=10, width=10, useDingbats = F)\n",
    "#p()\n",
    "#dev.off()\n",
    "\n",
    "IM = IM[ apply(IM,1,max) > 0,]\n",
    "IM = IM / apply(IM, 1, quantile, 0.999)\n",
    "IM = pmin(IM, 1)\n",
    "\n",
    "pdf(paste0(outdir, \"/activation_genes_treated.pdf\"), height=10, width=10, useDingbats = F)\n",
    "p()\n",
    "dev.off()\n",
    "\n",
    "#png(paste0(outdir, \"/activation_genes_sc_heatmap.png\"), height=max(2000, nrow(IM) * 12), width=1000)\n",
    "#p()\n",
    "#dev.off()"
   ]
  },
  {
   "cell_type": "code",
   "execution_count": null,
   "id": "7bb06c81",
   "metadata": {},
   "outputs": [],
   "source": [
    "foc = log(1 + 7 * umis_n)\n",
    "modules = t(apply(foc[ good_genes, sample(tuft_cells)], 2, tapply, gene_anno[ good_genes], sum))"
   ]
  },
  {
   "cell_type": "code",
   "execution_count": null,
   "id": "d4beaf01",
   "metadata": {},
   "outputs": [],
   "source": [
    "pdf(paste0(outdir, \"/modules_col_by_group.pdf\"), height=10, width=10)\n",
    "pairs(modules, pch = 21, bg = sc_cl@colors[ sc_cl@mc[ rownames(modules)]], cex = 1.5)\n",
    "dev.off()\n",
    "\n",
    "pdf(paste0(outdir, \"/modules_col_by_treat.pdf\"), height=10, width=10)\n",
    "pairs(modules, pch = 21, bg = cols[ 3 + (treatment[ rownames(modules)] == \"no_cyto\")], cex = 1.5)\n",
    "dev.off()"
   ]
  },
  {
   "cell_type": "code",
   "execution_count": null,
   "id": "88df9ffe",
   "metadata": {},
   "outputs": [],
   "source": [
    "table(treatment)"
   ]
  },
  {
   "cell_type": "code",
   "execution_count": null,
   "id": "bece7867",
   "metadata": {},
   "outputs": [],
   "source": [
    "comb = paste0(sc_names[ rownames(modules)], \"@\", treatment[ rownames(modules)])\n",
    "names(comb) = rownames(modules)\n",
    "\n",
    "pdf(paste0(outdir, \"/modules_violins.pdf\"))\n",
    "par(mar = c(10,3,3,1))\n",
    "for (c in names(table(colnames(modules)))) {\n",
    "    plot_density_points(modules[,c], comb[ rownames(modules)], with_box = T, las=2, col_by = \"vector\",\n",
    "                    col_vec = sc_cl@colors[ sc_cl@mc[ rownames(modules)]])\n",
    "    title(c)    \n",
    "}\n",
    "dev.off()"
   ]
  },
  {
   "cell_type": "code",
   "execution_count": null,
   "id": "38c85791",
   "metadata": {},
   "outputs": [],
   "source": [
    "args(plot_density_points)"
   ]
  },
  {
   "cell_type": "code",
   "execution_count": null,
   "id": "b163ec3f",
   "metadata": {},
   "outputs": [],
   "source": [
    "m[\"CD274\", colnames(Z)]\n",
    "Z[\"CD274\", colnames(Z)]\n",
    "Z[ rownames(IM)]"
   ]
  },
  {
   "cell_type": "markdown",
   "id": "e34d636d",
   "metadata": {},
   "source": [
    "IM2 = pmin(IM / apply(IM,1,quantile, 0.99), 1.2)\n",
    "\n",
    "p = function() {\n",
    "    par(mar = c(1, 10, 10, 10))\n",
    "    image.2(IM2, b=F, vct=vct[ colnames(IM)], hct = hct[ rownames(IM)], col=grad)\n",
    "}\n",
    "\n",
    "p()\n",
    "\n",
    "pdf(paste0(outdir, \"/activation_genes_sc_heatmap_row_norm.pdf\"), height=10, width=10, useDingbats = F)\n",
    "p()\n",
    "dev.off()"
   ]
  },
  {
   "cell_type": "markdown",
   "id": "d902e8cc",
   "metadata": {},
   "source": [
    "Perform GO enrichment analysis on gene_anno"
   ]
  },
  {
   "cell_type": "code",
   "execution_count": null,
   "id": "97c0da4f",
   "metadata": {
    "scrolled": true
   },
   "outputs": [],
   "source": [
    "double_within = within_genes[shared,] == 1 & Z2[ shared, colnames(within_genes)] > 0.5\n",
    "colSums(double_within)\n",
    "table(rowSums(double_within))"
   ]
  },
  {
   "cell_type": "code",
   "execution_count": null,
   "id": "a9aba163",
   "metadata": {},
   "outputs": [],
   "source": [
    "double_within = double_within[ rowSums(double_within) == 1,]\n",
    "genes = union(rownames(double_within), core_genes)\n",
    "gene_anno = rep(\"Core\", length(genes)); names(gene_anno) = genes\n",
    "gene_anno[ rownames(double_within)] = colnames(double_within)[ max.col(double_within)]\n",
    "table(gene_anno)"
   ]
  },
  {
   "cell_type": "code",
   "execution_count": null,
   "id": "3ad70138",
   "metadata": {},
   "outputs": [],
   "source": [
    "#names(gen)\n",
    "df = data.frame(gene_anno = gene_anno)\n",
    "head(df)\n",
    "table(df$gene_anno)"
   ]
  },
  {
   "cell_type": "code",
   "execution_count": null,
   "id": "13d8a09d",
   "metadata": {},
   "outputs": [],
   "source": [
    "modules = t(apply(foc[ good_genes, ], 2, tapply, gene_anno[ good_genes], sum))\n",
    "dim(modules)"
   ]
  },
  {
   "cell_type": "code",
   "execution_count": null,
   "id": "6612c7f4",
   "metadata": {
    "scrolled": false
   },
   "outputs": [],
   "source": [
    "grad = colorRampPalette(c(\"white\", brewer.pal(9, \"YlGnBu\")))(101)\n",
    "for (c in colnames(modules)){ \n",
    "    vals = modules[,c]\n",
    "    val_n = round( (vals - min(vals)) / (max(vals) - min(vals)) * 100) + 1\n",
    "    plot(sc_2d@sc_x, sc_2d@sc_y, pch = 21, bg = grad[val_n[ names(sc_2d@sc_x)]], main = c)\n",
    "}\n"
   ]
  },
  {
   "cell_type": "code",
   "execution_count": null,
   "id": "999aed54",
   "metadata": {},
   "outputs": [],
   "source": [
    "table(gene_anno)\n",
    "df = data.frame(gene_anno, Z2[ names(gene_anno),])\n",
    "write.table(df, sep = \"\\t\", quote=F, col.names = NA, file = paste0(outdir, \"/within_genes_with_anno.txt\"))"
   ]
  },
  {
   "cell_type": "code",
   "execution_count": null,
   "id": "0ae28798",
   "metadata": {},
   "outputs": [],
   "source": [
    "p = function() {\n",
    "    X = apply(double_within[ rowSums(double_within) > 0,], 1, function(x) paste0(colnames(double_within)[ x], collapse = \",\"))\n",
    "    Y = sort(table(X), T)\n",
    "\n",
    "    par (mar = c(1, 15, 1, 1), fig = c(0,1,0.25,1))          \n",
    "    coords = barplot(Y, names.arg = rep(\"\", length(Y)), las=2, xaxs=\"i\")\n",
    "\n",
    "    Z = strsplit(names(Y), \",\")\n",
    "    names(Z) = paste0(seq_along(Z), \"@\")\n",
    "    Z = unlist(Z)\n",
    "    X = t(table(vecsplit(names(Z), \"@\", 1), factor(Z, levels = tuft_pops)))\n",
    "\n",
    "    par(fig = c(0,1,0,0.25), new=T)  \n",
    "    hmed = seq(0, 1, length.out = nrow(X))\n",
    "    vmed = seq(min(coords), max(coords), length.out = ncol(X))\n",
    "    cex_val = X * 3\n",
    "    #col = c(\"gray80\", \"gray20\")[ col_val]\n",
    "    plot(rep(vmed, each = nrow(X)), rep(hmed, ncol(X)), pch = 20, \n",
    "        col = \"black\", cex = cex_val, axes = F, xlab = \"\", ylab = \"\",# xaxs=\"i\",\n",
    "        xlim = quantile(coords, c(0,1)), ylim = c(-0.1, 1.1))\n",
    "    axis(2, at = hmed, labels = rownames(X), las = 2)\n",
    "\n",
    "    invisible(sapply(as.numeric(colnames(X)), function(x) lines(rep(vmed[x], sum(X[,x])), hmed[which(X[,x] == 1)]))) \n",
    "}\n",
    "                     \n",
    "p()\n",
    "                     \n",
    "#pdf(paste0(outdir, \"/venn.pdf\"), height=7, width=7)\n",
    "#p()\n",
    "#dev.off()\n"
   ]
  },
  {
   "cell_type": "code",
   "execution_count": null,
   "id": "d91ee749",
   "metadata": {
    "scrolled": true
   },
   "outputs": [],
   "source": [
    "table(gene_anno)"
   ]
  },
  {
   "cell_type": "markdown",
   "id": "db7c3d5d",
   "metadata": {},
   "source": [
    "## Batch effect"
   ]
  },
  {
   "cell_type": "code",
   "execution_count": null,
   "id": "46fb0684",
   "metadata": {},
   "outputs": [],
   "source": [
    "new_id = \"ileum_organoids_rev\"\n",
    "new_mat = scdb_mat(new_id)\n",
    "new_cl = scdb_mc(paste0(new_id, \"_f\"))\n",
    "table(new_cl@mc)\n",
    "new_stats = new_mat@cell_metadata\n",
    "table(new_stats[ new_mat@cells, \"plate\"])"
   ]
  },
  {
   "cell_type": "code",
   "execution_count": null,
   "id": "dcae2d24",
   "metadata": {},
   "outputs": [],
   "source": [
    "new_mat@ncells"
   ]
  },
  {
   "cell_type": "code",
   "execution_count": null,
   "id": "71cfb361",
   "metadata": {},
   "outputs": [],
   "source": [
    "#\n",
    "new_cells = intersect(new_mat@cells, rownames(new_stats)[ new_stats$plate %in% c(\"HUB.LH.s021\", \"HUB.LH.s022\")])\n",
    "new_umis = read_large_umis(new_id, cells = new_cells)\n",
    "dim(new_umis)\n",
    "dim(umis)"
   ]
  },
  {
   "cell_type": "code",
   "execution_count": null,
   "id": "e7d904db",
   "metadata": {},
   "outputs": [],
   "source": [
    "markers = names(scdb_gset(id)@gene_set)\n",
    "shared_markers = intersect(rownames(new_umis), markers)\n",
    "length(shared_markers)"
   ]
  },
  {
   "cell_type": "code",
   "execution_count": null,
   "id": "bfdcfa02",
   "metadata": {},
   "outputs": [],
   "source": [
    "dim(foc)"
   ]
  },
  {
   "cell_type": "code",
   "execution_count": null,
   "id": "f143069f",
   "metadata": {},
   "outputs": [],
   "source": [
    "core_genes = rownames(df)[ df$gene_anno == \"Core\"]\n",
    "core_genes\n",
    "\n",
    "score = colSums(foc[ core_genes,])\n",
    "boxplot(score ~ sc_cl@mc[ colnames(foc)], col = sc_cl@colors)"
   ]
  },
  {
   "cell_type": "code",
   "execution_count": null,
   "id": "50c39098",
   "metadata": {},
   "outputs": [],
   "source": [
    "new_n = sweep(new_umis, 2, colSums(new_umis), \"/\") * 1000\n",
    "new_foc = log(1 + 7 * new_n)"
   ]
  },
  {
   "cell_type": "code",
   "execution_count": null,
   "id": "d2867ab9",
   "metadata": {},
   "outputs": [],
   "source": [
    "new_score = colSums(new_foc[ core_genes,]) \n",
    "boxplot(new_score ~ new_cl@mc[ colnames(new_foc)], col = new_cl@colors)"
   ]
  },
  {
   "cell_type": "code",
   "execution_count": null,
   "id": "80a4206f",
   "metadata": {},
   "outputs": [],
   "source": [
    "head(new_stats)"
   ]
  },
  {
   "cell_type": "code",
   "execution_count": null,
   "id": "cd1a878e",
   "metadata": {
    "scrolled": true
   },
   "outputs": [],
   "source": [
    "plot(colSums(umis), score, log = \"x\", pch = 21, bg = sc_cl@colors[ sc_cl@mc[ colnames(umis)]]); abline(h = 90)\n",
    "plot(colSums(umis), score, log = \"x\", pch = 21, bg = 2 + (cell_stats[ names(score), \"gating\"] == \"AVIL-Clover+\")); abline(h = 90)\n",
    "plot(colSums(new_umis), new_score, log = \"x\", pch = 21, bg = new_cl@colors[ new_cl@mc[ colnames(new_umis)]]); abline(h = 90)\n",
    "plot(colSums(new_umis), new_score, log = \"x\", pch = 21, bg = 2 + (new_stats[ names(new_score), \"gating\"] == \"AVIL-Clover+\")); abline(h = 90)"
   ]
  },
  {
   "cell_type": "markdown",
   "id": "3d348b54",
   "metadata": {
    "scrolled": true
   },
   "source": [
    "plate_facs = unique(read.delim(\"indexing/organoids_rev_plate_facs.txt\", stringsAsFactors = F))\n",
    "rownames(plate_facs) = plate_facs$well_id\n",
    "dim(plate_facs)\n",
    "head(plate_facs)\n"
   ]
  },
  {
   "cell_type": "markdown",
   "id": "2edb4bc1",
   "metadata": {},
   "source": [
    "shared_cells = intersect(rownames(plate_facs), new_cells)\n",
    "length(shared_cells)\n",
    "\n",
    "plate_facs = plate_facs[ shared_cells,]"
   ]
  },
  {
   "cell_type": "markdown",
   "id": "2bf2b9cd",
   "metadata": {},
   "source": [
    "plate_facs$umicount = colSums(new_umis[, shared_cells])\n",
    "plate_facs$score = new_score[shared_cells]\n",
    "plate_facs$plate = new_stats[ shared_cells, \"plate\"]"
   ]
  },
  {
   "cell_type": "markdown",
   "id": "c324f51a",
   "metadata": {
    "scrolled": false
   },
   "source": [
    "with(plate_facs, plot(Mean.FSC.A, Mean.SSC.A, pch = 21, bg = 2 + (umicount > 8e3)))\n",
    "with(plate_facs, plot(Mean.FSC.A, Mean.FSC.H, pch = 21, bg = 2 + (umicount > 8e3)))\n",
    "with(plate_facs, plot(Mean.FSC.A, Mean.DAPI..405..450.45.A, log=\"y\", pch = 21, bg = 2 + (umicount > 8e3)))"
   ]
  },
  {
   "cell_type": "markdown",
   "id": "9f9ad303",
   "metadata": {},
   "source": [
    "plot(colSums(new_umis), new_score, log = \"x\", pch = 21, bg = 2 + (new_stats[ names(new_score), \"plate\"] == \"HUB.LH.s021\")); abline(h = 90)"
   ]
  },
  {
   "cell_type": "markdown",
   "id": "eec0fcf8",
   "metadata": {},
   "source": [
    "write.table(colnames(plate_facs))"
   ]
  },
  {
   "cell_type": "markdown",
   "id": "df12a2e7",
   "metadata": {
    "scrolled": true
   },
   "source": [
    "with(plate_facs, plot(Mean.FSC.A, Mean.tdTomato..561..585.42.A, log = \"xy\", pch = 21, bg = 2 + (score > 90)))\n",
    "abline(v = 8e5, h = c(3e3, 1e4))\n",
    "with(plate_facs, plot(Mean.FSC.A, Mean.DAPI..405..450.45.A, log = \"y\", pch = 21, bg = 2 + (score > 90)))\n",
    "with(plate_facs, plot(Mean.Clover..488..525.40.A, Mean.tdTomato..561..585.42.A, log = \"xy\", pch = 21, bg = 2 + (score > 90)))\n",
    "with(plate_facs, plot(Mean.Clover..488..525.40.A, Mean.mCherry..561..610.20.A, log = \"xy\", pch = 21, bg = 2 + (score > 90)))"
   ]
  },
  {
   "cell_type": "markdown",
   "id": "d4d20dba",
   "metadata": {
    "scrolled": false
   },
   "source": [
    "with(plate_facs, plot(Mean.tdTomato..561..585.42.A, Mean.mCherry..561..610.20.A, log = \"xy\", pch = 21, bg = 2 + (umicount > 8e3)))\n",
    "abline(v = 3e3)\n"
   ]
  },
  {
   "cell_type": "markdown",
   "id": "4211a7d4",
   "metadata": {},
   "source": [
    "comb2 = paste0(ifelse(new_score[ shared_cells] > 80, \"Tuft@\", \"no-tuft@\"), \n",
    "              ifelse(plate_facs$Mean.tdTomato..561..585.42.A > 3e3, \"Pos\", \"Neg\"))\n",
    "names(comb2) = shared_cells\n",
    "table(comb2)\n",
    "#table(new_umis[\"AVIL\",])"
   ]
  },
  {
   "cell_type": "markdown",
   "id": "0b1411b7",
   "metadata": {},
   "source": [
    "X = table(comb2, new_umis[\"AVIL\", shared_cells] > 1)\n",
    "X / rowSums(X)"
   ]
  },
  {
   "cell_type": "markdown",
   "id": "e8a4eb0c",
   "metadata": {},
   "source": [
    "#plate_facs$bad = !is.na(plate_facs$Mean.tdTomato..561..585.42.A) & plate_facs$Mean.tdTomato..561..585.42.A < 1e4 & plate_facs$Mean.tdTomato..561..585.42.A > 3e3\n",
    "plate_facs$bad = plate_facs$umicount > 7e3; #is.na(plate_facs$Mean.mCherry..561..610.20.A)\n",
    "table(new_stats[ shared_cells, \"plate\"], plate_facs$bad)\n",
    "\n",
    "filtered_cells = rownames(plate_facs)[ !plate_facs$bad]\n",
    "length(filtered_cells)"
   ]
  },
  {
   "cell_type": "code",
   "execution_count": null,
   "id": "8ef99cb4",
   "metadata": {},
   "outputs": [],
   "source": [
    "new_tufts = names(which(new_score > 90))\n",
    "length(new_tufts)"
   ]
  },
  {
   "cell_type": "code",
   "execution_count": null,
   "id": "d37e5391",
   "metadata": {},
   "outputs": [],
   "source": [
    "shared_genes = intersect(rownames(umis), rownames(new_umis))\n",
    "shared_umis = as.matrix(cbind(umis[shared_genes,], new_umis[shared_genes,new_tufts]))\n",
    "new_clusts = proj_sc_on_clusts(shared_umis, new_tufts, tuft_cells, sc_cl@mc[ tuft_cells], markers = shared_markers)\n",
    "table(new_clusts)"
   ]
  },
  {
   "cell_type": "markdown",
   "id": "4ffbb6a2",
   "metadata": {},
   "source": [
    "plot(colSums(new_umis[,filtered_cells]), new_score[filtered_cells], log = \"x\", pch = 21, bg = sc_cl@colors[ new_clusts[ filtered_cells]]); abline(h = 90)\n",
    "abline(v = 7000)"
   ]
  },
  {
   "cell_type": "code",
   "execution_count": null,
   "id": "a061403d",
   "metadata": {},
   "outputs": [],
   "source": [
    "#head(new_stats)\n",
    "new_comb = with(new_stats[ filtered_cells,], paste0(\"New:\", gating, \"@\", treatment)); names(new_comb) = filtered_cells\n",
    "comb = with(cell_stats, paste0(\"Old:\", gating, \"@\", treatment)); names(comb) = rownames(cell_stats)"
   ]
  },
  {
   "cell_type": "code",
   "execution_count": null,
   "id": "177ddc1a",
   "metadata": {},
   "outputs": [],
   "source": [
    "tuft_mc"
   ]
  },
  {
   "cell_type": "markdown",
   "id": "d8c9c34a",
   "metadata": {},
   "source": [
    "summarize.table(table(c(comb, new_comb), color2name[ sc_cl@colors[c(sc_cl@mc, new_clusts)]]))"
   ]
  },
  {
   "cell_type": "code",
   "execution_count": null,
   "id": "6a247903",
   "metadata": {},
   "outputs": [],
   "source": [
    "plot(colSums(new_umis[,filtered_cells]), new_score[filtered_cells], log = \"x\", pch = 21, bg = 2 + (new_comb == \"New:AVIL-Clover+@no_cyto\")); abline(h = 90)"
   ]
  },
  {
   "cell_type": "markdown",
   "id": "d0f24438",
   "metadata": {},
   "source": [
    "tuft_freq = tapply(c(sc_cl@mc, new_clusts) %in% tuft_mc, c(comb, new_comb), mean)\n",
    "tuft_freq"
   ]
  },
  {
   "cell_type": "markdown",
   "id": "a4e44fc3",
   "metadata": {},
   "source": [
    "table(new_comb)"
   ]
  },
  {
   "cell_type": "code",
   "execution_count": null,
   "id": "4c481904",
   "metadata": {},
   "outputs": [],
   "source": [
    "#head(new_stats)\n",
    "#head(new_clusts)\n",
    "new_dist = table(new_stats[ new_tufts, \"treatment\"], color2name[ sc_cl@colors[ new_clusts[ new_tufts]]])\n",
    "new_dist_n = new_dist / rowSums(new_dist)\n",
    "\n",
    "barplot(t(new_dist_n), col = name2color[ colnames(new_dist_n)])"
   ]
  },
  {
   "cell_type": "code",
   "execution_count": null,
   "id": "6fe7c08d",
   "metadata": {},
   "outputs": [],
   "source": [
    "new_dist = as.matrix(table(factor(new_stats[ new_tufts, \"treatment\"], levels = c(\"no_cyto\", \"IL4+IL13\")), \n",
    "                 color2name[ sc_cl@colors[ new_clusts]])[,tuft_pops])\n",
    "new_dist = new_dist[, intersect(lin_ord, colnames(new_dist))]\n",
    "rownames(new_dist) = paste0(\"New@\", rownames(new_dist))\n",
    "summarize.table(new_dist)\n",
    "new_dist"
   ]
  },
  {
   "cell_type": "code",
   "execution_count": null,
   "id": "547574ae",
   "metadata": {},
   "outputs": [],
   "source": [
    "old_dist = as.matrix(table(factor(cell_stats[ tuft_cells, \"treatment\"], levels = c(\"no_cyto\", \"IL4+IL13\")),\n",
    "                sc_names[ tuft_cells]))\n",
    "old_dist = old_dist[, intersect(lin_ord, colnames(old_dist))]\n",
    "rownames(old_dist) = paste0(\"Old@\", rownames(old_dist))\n",
    "summarize.table(old_dist)\n",
    "old_dist"
   ]
  },
  {
   "cell_type": "code",
   "execution_count": null,
   "id": "23f04ea9",
   "metadata": {},
   "outputs": [],
   "source": [
    "tenx_dist = as.matrix(read.delim(\"figures/figure4_rev/sample_dist.txt\", stringsAsFactors = F, row.names = 1))\n",
    "rownames(tenx_dist) = c(\"10x@no_cyto\", \"10x@IL4+IL13\")\n",
    "colnames(tenx_dist) = colnames(old_dist)\n",
    "summarize.table(tenx_dist)\n",
    "tenx_dist"
   ]
  },
  {
   "cell_type": "code",
   "execution_count": null,
   "id": "44e6de9f",
   "metadata": {},
   "outputs": [],
   "source": [
    "sample_dist = rbind(old_dist, new_dist, tenx_dist)\n",
    "sample_dist = sample_dist[ rowSums(sample_dist) > 20,]\n",
    "#sample_dist = sample_dist[c(1,2,NA,3,4,NA,5),]\n",
    "sample_dist"
   ]
  },
  {
   "cell_type": "code",
   "execution_count": null,
   "id": "b117a72b",
   "metadata": {},
   "outputs": [],
   "source": [
    "dist_n = sample_dist / rowSums(sample_dist)\n",
    "\n",
    "\n",
    "bconf = sapply(colnames(sample_dist), function(c)\n",
    "    binconf(sample_dist[,c], rowSums(sample_dist))) * 100\n",
    "\n",
    "idx = c(1,2,NA,3,4,NA,5,NA)               \n",
    "pointEst = bconf[idx,]; dimnames(pointEst) = dimnames(sample_dist[idx,])\n",
    "lower = bconf[idx + 5,]\n",
    "upper = bconf[idx + 10,]\n"
   ]
  },
  {
   "cell_type": "code",
   "execution_count": null,
   "id": "e733dc98",
   "metadata": {},
   "outputs": [],
   "source": [
    "pointEst"
   ]
  },
  {
   "cell_type": "code",
   "execution_count": null,
   "id": "2f5518c5",
   "metadata": {
    "scrolled": false
   },
   "outputs": [],
   "source": [
    "#par(mar = c(10,7,3,1))\n",
    "#cols = c(\"antiquewhite\", \"darkorange2\", \"#DCF7DA\", \"#3CDD2F\", \"#3F2FDD\")[c(1,2,NA,3,4,NA,5,NA)]\n",
    "cols = c(\"antiquewhite\", \"darkorange2\", \"#DCF7DA\", \"#3CDD2F\", \"#3F2FDD\")[c(1,2,NA,1,2,NA,1,NA)]\n",
    "p = function(){\n",
    "    coords = barplot(pointEst, beside=T, axes = F, ylab = \"Cell frequency\", ylim = c(0, 1.05 * max(upper, na.rm = T)),\n",
    "        col = cols, names.arg = rep(\"\", ncol(pointEst)))\n",
    "    dimnames(coords) = dimnames(pointEst)\n",
    "    axis(2, las = 2)\n",
    "    segments(coords, lower, y1 = upper)\n",
    "    segments(coords - 0.2, lower, coords + 0.2)\n",
    "    segments(coords - 0.2, upper, coords + 0.2)\n",
    "    at = apply(coords,2,tapply, vecsplit(rownames(coords), \"@\", 1), mean)\n",
    "    at = at[ setdiff(rownames(at), \"NA\"),]\n",
    "    rownames(at) = paste0(\"Exp\", 3:1)\n",
    "    axis(1, las = 2, at = at, labels = rep(rownames(at), ncol(at)))\n",
    "    \n",
    "    #coords\n",
    "}\n",
    "\n",
    "coords = p()\n",
    "pdf(paste0(outdir, \"/sample_dist_errorbars_ALL.pdf\"), useDingbats = F, height=5, width=7)\n",
    "p()\n",
    "dev.off()\n",
    "\n"
   ]
  },
  {
   "cell_type": "code",
   "execution_count": null,
   "id": "a627d0b2",
   "metadata": {},
   "outputs": [],
   "source": [
    "coords\n",
    "at = apply(coords,2,tapply, vecsplit(rownames(coords), \"@\", 1), mean)\n",
    "at = at[ setdiff(rownames(at), \"NA\"),]\n",
    "c(at)\n",
    "at"
   ]
  },
  {
   "cell_type": "code",
   "execution_count": null,
   "id": "3166ef1d",
   "metadata": {},
   "outputs": [],
   "source": [
    "disp_genes"
   ]
  },
  {
   "cell_type": "code",
   "execution_count": null,
   "id": "c859cdb3",
   "metadata": {},
   "outputs": [],
   "source": [
    "grad = colorRampPalette(c(\"white\", brewer.pal(9, \"YlOrBr\")))(1000)\n",
    "vct = color2name[ sc_cl@colors[ new_clusts]]; names(vct) = names(new_clusts)\n",
    "new_tufts_only = names(vct)[ vct %in% tuft_pops]\n",
    "\n",
    "p = function( cells) {\n",
    "    IM = new_foc[ disp_genes, cells]\n",
    "    IM = IM[,names(sort(vct[ colnames(IM)]))]; \n",
    "    IM = IM[ order(max.col(Z[ rownames(IM),]), -rowSums(new_umis[ rownames(IM), new_tufts_only])),]\n",
    "    par(mar = c(0.5, 10, 0.5, 0.5), fig = c(0,0.9,0.1,1))\n",
    "    image.2(IM, b=F, vct=vct[ colnames(IM)], col=grad, annotate=\"rows\"); box()\n",
    "    par(fig = c(0,0.9,0,0.1), new=T)\n",
    "    image(matrix(seq_along(colnames(IM))), axes=F, col = sc_cl@colors[ new_clusts[ colnames(IM)]]); box()\n",
    "    par(fig = c(0.9,1,0.3,0.7), new=T, mar = c(0.5,3,0.5,0.5))\n",
    "    image(y = seq(min(IM), max(IM), length.out = length(grad)), t(seq_along(grad)), col=grad, axes=F)\n",
    "    axis(2,las=2)\n",
    "    box()\n",
    "}\n",
    "\n",
    "pdf(paste0(outdir, \"/new_tufts_by_treatment.pdf\"), height=10, width = 10)\n",
    "p(new_tufts_only)\n",
    "#p(intersect(new_tufts_only, rownames(new_stats)[ new_stats$treatment != \"no_cyto\"]))\n",
    "dev.off()"
   ]
  },
  {
   "cell_type": "code",
   "execution_count": null,
   "id": "abe14f08",
   "metadata": {},
   "outputs": [],
   "source": [
    "length(new_tufts_only)"
   ]
  },
  {
   "cell_type": "code",
   "execution_count": null,
   "id": "fe1a5d48",
   "metadata": {},
   "outputs": [],
   "source": [
    "tuft_pops"
   ]
  },
  {
   "cell_type": "code",
   "execution_count": null,
   "id": "b8b63248",
   "metadata": {},
   "outputs": [],
   "source": [
    "go_df = NULL\n",
    "for (c in colnames(double_genes)) { #names(table(df$gene_anno))) {\n",
    "    #genes = rownames(df)[ df$gene_anno == c]\n",
    "    genes = names(which(double_genes[,c]))\n",
    "    message(\"Annotation: \", c, \" (\", length(genes), \" genes)\")\n",
    "    vec = convert2EntrezID(genes, \"org.Hs.eg.db\", ID_type=\"gene_symbol\")\n",
    "    gg_bp <- enrichGO(vec, OrgDb = \"org.Hs.eg.db\", pvalueCutoff=0.05, pAdjustMethod=\"BH\", qvalueCutoff=0.2, readable=TRUE, ont= c(\"BP\"))\n",
    "    gg_mf <- enrichGO(vec, OrgDb = \"org.Hs.eg.db\", pvalueCutoff=0.05, pAdjustMethod=\"BH\", qvalueCutoff=0.2, readable=TRUE, ont= c(\"MF\"))\n",
    "    Y = rbind(cbind(gg_bp@result, ont = \"BP\"), cbind(gg_mf@result, ont = \"MF\"))\n",
    "    Y_genes = sapply(Y[,8], strsplit, \"/\")\n",
    "    l = unlist(lapply(Y_genes, length))\n",
    "    go_df = rbind(go_df, data.frame(gene = unlist(Y_genes), module = rep(Y$Description, l), \n",
    "        pval = rep(Y$p.adjust, l), length = rep(l, l), ID = rep(Y$ID, l), ont = rep(Y$ont, l), c=c))\n",
    "}\n",
    "head(go_df)\n"
   ]
  },
  {
   "cell_type": "code",
   "execution_count": null,
   "id": "c08372b2",
   "metadata": {},
   "outputs": [],
   "source": [
    "go_df2 = go_df[ go_df$length > 3 & go_df$pval < 0.05,]\n",
    "go_df3 = unique(go_df2[, c(\"c\", \"ID\", \"module\", \"pval\", \"length\")])\n",
    "nrow(go_df3)\n",
    "\n",
    "write.table(go_df3, sep = \"\\t\", quote = F, row.names = F, file = paste0(outdir, \"/go_analysis_filtered.txt\"))\n"
   ]
  },
  {
   "cell_type": "code",
   "execution_count": null,
   "id": "2e185e18",
   "metadata": {},
   "outputs": [],
   "source": [
    "Revigo = read.delim(\"figures//figure3_4/Revigo.tsv\", row.names=1, stringsAsFactors = F)\n",
    "head(Revigo)"
   ]
  },
  {
   "cell_type": "code",
   "execution_count": null,
   "id": "0afceb90",
   "metadata": {},
   "outputs": [],
   "source": [
    "head(Revigo$Eliminated)\n",
    "good_go = rownames(Revigo)[ Revigo$Eliminated == \"False\"]\n",
    "message(length(good_go), \" collpased GO terms\")\n",
    "head(Revigo[good_go,])"
   ]
  },
  {
   "cell_type": "code",
   "execution_count": null,
   "id": "9bef42aa",
   "metadata": {},
   "outputs": [],
   "source": [
    "black_list = c()\n",
    "go_df2 = go_df[ go_df$ID %in% good_go &(!go_df$module %in% black_list),]\n",
    "go_df3 = unique(go_df2[, c(\"c\", \"ID\", \"module\", \"pval\", \"length\")])\n",
    "temp = dcast(go_df3[,c(\"module\", \"c\", \"length\")], module ~ c)\n",
    "go_length = as.matrix(temp[,-1]); rownames(go_length) = temp[,1]\n",
    "go_length = sweep(go_length, 2, table(df$gene_anno), \"/\")\n",
    "temp = dcast(go_df3[,c(\"module\", \"c\", \"pval\")], module ~ c)\n",
    "go_pval = as.matrix(temp[,-1]); rownames(go_pval) = temp[,1]\n",
    "\n",
    "head(go_length)\n",
    "head(go_pval)\n"
   ]
  },
  {
   "cell_type": "code",
   "execution_count": null,
   "id": "e47eb854",
   "metadata": {},
   "outputs": [],
   "source": [
    "grad = colorRampPalette(c(\"white\", brewer.pal(9, \"YlGnBu\")))(101)\n",
    "IM = log(-log10(go_pval))\n",
    "IM = IM[ order(apply(IM,1, which.max), apply(IM,1,max, na.rm=T)),]\n",
    "go_length = go_length[ rownames(IM),]\n",
    "pdf(paste0(outdir, \"/go_analysis.pdf\"), height=70, width=20, useDingbats = F)\n",
    "par(mar = c(5,25,1,1))\n",
    "matplot.2(X = IM, cex_mat = go_length, grad = grad, max_size = 3, grid=T)\n",
    "dev.off()"
   ]
  },
  {
   "cell_type": "markdown",
   "id": "4eadc1c7",
   "metadata": {},
   "source": [
    "head(go_pval[ order(go_pval[,\"tuft_cc\"]),],10)\n",
    "head(go_pval[ order(go_pval[,\"tufts_ALOX5AP_activated\"]),],11)\n",
    "modules = rownames(head(go_pval[ order(go_pval[,\"tufts_ALOX5AP_activated\"]),],11))"
   ]
  },
  {
   "cell_type": "markdown",
   "id": "201fa2b1",
   "metadata": {},
   "source": [
    "X = go_df2[ go_df2$c == \"tufts_ALOX5AP_activated\" & go_df2$module %in% modules,]\n",
    "write.table(X[ order(X$module), c(1,2,4,5)], sep = \"\\t\", quote=F, row.names=F)"
   ]
  },
  {
   "cell_type": "markdown",
   "id": "45ee2a1c",
   "metadata": {},
   "source": [
    "head(go_pval[,\"Core\"])"
   ]
  },
  {
   "cell_type": "code",
   "execution_count": null,
   "id": "4e8cd1ae",
   "metadata": {
    "scrolled": true
   },
   "outputs": [],
   "source": [
    "pvals_l = list()\n",
    "\n",
    "p = function() {\n",
    "    par(mar = c(3, 30, 1, 1))\n",
    "    for (c in colnames(go_pval)) {\n",
    "        pvals = head(sort(go_pval[,c]), 10)\n",
    "        pvals = pvals[ pvals < 0.05]\n",
    "        barplot(-log10(pvals), horiz = T, las = 2, axes=F, col = name2color[c])\n",
    "        title(c); axis(1)\n",
    "        pvals_l[[c]] = cbind(pvals, module = names(pvals), c)\n",
    "    }\n",
    "pvals_l\n",
    "}\n",
    "\n",
    "pvals_l = p()\n",
    "pdf(paste0(outdir, \"/top_10_go.pdf\"), height=20, width=30)\n",
    "par(mfrow=c(2,2))\n",
    "invisible(p())\n",
    "dev.off()"
   ]
  },
  {
   "cell_type": "code",
   "execution_count": null,
   "id": "8a1787e3",
   "metadata": {},
   "outputs": [],
   "source": [
    "top10_df = as.data.frame(do.call(rbind, pvals_l))\n",
    "top10_genes = merge(top10_df, go_df2, by.x = \"module\", by.y = \"module\")\n",
    "top10_genes = top10_genes[ top10_genes$c.x == top10_genes$c.y,]\n",
    "write.table(top10_genes[,-c(2,3)], sep = \"\\t\", quote=F, row.names=F, file = paste0(outdir, \"/top10_go_genes.txt\"))\n",
    "head(top10_genes[,-c(2,3)])"
   ]
  },
  {
   "cell_type": "code",
   "execution_count": null,
   "id": "2b1d86a8",
   "metadata": {},
   "outputs": [],
   "source": [
    "c"
   ]
  },
  {
   "cell_type": "code",
   "execution_count": null,
   "id": "bebe1290",
   "metadata": {},
   "outputs": [],
   "source": [
    "modules"
   ]
  },
  {
   "cell_type": "code",
   "execution_count": null,
   "id": "a78e44f4",
   "metadata": {},
   "outputs": [],
   "source": [
    "go_terms = read.delim(paste0(outdir, \"/go_analysis_filtered.txt\"), stringsAsFactors = F)\n",
    "head(go_terms)"
   ]
  },
  {
   "cell_type": "code",
   "execution_count": null,
   "id": "abd42f5a",
   "metadata": {},
   "outputs": [],
   "source": [
    "good_terms = c(\"regulation of Wnt signaling pathway\",\n",
    "\"regulation of canonical Wnt signaling pathway\",\n",
    "\"negative regulation of cell activation\",\n",
    "\"regulation of epithelial cell migration\",\n",
    "\"tissue migration\",\n",
    "\"regeneration\",\n",
    "\"negative regulation of cytokine production\",\n",
    "\"leukocyte proliferation\",\n",
    "\"regulation of p38MAPK cascade\",\n",
    "\"p38MAPK cascade\",\n",
    "\"negative regulation of mitotic cell cycle\",\n",
    "\"cell junction organization\")\n",
    "\n",
    "X = go_df[ go_df$module %in% good_terms,]\n",
    "dim(X)"
   ]
  },
  {
   "cell_type": "code",
   "execution_count": null,
   "id": "3b2534a8",
   "metadata": {},
   "outputs": [],
   "source": [
    "X[ order(X$module),]\n",
    "write.table(X, sep = \"\\t\", row.names=F, quote=F, file = paste0(outdir, \"/interesting_go_terms.txt\"))"
   ]
  },
  {
   "cell_type": "markdown",
   "id": "d7b95826",
   "metadata": {},
   "source": [
    "## Supp"
   ]
  },
  {
   "cell_type": "markdown",
   "id": "73257bb0",
   "metadata": {},
   "source": [
    "## tuft-3 vs. tuft-4 signature"
   ]
  },
  {
   "cell_type": "code",
   "execution_count": null,
   "id": "cee7dff1",
   "metadata": {},
   "outputs": [],
   "source": [
    "tuft_genes = read.delim(\"figures/figure3_5/activation_genes_sc_heatmap.txt\", stringsAsFactors = F, row.names=1)\n",
    "\n",
    "tuft4_genes = rownames(tuft_genes)[ tuft_genes$anno == \"Tuft-4\"]\n",
    "score4 = colSums(foc[ tuft4_genes,])\n",
    "\n",
    "tuft3_genes = rownames(tuft_genes)[ tuft_genes$anno == \"Tuft-3\"]\n",
    "score3 = colSums(foc[ tuft3_genes,])\n",
    "\n",
    "plot(score3, score4, pch = 21, bg = sc_cl@colors[ sc_cl@mc[names(score4)]])"
   ]
  },
  {
   "cell_type": "code",
   "execution_count": null,
   "id": "47d6aa3d",
   "metadata": {},
   "outputs": [],
   "source": [
    "pdf(paste0(outdir, \"/score4_on_tuft_pops.pdf\"), useDingbats = F)\n",
    "boxplot(score4[ tuft_cells] ~ sc_names[ tuft_cells], col = name2color[ tuft_pops], axes = F)\n",
    "axis(2, las = 2); axis(1, at = seq_along(tuft_pops), labels = tuft_pops)\n",
    "wilcox.test(score4[ names(which(sc_names == \"Tuft-3\"))], score4[ names(which(sc_names == \"Tuft-1\"))])\n",
    "wilcox.test(score4[ names(which(sc_names == \"Tuft-3\"))], score4[ names(which(sc_names == \"Tuft-2\"))])\n",
    "dev.off()"
   ]
  },
  {
   "cell_type": "code",
   "execution_count": null,
   "id": "c07bd198",
   "metadata": {},
   "outputs": [],
   "source": []
  },
  {
   "cell_type": "code",
   "execution_count": null,
   "id": "99f41db0",
   "metadata": {},
   "outputs": [],
   "source": [
    "ep_pops = setdiff(lin_ord, tuft_pops)\n",
    "ep_pops"
   ]
  },
  {
   "cell_type": "code",
   "execution_count": null,
   "id": "57679db7",
   "metadata": {},
   "outputs": [],
   "source": []
  },
  {
   "cell_type": "code",
   "execution_count": null,
   "id": "56d9abaf",
   "metadata": {},
   "outputs": [],
   "source": [
    "within_genes = sapply(ep_pops, function(x) scr_chi_square_diff_genes(umis, g1 = names(which(sc_names == x)), g2 = names(comb)[sc_names %in% setdiff(ep_pops, x)], \n",
    "                                  pval = 0.01, fdr = T))\n",
    "names(within_genes) = paste0(names(within_genes), \"@\")\n",
    "within_genes = unlist(within_genes)\n",
    "within_genes = table(within_genes, vecsplit(names(within_genes), \"@\", 1))\n",
    "head(within_genes)\n",
    "dim(within_genes)\n",
    "#head(Z)\n"
   ]
  },
  {
   "cell_type": "code",
   "execution_count": null,
   "id": "361dcd2e",
   "metadata": {},
   "outputs": [],
   "source": [
    "table(sc_names[ good_cells])"
   ]
  },
  {
   "cell_type": "code",
   "execution_count": null,
   "id": "8acc2512",
   "metadata": {},
   "outputs": [],
   "source": [
    "\n",
    "m = t(apply(umis_n[names(which(rowSums(umis[,good_cells]) > 50)), good_cells], 1, tapply, sc_names[ good_cells], mean))\n",
    "m = m[, names(which(table(sc_names[ good_cells]) > 20))]\n",
    "message(nrow(m), \" genes with >100 total UMI\")\n",
    "head(m)"
   ]
  },
  {
   "cell_type": "code",
   "execution_count": null,
   "id": "6e8eff7f",
   "metadata": {},
   "outputs": [],
   "source": [
    "Z2 = log2((reg + m[,ep_pops]) / (reg + apply(m[,ep_pops], 1, mean)))\n",
    "shared = intersect(rownames(within_genes), rownames(Z2))\n",
    "table(rowSums(within_genes[shared,] == 1 & Z2[ shared, colnames(within_genes)] > 1))"
   ]
  },
  {
   "cell_type": "code",
   "execution_count": null,
   "id": "109db67c",
   "metadata": {
    "scrolled": true
   },
   "outputs": [],
   "source": [
    "double_within = within_genes[shared,] == 1 & Z2[ shared, colnames(within_genes)] > 1\n",
    "colSums(double_within)"
   ]
  },
  {
   "cell_type": "code",
   "execution_count": null,
   "id": "8730d3b5",
   "metadata": {},
   "outputs": [],
   "source": [
    "double_within = double_within[ rowSums(double_within) > 0,]\n",
    "genes = union(rownames(double_within), core_genes)\n",
    "gene_anno = rep(\"Core\", length(genes)); names(gene_anno) = genes\n",
    "gene_anno[ rownames(double_within)] = colnames(double_within)[ max.col(double_within)]\n",
    "table(gene_anno)"
   ]
  },
  {
   "cell_type": "code",
   "execution_count": null,
   "id": "528c53c2",
   "metadata": {},
   "outputs": [],
   "source": [
    "rel_genes = names(gene_anno)[ gene_anno %in% ep_pops]\n",
    "\n",
    "df = data.frame(round(Z2[rel_genes,],3), anno = gene_anno[ rel_genes], umicount = rowSums(umis[rel_genes, tuft_cells ]))\n",
    "X = df[ order(df$anno, df$umicount),]\n",
    "\n",
    "dim(X)\n",
    "write.table(X, sep = \"\\t\", quote=F, col.names=NA, file = paste0(outdir, \"/epithelial_genes_sc_heatmap.txt\"))"
   ]
  },
  {
   "cell_type": "code",
   "execution_count": null,
   "id": "bc3cb0dc",
   "metadata": {
    "scrolled": true
   },
   "outputs": [],
   "source": [
    "good_genes = intersect(names(gene_anno), names(which(apply(Z,1,max) > 1)))\n",
    "gene_score = rowSums(umis[good_genes, tuft_cells]) #apply(Z[good_genes,], 1, function(x) mean(x[ x > 1]))\n",
    "#disp_genes = #unlist(tapply(gene_score, gene_anno[ good_genes], function(x) names(head(sort(x,T),7))))\n",
    "#    c(\"TOP2A\", \"STMN1\", \"NOS2\", \"MKI67\", \"CENPF\", \"MCM7\", \"CST3\", #Tuft_3\n",
    "#         \"VIPR1\", \"VIPR1-AS1\", \"TACSTD2\", \"ADI1\", \"ATP12A\", \"SLC16A1\", \"PTPRG\", #Tuft_4\n",
    "#         \"RGS13\", \"CD164\", \"HPGDS\", \"CREG1\", \"CAT\", \"PTPRN2\", \"DEFB1\",\n",
    "         \n",
    "#disp_genes = c(\"PLA2G15\", \"PLA2G12A\", \"PLA2G6\", \"CHPT1\", #Tuft_2_Jochem\n",
    "#         \"MKI67\", \"TOP2A\", \"TUBB\", \"CKS1B\", #Tuft_3_Jochem\n",
    "#          \"CCL20\", \"CCL25\", \"FCGR2A\", \"HCK\", \"VIPR1\", \"SOCS1\", \"SOCS3\", \"SOCS4\", \"IL10\", \n",
    "#          \"CD274\", \"IKBKE\", \"NFKBIZ\", \"TNFRSF1B\", \"INPP5D\", \"HBEGF\", \"EREG\", \"AREG\", \"FZD5\", \"WNT5B\") #Tuft_4_Jochem\n",
    "disp_genes = rownames(X); #setdiff(read.table(\"figures//figure3_4/heatmap_genes.txt\", stringsAsFactors = F)[[1]], \"ALOX5AP\")\n",
    "table(gene_anno[disp_genes])"
   ]
  },
  {
   "cell_type": "code",
   "execution_count": null,
   "id": "055c9aa9",
   "metadata": {
    "scrolled": true
   },
   "outputs": [],
   "source": [
    "ep_cells = names(sc_names)[ sc_names %in% ep_pops]\n",
    "ep_mc = as.numeric(names(table(sc_cl@mc[ ep_cells])))\n",
    "length(ep_cells)"
   ]
  },
  {
   "cell_type": "code",
   "execution_count": null,
   "id": "83e16334",
   "metadata": {},
   "outputs": [],
   "source": [
    "IM = lfp[ disp_genes,]\n",
    "vct = factor(color2name[ sc_cl@colors[ ep_mc]], levels = lin_ord); names(vct) = seq_along(vct)\n",
    "hct = factor(gene_anno[disp_genes], levels = c(\"Core\", tuft_pops)); \n",
    "names(hct) = disp_genes\n",
    "IM = IM[,names(sort(vct))]; IM = IM[ order(max.col(IM)),]\n",
    "image.2(IM, b=T, vct=vct[ colnames(IM)]) #, hct = hct[ rownames(IM)])"
   ]
  },
  {
   "cell_type": "code",
   "execution_count": null,
   "id": "f618492f",
   "metadata": {},
   "outputs": [],
   "source": [
    "disp_genes = rev(read.table(paste0(outdir, \"/epithelial_genes_sc_heatmap.text\"), stringsAsFactors = F)[[1]])\n",
    "disp_genes"
   ]
  },
  {
   "cell_type": "code",
   "execution_count": null,
   "id": "318957e4",
   "metadata": {},
   "outputs": [],
   "source": [
    "#disp_genes = names(hct)[hct %in% c(\"tufts_RGS13\", \"tuft_cc\", \"tufts_ALOX5AP_activated\")]\n",
    "\n",
    "grad = colorRampPalette(c(\"white\", brewer.pal(9, \"YlOrBr\")))(1000)\n",
    "IM = log(1 + 7 * umis_n[ disp_genes, ep_cells])\n",
    "\n",
    "vct = factor(sc_names[colnames(IM)], levels = lin_ord); names(vct) = colnames(IM)\n",
    "good_pops = names(which(table(vct) > 20))\n",
    "IM = IM[, vct[colnames(IM)] %in% good_pops]\n",
    "vct = factor(vct[ colnames(IM)], levels = good_pops); names(vct) = colnames(IM)\n",
    "IM = IM[,names(sort(vct[ colnames(IM)]))]; \n",
    "IM = IM[ order(max.col(Z2[ rownames(IM),])),]\n",
    "p = function() {\n",
    "    par(mar = c(0.5, 10, 0.5, 0.5), fig = c(0,0.9,0.1,1))\n",
    "    image.2(IM, b=F, vct=vct[ colnames(IM)], col=grad, annotate=\"rows\"); box()\n",
    "    par(fig = c(0,0.9,0,0.1), new=T)\n",
    "    image(matrix(seq_along(colnames(IM))), axes=F, col = sc_cl@colors[ sc_cl@mc[ colnames(IM)]]); box()\n",
    "    par(fig = c(0.9,1,0.3,0.7), new=T, mar = c(0.5,3,0.5,0.5))\n",
    "    image(y = seq(min(IM), max(IM), length.out = length(grad)), t(seq_along(grad)), col=grad, axes=F)\n",
    "    axis(2,las=2)\n",
    "    box()\n",
    "}\n",
    "\n",
    "#p()"
   ]
  },
  {
   "cell_type": "code",
   "execution_count": null,
   "id": "eb7d06c2",
   "metadata": {},
   "outputs": [],
   "source": [
    "pdf(paste0(outdir, \"/epithelial_genes_sc_heatmap.pdf\"), height=10, width=10, useDingbats = F)\n",
    "p()\n",
    "dev.off()\n",
    "\n",
    "IM = IM / apply(IM, 1, quantile, 0.999)\n",
    "IM = pmin(IM, 1)\n",
    "\n",
    "pdf(paste0(outdir, \"/epithelial_genes_sc_heatmap_row_norm.pdf\"), height=10, width=10, useDingbats = F)\n",
    "p()\n",
    "dev.off()\n",
    "\n",
    "#png(paste0(outdir, \"/activation_genes_sc_heatmap.png\"), height=max(2000, nrow(IM) * 12), width=1000)\n",
    "#p()\n",
    "#dev.off()"
   ]
  },
  {
   "cell_type": "markdown",
   "id": "825d5ff3",
   "metadata": {},
   "source": [
    "write.table(rev(rownames(IM)), quote=F, row.names=F, file = paste0(outdir, \"/epithelial_genes_sc_heatmap.text\"))"
   ]
  },
  {
   "cell_type": "markdown",
   "id": "e18d4672",
   "metadata": {},
   "source": [
    "## OLD"
   ]
  },
  {
   "cell_type": "code",
   "execution_count": null,
   "id": "7e3b0ab7",
   "metadata": {},
   "outputs": [],
   "source": [
    "head(comb)\n",
    "m = t(apply(umis_n[names(which(rowSums(umis[,good_cells]) > 50)), good_cells], 1, tapply, comb[ good_cells], mean))\n",
    "m = m[, names(which(table(comb[ good_cells]) > 20))]\n",
    "message(nrow(m), \" genes with >50 total UMI\")\n",
    "head(m)"
   ]
  },
  {
   "cell_type": "code",
   "execution_count": null,
   "id": "c371a66d",
   "metadata": {},
   "outputs": [],
   "source": [
    "reg=0.04\n",
    "\n",
    "z = log2((reg + m[,\"no_cyto@tufts_ALOX5AP_SOX4\"]) / (reg + m[,\"no_cyto@tufts_ALOX5AP\"]))\n",
    "\n",
    "disp_fc = c(\n",
    "    head(sort(z,T),40),\n",
    "    head(sort(z,F),40)\n",
    ")\n",
    "\n",
    "disp_fc\n",
    "disp_genes = names(disp_fc)\n",
    "\n",
    "p = function() {\n",
    "        xy_scatter_genes(m[,\"no_cyto@tufts_ALOX5AP\"], m[,\"no_cyto@tufts_ALOX5AP_SOX4\"], reg=reg, disp_genes = disp_genes, text=T, col = c(\"gray\", \"tomato2\"))\n",
    "}\n",
    "\n",
    "p()\n",
    "png(paste0(outdir, \"/no_cyto_tuft_diff_exp.png\"), height=1500, width=1500)\n",
    "p()\n",
    "dev.off()\n",
    "\n"
   ]
  },
  {
   "cell_type": "code",
   "execution_count": null,
   "id": "d9c25b29",
   "metadata": {},
   "outputs": [],
   "source": [
    "samp2treat = factor(vecsplit(colnames(m), \"@\", 1), levels = c(\"no_cyto\", \"IL4+IL13\"))\n",
    "samp2pop = vecsplit(colnames(m), \"@\", 2)\n",
    "samp2pop = factor(samp2pop, levels = intersect(lin_ord, samp2pop))\n",
    "summarize.table(table(samp2pop, samp2treat))"
   ]
  },
  {
   "cell_type": "code",
   "execution_count": null,
   "id": "7bb7e55c",
   "metadata": {},
   "outputs": [],
   "source": [
    "comb2 = paste0(cell_stats[ good_cells, \"treatment\"], \"@\", ifelse(sc_names[ good_cells] %in% tuft_pops, \"Tuft\", \"Epithel\"))\n",
    "names(comb2) = good_cells\n",
    "\n",
    "summarize.table(table(sc_names[ good_cells] %in% tuft_pops, cell_stats[ good_cells, \"treatment\"]))\n",
    "m2 = t(apply(umis_n[rownames(m), good_cells], 1, tapply, comb2[ good_cells], mean))\n",
    "head(m2)"
   ]
  },
  {
   "cell_type": "code",
   "execution_count": null,
   "id": "9930af90",
   "metadata": {},
   "outputs": [],
   "source": [
    "reg = 0.02\n",
    "\n",
    "z_naive = log2((reg + m2[,\"no_cyto@Tuft\"]) / (reg + m2[,\"no_cyto@Epithel\"]))\n",
    "z_activated = log2((reg + m2[,\"IL4+IL13@Tuft\"]) / (reg + m2[,\"IL4+IL13@Epithel\"]))\n",
    "\n",
    "diff_genes = union(scr_chi_square_diff_genes(umis, g1 = names(which(comb2 == \"IL4+IL13@Tuft\")), g2 = names(which(comb2 == \"IL4+IL13@Epithel\")), \n",
    "                                  pval = 0.01, fdr = T),\n",
    "                   scr_chi_square_diff_genes(umis, g1 = names(which(comb2 == \"no_cyto@Tuft\")), g2 = names(which(comb2 == \"no_cyto@Epithel\")), \n",
    "                                  pval = 0.01, fdr = T))\n",
    "                   "
   ]
  },
  {
   "cell_type": "code",
   "execution_count": null,
   "id": "e8c54ca9",
   "metadata": {},
   "outputs": [],
   "source": [
    "z_tuft = log2((reg + m2[,\"IL4+IL13@Tuft\"]) / (reg + m2[,\"no_cyto@Tuft\"]))\n",
    "\n",
    "disp_genes = intersect(diff_genes, names(which(z_naive > 1 | z_activated > 1)))\n",
    "message(length(disp_genes), \" differential genes\")\n",
    "\n",
    "z_mean = rowMeans(cbind(z_naive, z_activated))\n",
    "gene_type = cut(z_tuft[ disp_genes], breaks = c(-Inf, -1,1, Inf), include.lowest = T)\n",
    "\n",
    "df = data.frame(x = z_mean, y = z_tuft, display = names(z_mean) %in% disp_genes, color = as.character(\"gray\"))\n",
    "df$color = as.vector(df$color)\n",
    "\n",
    "df[ disp_genes, \"color\"] = rainbow(3, v=0.8)[ as.numeric(gene_type)]\n",
    "df$rx = round(df$x / 5,2); df$ry = round(df$y / 5,2)\n",
    "df = df[ !duplicated(df[,c(\"rx\", \"ry\", \"color\")]),]\n",
    "df = df[ order(df$display),]\n",
    "dim(df)\n",
    "\n",
    "p = function() {\n",
    "    with(df, plot(x, y, pch=20, col=color, axes=F, xlab = \"Log2FC (Tuft / Epithel)\", ylab = \"Log2FC (Activated / naive)\")); \n",
    "    axis(1); axis(2, las=2)\n",
    "}\n",
    "\n",
    "p()\n",
    "pdf(paste0(outdir, \"/tuft_vs_activation_scatter.pdf\"), useDingbats=F)\n",
    "p()\n",
    "dev.off()"
   ]
  },
  {
   "cell_type": "code",
   "execution_count": null,
   "id": "1abfea24",
   "metadata": {},
   "outputs": [],
   "source": [
    "xy_scatter_genes(m2[,\"no_cyto@Tuft\"], m2[,\"IL4+IL13@Tuft\"], reg = 0.02)"
   ]
  },
  {
   "cell_type": "code",
   "execution_count": null,
   "id": "db4ccf11",
   "metadata": {},
   "outputs": [],
   "source": [
    "disp_genes = union(names(c(head(sort(z_tuft), 20), head(sort(z_tuft, T), 20))),\n",
    "                   c(\"TACSTD2\"))\n",
    "disp_genes\n",
    "\n",
    "df = data.frame(x = log2(reg + m2[,\"no_cyto@Tuft\"]), \n",
    "                y = log2(reg + m2[,\"IL4+IL13@Tuft\"]))\n",
    "#df = data.frame(log2(m + reg), z); colnames(df) = c(\"x\", \"y\", \"z\")\n",
    "df$rx = round(df$x, 2); df$ry = round(df$y, 2)\n",
    "df$text = ifelse(rownames(df) %in% disp_genes, rownames(df), \"\")\n",
    "df$color = df$text != \"\"\n",
    "df = df[!duplicated(df[,c(\"color\", \"rx\", \"ry\")]),]\n",
    "df = df[order(df$color),] # put colored genes on top of uncolored genes\n",
    "lim = quantile(c(df$x, df$y), c(0,1)) # define symmetric x and y limits\n",
    "\n",
    "g = ggplot(df, aes(x,y, color = factor(color), label=text)) + geom_point() +\n",
    "        geom_abline(slope=1, intercept=-1, lty=2, color = \"gray20\") + geom_abline(slope=1, intercept=1, lty=2, color = \"gray20\") +\n",
    "        geom_abline(slope=1, intercept=0, lty=1) + xlim(lim) + ylim(lim) +\n",
    "        geom_text_repel(color=\"black\", segment.color = \"gray20\", segment.alpha = 0.5, nudge_x=0.05, nudge_y=0.1) + scale_color_manual(values=c(\"gray70\", \"tomato2\")) +\n",
    "        theme(legend.position = \"none\")\n",
    "\n",
    "g\n",
    "ggsave(paste0(outdir, \"/activated_vs_naive_scatter.pdf\"),\n",
    "        g, useDingbats=F, height=10, width=10)\n"
   ]
  },
  {
   "cell_type": "code",
   "execution_count": null,
   "id": "47631ef4",
   "metadata": {},
   "outputs": [],
   "source": [
    "z_tuft[c(\"ASCL1\", \"ASCL2\", \"OLFM4\")]"
   ]
  },
  {
   "cell_type": "code",
   "execution_count": null,
   "id": "2207db72",
   "metadata": {},
   "outputs": [],
   "source": [
    "write.table(z_tuft, sep = \"\\t\", quote=F, col.names=NA, file = paste0(outdir, \"/cytokine_effect_log2FC.txt\"))"
   ]
  },
  {
   "cell_type": "code",
   "execution_count": null,
   "id": "c366d37d",
   "metadata": {},
   "outputs": [],
   "source": [
    "gene_anno = c(\"Naive\", \"Core\", \"Activated\")[ as.numeric(gene_type)]\n",
    "names(gene_anno) = disp_genes\n",
    "table(gene_anno)\n",
    "write.table(sort(gene_anno), sep = \"\\t\", quote=F)\n",
    "write.table(sort(gene_anno), sep = \"\\t\", quote=F, file = paste0(outdir, \"/tuft_gene_types.txt\"))"
   ]
  },
  {
   "cell_type": "code",
   "execution_count": null,
   "id": "b77e93ee",
   "metadata": {},
   "outputs": [],
   "source": [
    "df = data.frame(gene_anno, \n",
    "                activated_fc = z_activated[ names(gene_anno)], \n",
    "                naive_fc = z_naive[ names(gene_anno)], \n",
    "                tuft_fc = z_tuft[ names(gene_anno)])\n",
    "head(df)"
   ]
  },
  {
   "cell_type": "markdown",
   "id": "8e9a5e83",
   "metadata": {},
   "source": [
    "Create heatmap of selected genes"
   ]
  },
  {
   "cell_type": "markdown",
   "id": "6ec8de98",
   "metadata": {},
   "source": [
    "Reannotate MC:"
   ]
  },
  {
   "cell_type": "code",
   "execution_count": null,
   "id": "228d6c03",
   "metadata": {},
   "outputs": [],
   "source": [
    "X = plot_two_mc_fp(id_f, \"17\", \"24\")"
   ]
  },
  {
   "cell_type": "code",
   "execution_count": null,
   "id": "f7cfaed8",
   "metadata": {},
   "outputs": [],
   "source": [
    "df = data.frame(color = sc_cl@colors, anno = color2name[ sc_cl@colors])\n",
    "rownames(df) = seq_along(sc_cl@colors)\n",
    "write.table(df, sep = \"\\t\", quote=F, col.names=NA, file = \"config/organoid_annotation.txt\")"
   ]
  },
  {
   "cell_type": "code",
   "execution_count": null,
   "id": "f791071d",
   "metadata": {},
   "outputs": [],
   "source": [
    "annotations = read.delim(\"config/organoid_annotation.txt\", stringsAsFactors = F, row.names=1)\n",
    "\n",
    "colors = annotations$color\n",
    "sum(colors != sc_cl@colors)"
   ]
  },
  {
   "cell_type": "code",
   "execution_count": null,
   "id": "c719e43d",
   "metadata": {},
   "outputs": [],
   "source": [
    "color_key = merge(unique(annotations), sc_cl@color_key, by.x = \"anno\", by.y = \"group\", all.x = T)\n",
    "color_key = color_key[,c(3,1,2)]\n",
    "colnames(color_key) = colnames(sc_cl@color_key)\n",
    "color_key\n",
    "sc_cl@color_key\n",
    "\n",
    "new_cl = sc_cl\n",
    "new_cl@colors = colors\n",
    "new_cl@color_key = color_key\n",
    "\n",
    "scdb_add_mc(paste0(id, \"_reannotated\"), new_cl)\n"
   ]
  },
  {
   "cell_type": "markdown",
   "id": "e0bc85a1",
   "metadata": {},
   "source": [
    "## XXX"
   ]
  },
  {
   "cell_type": "code",
   "execution_count": null,
   "id": "b917e5ab",
   "metadata": {},
   "outputs": [],
   "source": [
    "id_f"
   ]
  }
 ],
 "metadata": {
  "kernelspec": {
   "display_name": "R",
   "language": "R",
   "name": "ir"
  },
  "language_info": {
   "codemirror_mode": "r",
   "file_extension": ".r",
   "mimetype": "text/x-r-source",
   "name": "R",
   "pygments_lexer": "r",
   "version": "3.6.1"
  }
 },
 "nbformat": 4,
 "nbformat_minor": 5
}
